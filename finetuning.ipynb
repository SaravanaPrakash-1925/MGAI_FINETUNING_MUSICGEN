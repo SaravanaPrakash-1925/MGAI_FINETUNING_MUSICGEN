{
 "cells": [
  {
   "cell_type": "code",
   "execution_count": null,
   "id": "fa9a52aa-619c-4599-9972-7f788e3a8033",
   "metadata": {},
   "outputs": [],
   "source": [
    "!pwd"
   ]
  },
  {
   "cell_type": "code",
   "execution_count": 4,
   "id": "221a7de2-43e5-4a0a-b097-d29d74cf1cd7",
   "metadata": {
    "scrolled": true
   },
   "outputs": [
    {
     "name": "stderr",
     "output_type": "stream",
     "text": [
      "  2%|▏         | 1/50 [00:06<05:00,  6.13s/it]"
     ]
    },
    {
     "name": "stdout",
     "output_type": "stream",
     "text": [
      "Instrumental saved: /home/ubuntu/indie-rock_instrumentals/David Bowie - God Knows I'm Good - 2015 Remaster_instrumental.wav\n"
     ]
    },
    {
     "name": "stderr",
     "output_type": "stream",
     "text": [
      "  4%|▍         | 2/50 [00:09<03:30,  4.39s/it]"
     ]
    },
    {
     "name": "stdout",
     "output_type": "stream",
     "text": [
      "Instrumental saved: /home/ubuntu/indie-rock_instrumentals/Camper Van Beethoven - Take the Skinheads Bowling_instrumental.wav\n"
     ]
    },
    {
     "name": "stderr",
     "output_type": "stream",
     "text": [
      "  6%|▌         | 3/50 [00:16<04:21,  5.55s/it]"
     ]
    },
    {
     "name": "stdout",
     "output_type": "stream",
     "text": [
      "Instrumental saved: /home/ubuntu/indie-rock_instrumentals/Animal Collective - My Girls_instrumental.wav\n"
     ]
    },
    {
     "name": "stderr",
     "output_type": "stream",
     "text": [
      "  8%|▊         | 4/50 [00:22<04:31,  5.89s/it]"
     ]
    },
    {
     "name": "stdout",
     "output_type": "stream",
     "text": [
      "Instrumental saved: /home/ubuntu/indie-rock_instrumentals/Bon Iver - Holocene_instrumental.wav\n"
     ]
    },
    {
     "name": "stderr",
     "output_type": "stream",
     "text": [
      " 10%|█         | 5/50 [00:27<04:07,  5.50s/it]"
     ]
    },
    {
     "name": "stdout",
     "output_type": "stream",
     "text": [
      "Instrumental saved: /home/ubuntu/indie-rock_instrumentals/Brandtson - Words For You_instrumental.wav\n"
     ]
    },
    {
     "name": "stderr",
     "output_type": "stream",
     "text": [
      " 12%|█▏        | 6/50 [00:33<04:13,  5.77s/it]"
     ]
    },
    {
     "name": "stdout",
     "output_type": "stream",
     "text": [
      "Instrumental saved: /home/ubuntu/indie-rock_instrumentals/A Thousand Details - Skulls and Gulls - Space Modular Remix_instrumental.wav\n"
     ]
    },
    {
     "name": "stderr",
     "output_type": "stream",
     "text": [
      " 14%|█▍        | 7/50 [00:38<03:50,  5.35s/it]"
     ]
    },
    {
     "name": "stdout",
     "output_type": "stream",
     "text": [
      "Instrumental saved: /home/ubuntu/indie-rock_instrumentals/Dashboard Confessional - Screaming Infidelities_instrumental.wav\n"
     ]
    },
    {
     "name": "stderr",
     "output_type": "stream",
     "text": [
      " 16%|█▌        | 8/50 [00:44<03:50,  5.49s/it]"
     ]
    },
    {
     "name": "stdout",
     "output_type": "stream",
     "text": [
      "Instrumental saved: /home/ubuntu/indie-rock_instrumentals/Dismemberment Plan - A Life of Possibilities_instrumental.wav\n"
     ]
    },
    {
     "name": "stderr",
     "output_type": "stream",
     "text": [
      " 18%|█▊        | 9/50 [00:47<03:19,  4.86s/it]"
     ]
    },
    {
     "name": "stdout",
     "output_type": "stream",
     "text": [
      "Instrumental saved: /home/ubuntu/indie-rock_instrumentals/David Bowie - Rebel Rebel - Live; 2005 Mix; 2016 Remaster_instrumental.wav\n"
     ]
    },
    {
     "name": "stderr",
     "output_type": "stream",
     "text": [
      " 20%|██        | 10/50 [00:51<02:59,  4.50s/it]"
     ]
    },
    {
     "name": "stdout",
     "output_type": "stream",
     "text": [
      "Instrumental saved: /home/ubuntu/indie-rock_instrumentals/Belle and Sebastian - Sukie in the Graveyard_instrumental.wav\n"
     ]
    },
    {
     "name": "stderr",
     "output_type": "stream",
     "text": [
      " 22%|██▏       | 11/50 [00:55<02:58,  4.57s/it]"
     ]
    },
    {
     "name": "stdout",
     "output_type": "stream",
     "text": [
      "Instrumental saved: /home/ubuntu/indie-rock_instrumentals/Christie Front Drive - Radio_instrumental.wav\n"
     ]
    },
    {
     "name": "stderr",
     "output_type": "stream",
     "text": [
      " 24%|██▍       | 12/50 [00:59<02:47,  4.42s/it]"
     ]
    },
    {
     "name": "stdout",
     "output_type": "stream",
     "text": [
      "Instrumental saved: /home/ubuntu/indie-rock_instrumentals/David Bowie - Suffragette City - Sounds Of The 70s- John Peel - recorded 16th May 1972_instrumental.wav\n"
     ]
    },
    {
     "name": "stderr",
     "output_type": "stream",
     "text": [
      " 26%|██▌       | 13/50 [01:06<03:03,  4.95s/it]"
     ]
    },
    {
     "name": "stdout",
     "output_type": "stream",
     "text": [
      "Instrumental saved: /home/ubuntu/indie-rock_instrumentals/Band of Horses - The Funeral - Live Acoustic_instrumental.wav\n"
     ]
    },
    {
     "name": "stderr",
     "output_type": "stream",
     "text": [
      " 28%|██▊       | 14/50 [01:09<02:39,  4.44s/it]"
     ]
    },
    {
     "name": "stdout",
     "output_type": "stream",
     "text": [
      "Instrumental saved: /home/ubuntu/indie-rock_instrumentals/Archers Of Loaf - Freezing Point - Vs. The Greatest of All Time_instrumental.wav\n"
     ]
    },
    {
     "name": "stderr",
     "output_type": "stream",
     "text": [
      " 30%|███       | 15/50 [01:14<02:42,  4.65s/it]"
     ]
    },
    {
     "name": "stdout",
     "output_type": "stream",
     "text": [
      "Instrumental saved: /home/ubuntu/indie-rock_instrumentals/Arctic Monkeys - 505_instrumental.wav\n"
     ]
    },
    {
     "name": "stderr",
     "output_type": "stream",
     "text": [
      " 32%|███▏      | 16/50 [01:18<02:32,  4.50s/it]"
     ]
    },
    {
     "name": "stdout",
     "output_type": "stream",
     "text": [
      "Instrumental saved: /home/ubuntu/indie-rock_instrumentals/David Bowie - Ziggy Stardust - Sounds Of The 70s- Bob Harris - recorded 18th January 1972_instrumental.wav\n"
     ]
    },
    {
     "name": "stderr",
     "output_type": "stream",
     "text": [
      " 34%|███▍      | 17/50 [01:22<02:23,  4.35s/it]"
     ]
    },
    {
     "name": "stdout",
     "output_type": "stream",
     "text": [
      "Instrumental saved: /home/ubuntu/indie-rock_instrumentals/Aztec Camera - Oblivious_instrumental.wav\n"
     ]
    },
    {
     "name": "stderr",
     "output_type": "stream",
     "text": [
      " 36%|███▌      | 18/50 [01:28<02:34,  4.83s/it]"
     ]
    },
    {
     "name": "stdout",
     "output_type": "stream",
     "text": [
      "Instrumental saved: /home/ubuntu/indie-rock_instrumentals/Butthole Surfers - Pepper_instrumental.wav\n"
     ]
    },
    {
     "name": "stderr",
     "output_type": "stream",
     "text": [
      " 38%|███▊      | 19/50 [01:35<02:45,  5.32s/it]"
     ]
    },
    {
     "name": "stdout",
     "output_type": "stream",
     "text": [
      "Instrumental saved: /home/ubuntu/indie-rock_instrumentals/Arcade Fire - Sprawl II (Mountains Beyond Mountains)_instrumental.wav\n"
     ]
    },
    {
     "name": "stderr",
     "output_type": "stream",
     "text": [
      " 40%|████      | 20/50 [01:42<02:54,  5.80s/it]"
     ]
    },
    {
     "name": "stdout",
     "output_type": "stream",
     "text": [
      "Instrumental saved: /home/ubuntu/indie-rock_instrumentals/Arcade Fire - No Cars Go_instrumental.wav\n"
     ]
    },
    {
     "name": "stderr",
     "output_type": "stream",
     "text": [
      " 42%|████▏     | 21/50 [01:47<02:45,  5.69s/it]"
     ]
    },
    {
     "name": "stdout",
     "output_type": "stream",
     "text": [
      "Instrumental saved: /home/ubuntu/indie-rock_instrumentals/American Football - Never Meant_instrumental.wav\n"
     ]
    },
    {
     "name": "stderr",
     "output_type": "stream",
     "text": [
      " 44%|████▍     | 22/50 [01:55<02:57,  6.32s/it]"
     ]
    },
    {
     "name": "stdout",
     "output_type": "stream",
     "text": [
      "Instrumental saved: /home/ubuntu/indie-rock_instrumentals/Battles - Atlas_instrumental.wav\n"
     ]
    },
    {
     "name": "stderr",
     "output_type": "stream",
     "text": [
      " 46%|████▌     | 23/50 [02:00<02:38,  5.86s/it]"
     ]
    },
    {
     "name": "stdout",
     "output_type": "stream",
     "text": [
      "Instrumental saved: /home/ubuntu/indie-rock_instrumentals/Braid - The New Nathan Detroits_instrumental.wav\n"
     ]
    },
    {
     "name": "stderr",
     "output_type": "stream",
     "text": [
      " 48%|████▊     | 24/50 [02:05<02:30,  5.80s/it]"
     ]
    },
    {
     "name": "stdout",
     "output_type": "stream",
     "text": [
      "Instrumental saved: /home/ubuntu/indie-rock_instrumentals/David Bowie - Life On Mars - Live, Glastonbury, 2000_instrumental.wav\n"
     ]
    },
    {
     "name": "stderr",
     "output_type": "stream",
     "text": [
      " 50%|█████     | 25/50 [02:08<02:01,  4.85s/it]"
     ]
    },
    {
     "name": "stdout",
     "output_type": "stream",
     "text": [
      "Instrumental saved: /home/ubuntu/indie-rock_instrumentals/Archers Of Loaf - Web in Front_instrumental.wav\n"
     ]
    },
    {
     "name": "stderr",
     "output_type": "stream",
     "text": [
      " 52%|█████▏    | 26/50 [02:14<02:02,  5.10s/it]"
     ]
    },
    {
     "name": "stdout",
     "output_type": "stream",
     "text": [
      "Instrumental saved: /home/ubuntu/indie-rock_instrumentals/Don Caballero - In the Absence of Strong Evidence to the Contrary, One May Step Out of the Way of the Charging Bull_instrumental.wav\n"
     ]
    },
    {
     "name": "stderr",
     "output_type": "stream",
     "text": [
      " 54%|█████▍    | 27/50 [02:23<02:28,  6.45s/it]"
     ]
    },
    {
     "name": "stdout",
     "output_type": "stream",
     "text": [
      "Instrumental saved: /home/ubuntu/indie-rock_instrumentals/David Bowie, Jeff Beck - Medley- The Jean Genie  Love Me Do  The Jean Genie (Live) [feat. Jeff Beck]_instrumental.wav\n"
     ]
    },
    {
     "name": "stderr",
     "output_type": "stream",
     "text": [
      " 56%|█████▌    | 28/50 [02:27<02:05,  5.72s/it]"
     ]
    },
    {
     "name": "stdout",
     "output_type": "stream",
     "text": [
      "Instrumental saved: /home/ubuntu/indie-rock_instrumentals/Dinosaur Jr. - Freak Scene - Live_instrumental.wav\n"
     ]
    },
    {
     "name": "stderr",
     "output_type": "stream",
     "text": [
      " 58%|█████▊    | 29/50 [02:35<02:10,  6.22s/it]"
     ]
    },
    {
     "name": "stdout",
     "output_type": "stream",
     "text": [
      "Instrumental saved: /home/ubuntu/indie-rock_instrumentals/Big Black - Kerosene_instrumental.wav\n"
     ]
    },
    {
     "name": "stderr",
     "output_type": "stream",
     "text": [
      " 60%|██████    | 30/50 [02:41<02:08,  6.44s/it]"
     ]
    },
    {
     "name": "stdout",
     "output_type": "stream",
     "text": [
      "Instrumental saved: /home/ubuntu/indie-rock_instrumentals/Broken Social Scene - Cause = Time_instrumental.wav\n"
     ]
    },
    {
     "name": "stderr",
     "output_type": "stream",
     "text": [
      " 62%|██████▏   | 31/50 [02:47<01:57,  6.20s/it]"
     ]
    },
    {
     "name": "stdout",
     "output_type": "stream",
     "text": [
      "Instrumental saved: /home/ubuntu/indie-rock_instrumentals/Cut Copy - Lights & Music_instrumental.wav\n"
     ]
    },
    {
     "name": "stderr",
     "output_type": "stream",
     "text": [
      " 64%|██████▍   | 32/50 [02:54<01:56,  6.49s/it]"
     ]
    },
    {
     "name": "stdout",
     "output_type": "stream",
     "text": [
      "Instrumental saved: /home/ubuntu/indie-rock_instrumentals/A Thousand Details, Space Modular - Skulls and Gulls - Space Modular Remix_instrumental.wav\n"
     ]
    },
    {
     "name": "stderr",
     "output_type": "stream",
     "text": [
      " 66%|██████▌   | 33/50 [03:00<01:45,  6.22s/it]"
     ]
    },
    {
     "name": "stdout",
     "output_type": "stream",
     "text": [
      "Instrumental saved: /home/ubuntu/indie-rock_instrumentals/Black Rebel Motorcycle Club - Whatever Happened To My Rock 'N' Roll (Punk Song)_instrumental.wav\n"
     ]
    },
    {
     "name": "stderr",
     "output_type": "stream",
     "text": [
      " 68%|██████▊   | 34/50 [03:06<01:39,  6.22s/it]"
     ]
    },
    {
     "name": "stdout",
     "output_type": "stream",
     "text": [
      "Instrumental saved: /home/ubuntu/indie-rock_instrumentals/Arcade Fire - Rebellion (Lies)_instrumental.wav\n"
     ]
    },
    {
     "name": "stderr",
     "output_type": "stream",
     "text": [
      " 70%|███████   | 35/50 [03:09<01:17,  5.14s/it]"
     ]
    },
    {
     "name": "stdout",
     "output_type": "stream",
     "text": [
      "Instrumental saved: /home/ubuntu/indie-rock_instrumentals/Cap'n Jazz - Oh Messy Life_instrumental.wav\n"
     ]
    },
    {
     "name": "stderr",
     "output_type": "stream",
     "text": [
      " 72%|███████▏  | 36/50 [03:14<01:10,  5.04s/it]"
     ]
    },
    {
     "name": "stdout",
     "output_type": "stream",
     "text": [
      "Instrumental saved: /home/ubuntu/indie-rock_instrumentals/Arcade Fire - Month of May_instrumental.wav\n"
     ]
    },
    {
     "name": "stderr",
     "output_type": "stream",
     "text": [
      " 74%|███████▍  | 37/50 [03:17<01:00,  4.63s/it]"
     ]
    },
    {
     "name": "stdout",
     "output_type": "stream",
     "text": [
      "Instrumental saved: /home/ubuntu/indie-rock_instrumentals/Chavez - Break Up Your Band - 2020 Remaster_instrumental.wav\n"
     ]
    },
    {
     "name": "stderr",
     "output_type": "stream",
     "text": [
      " 76%|███████▌  | 38/50 [03:20<00:48,  4.03s/it]"
     ]
    },
    {
     "name": "stdout",
     "output_type": "stream",
     "text": [
      "Instrumental saved: /home/ubuntu/indie-rock_instrumentals/Belle and Sebastian - A Summer Wasting_instrumental.wav\n"
     ]
    },
    {
     "name": "stderr",
     "output_type": "stream",
     "text": [
      " 78%|███████▊  | 39/50 [03:26<00:52,  4.81s/it]"
     ]
    },
    {
     "name": "stdout",
     "output_type": "stream",
     "text": [
      "Instrumental saved: /home/ubuntu/indie-rock_instrumentals/Arcade Fire - Wake Up_instrumental.wav\n"
     ]
    },
    {
     "name": "stderr",
     "output_type": "stream",
     "text": [
      " 80%|████████  | 40/50 [03:33<00:52,  5.28s/it]"
     ]
    },
    {
     "name": "stdout",
     "output_type": "stream",
     "text": [
      "Instrumental saved: /home/ubuntu/indie-rock_instrumentals/Belle and Sebastian - The Boy With the Arab Strap_instrumental.wav\n"
     ]
    },
    {
     "name": "stderr",
     "output_type": "stream",
     "text": [
      " 82%|████████▏ | 41/50 [03:37<00:43,  4.81s/it]"
     ]
    },
    {
     "name": "stdout",
     "output_type": "stream",
     "text": [
      "Instrumental saved: /home/ubuntu/indie-rock_instrumentals/David Bowie - Modern Love - Moonage Daydream Mix_instrumental.wav\n"
     ]
    },
    {
     "name": "stderr",
     "output_type": "stream",
     "text": [
      " 84%|████████▍ | 42/50 [03:43<00:43,  5.40s/it]"
     ]
    },
    {
     "name": "stdout",
     "output_type": "stream",
     "text": [
      "Instrumental saved: /home/ubuntu/indie-rock_instrumentals/Built To Spill - Carry the Zero_instrumental.wav\n"
     ]
    },
    {
     "name": "stderr",
     "output_type": "stream",
     "text": [
      " 86%|████████▌ | 43/50 [03:48<00:36,  5.19s/it]"
     ]
    },
    {
     "name": "stdout",
     "output_type": "stream",
     "text": [
      "Instrumental saved: /home/ubuntu/indie-rock_instrumentals/Death Cab for Cutie - Soul Meets Body_instrumental.wav\n"
     ]
    },
    {
     "name": "stderr",
     "output_type": "stream",
     "text": [
      " 88%|████████▊ | 44/50 [03:53<00:30,  5.08s/it]"
     ]
    },
    {
     "name": "stdout",
     "output_type": "stream",
     "text": [
      "Instrumental saved: /home/ubuntu/indie-rock_instrumentals/Bon Iver - Skinny Love_instrumental.wav\n"
     ]
    },
    {
     "name": "stderr",
     "output_type": "stream",
     "text": [
      " 90%|█████████ | 45/50 [03:58<00:25,  5.20s/it]"
     ]
    },
    {
     "name": "stdout",
     "output_type": "stream",
     "text": [
      "Instrumental saved: /home/ubuntu/indie-rock_instrumentals/Adorable - Homeboy_instrumental.wav\n"
     ]
    },
    {
     "name": "stderr",
     "output_type": "stream",
     "text": [
      " 92%|█████████▏| 46/50 [04:02<00:19,  4.76s/it]"
     ]
    },
    {
     "name": "stdout",
     "output_type": "stream",
     "text": [
      "Instrumental saved: /home/ubuntu/indie-rock_instrumentals/Art Brut - Formed a Band_instrumental.wav\n"
     ]
    },
    {
     "name": "stderr",
     "output_type": "stream",
     "text": [
      " 94%|█████████▍| 47/50 [04:05<00:12,  4.12s/it]"
     ]
    },
    {
     "name": "stdout",
     "output_type": "stream",
     "text": [
      "Instrumental saved: /home/ubuntu/indie-rock_instrumentals/Dirty Pretty Things - Bang Bang You're Dead_instrumental.wav\n"
     ]
    },
    {
     "name": "stderr",
     "output_type": "stream",
     "text": [
      " 96%|█████████▌| 48/50 [04:08<00:07,  3.96s/it]"
     ]
    },
    {
     "name": "stdout",
     "output_type": "stream",
     "text": [
      "Instrumental saved: /home/ubuntu/indie-rock_instrumentals/Arctic Monkeys - I Bet You Look Good On The Dancefloor_instrumental.wav\n"
     ]
    },
    {
     "name": "stderr",
     "output_type": "stream",
     "text": [
      " 98%|█████████▊| 49/50 [04:12<00:03,  3.97s/it]"
     ]
    },
    {
     "name": "stdout",
     "output_type": "stream",
     "text": [
      "Instrumental saved: /home/ubuntu/indie-rock_instrumentals/Babyshambles - Killamangiro_instrumental.wav\n"
     ]
    },
    {
     "name": "stderr",
     "output_type": "stream",
     "text": [
      "100%|██████████| 50/50 [04:17<00:00,  5.14s/it]"
     ]
    },
    {
     "name": "stdout",
     "output_type": "stream",
     "text": [
      "Instrumental saved: /home/ubuntu/indie-rock_instrumentals/David Bowie - Fashion - Single Version; 2017 Remaster_instrumental.wav\n",
      "Processing complete!\n"
     ]
    },
    {
     "name": "stderr",
     "output_type": "stream",
     "text": [
      "\n"
     ]
    }
   ],
   "source": [
    "import os\n",
    "import numpy as np\n",
    "import torch\n",
    "from pydub import AudioSegment\n",
    "from tqdm import tqdm\n",
    "import demucs.pretrained\n",
    "import torchaudio\n",
    "\n",
    "# Define paths and settings\n",
    "raw_dataset_path = \"/home/ubuntu/indie-rock-50\"  # Path to raw dataset\n",
    "save_path = \"/home/ubuntu/indie-rock_instrumentals\"  # Path to save instrumental audio\n",
    "\n",
    "# Convert MP4 to WAV\n",
    "def convert_mp4_to_wav(file_path):\n",
    "    \"\"\"Convert MP4 file to WAV format\"\"\"\n",
    "    audio = AudioSegment.from_file(file_path)\n",
    "    wav_filename = file_path.replace('.mp4', '.wav')\n",
    "    audio.export(wav_filename, format=\"wav\")\n",
    "    return os.path.basename(wav_filename)\n",
    "\n",
    "# Initialize Demucs separator for vocal removal\n",
    "def initialize_separator():\n",
    "    try:\n",
    "        separator = demucs.pretrained.get_model('htdemucs')  # Better model for vocal separation\n",
    "        if torch.cuda.is_available():\n",
    "            separator = separator.to('cuda')\n",
    "        return separator\n",
    "    except Exception as e:\n",
    "        print(f\"Error loading Demucs model: {e}\")\n",
    "        return None\n",
    "\n",
    "# Remove vocals and return instrumental audio\n",
    "def remove_vocals(audio_tensor, separator, sample_rate):\n",
    "    \"\"\"Remove vocals from audio tensor and return instrumental mix\"\"\"\n",
    "    try:\n",
    "        from demucs.apply import apply_model\n",
    "        from demucs.audio import convert_audio\n",
    "        \n",
    "        # Convert audio to separator's expected format\n",
    "        audio_tensor = convert_audio(audio_tensor, sample_rate, \n",
    "                                   separator.samplerate, separator.audio_channels)\n",
    "        \n",
    "        # Apply separation\n",
    "        with torch.no_grad():\n",
    "            stems = apply_model(separator, audio_tensor[None], \n",
    "                              device='cuda' if torch.cuda.is_available() else 'cpu')\n",
    "        \n",
    "        # Get all stems except vocals\n",
    "        vocal_idx = separator.sources.index('vocals')\n",
    "        instrumental_stems = [stems[0, i] for i in range(len(separator.sources)) if i != vocal_idx]\n",
    "        \n",
    "        # Mix all non-vocal stems\n",
    "        instrumental = torch.stack(instrumental_stems).sum(0)\n",
    "        \n",
    "        return instrumental, separator.samplerate\n",
    "        \n",
    "    except Exception as e:\n",
    "        print(f\"Error in vocal removal: {e}\")\n",
    "        return None, None\n",
    "\n",
    "# Process audio files\n",
    "def process_audio_files(raw_dataset_path, save_path, separator):\n",
    "    if not os.path.exists(raw_dataset_path):\n",
    "        print(f\"Error: Raw dataset path {raw_dataset_path} does not exist\")\n",
    "        return\n",
    "    \n",
    "    for filename in tqdm(os.listdir(raw_dataset_path)):\n",
    "        if filename.endswith(('.mp3', '.wav', '.flac', '.mp4')):\n",
    "            file_path = os.path.join(raw_dataset_path, filename)\n",
    "            \n",
    "            try:\n",
    "                # Handle MP4 conversion\n",
    "                if filename.endswith('.mp4'):\n",
    "                    fname = convert_mp4_to_wav(file_path)\n",
    "                else:\n",
    "                    fname = filename\n",
    "                \n",
    "                # Load audio\n",
    "                audio_path = os.path.join(raw_dataset_path, fname)\n",
    "                audio = AudioSegment.from_file(audio_path)\n",
    "                \n",
    "                # Convert to tensor for vocal removal\n",
    "                if audio.channels == 1:\n",
    "                    audio = audio.set_channels(2)\n",
    "                \n",
    "                samples = np.array(audio.get_array_of_samples(), dtype=np.float32)\n",
    "                samples = samples.reshape((-1, 2)).T\n",
    "                max_val = 2**(audio.sample_width * 8 - 1)\n",
    "                samples = samples / max_val\n",
    "                audio_tensor = torch.from_numpy(samples)\n",
    "                \n",
    "                # Remove vocals\n",
    "                instrumental, out_sr = remove_vocals(audio_tensor, separator, audio.frame_rate)\n",
    "                \n",
    "                # Save instrumental track\n",
    "                output_filename = os.path.join(save_path, f\"{os.path.splitext(fname)[0]}_instrumental.wav\")\n",
    "                if instrumental is not None:\n",
    "                    torchaudio.save(output_filename, instrumental.cpu(), out_sr)\n",
    "                    print(f'Instrumental saved: {output_filename}')\n",
    "                else:\n",
    "                    print(f'Vocal removal failed for {fname}, skipping...')\n",
    "                \n",
    "            except Exception as e:\n",
    "                print(f\"Error processing {filename}: {e}\")\n",
    "                continue\n",
    "\n",
    "# Main execution\n",
    "os.makedirs(save_path, exist_ok=True)\n",
    "separator = initialize_separator()\n",
    "\n",
    "if separator is None:\n",
    "    print(\"Error: Could not initialize vocal separator. Exiting.\")\n",
    "else:\n",
    "    process_audio_files(raw_dataset_path, save_path, separator)\n",
    "    print(\"Processing complete!\")"
   ]
  },
  {
   "cell_type": "code",
   "execution_count": 5,
   "id": "5540c5cc-10df-44ec-970e-30072c88b388",
   "metadata": {},
   "outputs": [
    {
     "name": "stdout",
     "output_type": "stream",
     "text": [
      "/home/ubuntu/audiocraft\n",
      "mkdir: created directory '/home/ubuntu/dataset'\n",
      "mkdir: created directory '/home/ubuntu/dataset/train'\n",
      "mkdir: created directory '/home/ubuntu/audiocraft/egs/music'\n",
      "mkdir: created directory '/home/ubuntu/audiocraft/egs/music/train'\n"
     ]
    },
    {
     "name": "stderr",
     "output_type": "stream",
     "text": [
      "2025-07-31 10:32:45.054284: I tensorflow/core/util/port.cc:110] oneDNN custom operations are on. You may see slightly different numerical results due to floating-point round-off errors from different computation orders. To turn them off, set the environment variable `TF_ENABLE_ONEDNN_OPTS=0`.\n",
      "2025-07-31 10:32:45.056936: I tensorflow/tsl/cuda/cudart_stub.cc:28] Could not find cuda drivers on your machine, GPU will not be used.\n",
      "2025-07-31 10:32:45.111844: I tensorflow/core/platform/cpu_feature_guard.cc:182] This TensorFlow binary is optimized to use available CPU instructions in performance-critical operations.\n",
      "To enable the following instructions: AVX2 AVX512F AVX512_VNNI AVX512_BF16 AVX_VNNI FMA, in other operations, rebuild TensorFlow with the appropriate compiler flags.\n",
      "2025-07-31 10:32:46.020769: W tensorflow/compiler/tf2tensorrt/utils/py_utils.cc:38] TF-TRT Warning: Could not find TensorRT\n",
      "/usr/lib/python3/dist-packages/scipy/__init__.py:146: UserWarning: A NumPy version >=1.17.3 and <1.25.0 is required for this version of SciPy (detected version 1.26.4\n",
      "  warnings.warn(f\"A NumPy version >={np_minversion} and <{np_maxversion}\"\n"
     ]
    }
   ],
   "source": [
    "#@title **<font color='orange'>DEFINE FUNCTIONS AND STUFF</font>**\n",
    "#@title Prepare Tags & Labels\n",
    "\n",
    "ROOT_DIR = '/home/ubuntu'\n",
    "\n",
    "AUDIOCRAFT_DIR = '/home/ubuntu/audiocraft'\n",
    "\n",
    "%cd {AUDIOCRAFT_DIR}\n",
    "\n",
    "DORA_DIR = f'{ROOT_DIR}/dora'\n",
    "\n",
    "CONFIG_DIR = f'{AUDIOCRAFT_DIR}/egs/music'\n",
    "\n",
    "CONFIG_DIR_TRAIN = f'{CONFIG_DIR}/train'\n",
    "\n",
    "CONFIG_FILE_PATH_TRAIN = f'\"{CONFIG_DIR_TRAIN}/data.jsonl\"'\n",
    "\n",
    "DATASET_DIR = f'{ROOT_DIR}/dataset'\n",
    "\n",
    "DATASET_DIR_TRAIN = f'\"{DATASET_DIR}/train\"'\n",
    "\n",
    "%mkdir -pv {DATASET_DIR_TRAIN}\n",
    "\n",
    "%mkdir -pv {CONFIG_DIR_TRAIN}\n",
    "\n",
    "%mkdir -pv {DORA_DIR}\n",
    "\n",
    "# Derived from https://github.com/sakemin/cog-musicgen-fine-tuner/blob/main/train.py\n",
    "\n",
    "import json\n",
    "import logging\n",
    "import os\n",
    "import shutil\n",
    "import subprocess\n",
    "import sys\n",
    "import tempfile\n",
    "import time\n",
    "import warnings\n",
    "\n",
    "import librosa\n",
    "\n",
    "import audiocraft.data.audio_dataset as audio_dataset\n",
    "import numpy as np\n",
    "import subprocess as sp\n",
    "\n",
    "from datetime import datetime\n",
    "from pathlib import Path\n",
    "from pydub import AudioSegment\n",
    "from tqdm import tqdm\n",
    "\n",
    "#######################################################################################################################\n",
    "\n",
    "#os.environ['CUDA_VISIBLE_DEVICES'] = '-1' #'0,1,2,3,4,5,6,7'\n",
    "\n",
    "logging.basicConfig(\n",
    "    format=\"%(asctime)s %(levelname)s [%(name)s] %(message)s\", level=logging.INFO, datefmt=\"%Y-%m-%d %H:%M:%S\"\n",
    ")\n",
    "logging.getLogger(\"py4j\").setLevel(logging.WARNING)\n",
    "logging.getLogger(\"sh.command\").setLevel(logging.ERROR)\n",
    "\n",
    "#######################################################################################################################\n",
    "\n",
    "def get_timestamp():\n",
    "    current_time = datetime.now().strftime('%y%m%d%H%M%S')\n",
    "    return current_time\n",
    "\n",
    "def do_decompress(dataset_path, target_path):\n",
    "    dataset_path = str(dataset_path)\n",
    "    target_path = str(target_path)\n",
    "\n",
    "    if str(dataset_path).rsplit('.', 1)[1] == 'zip':\n",
    "        subprocess.run(['unzip', str(dataset_path), '-d', target_path + '/'])\n",
    "    elif str(dataset_path).rsplit('.', 1)[1] == 'tar':\n",
    "        subprocess.run(['tar', '-xvf', str(dataset_path), '-C', target_path + '/'])\n",
    "    elif str(dataset_path).rsplit('.', 1)[1] == 'gz':\n",
    "        subprocess.run(['tar', '-xvzf', str(dataset_path), '-C', target_path + '/'])\n",
    "    elif str(dataset_path).rsplit('.', 1)[1] == 'tgz':\n",
    "        subprocess.run(['tar', '-xzvf', str(dataset_path), '-C', target_path + '/'])\n",
    "\n",
    "    elif str(dataset_path).rsplit('.', 1)[1] in ['wav', 'mp3', 'flac', 'mp4']:\n",
    "        shutil.move(str(dataset_path), target_path + '/' + str(dataset_path.name))\n",
    "    else:\n",
    "        raise Exception(\"Not supported compression file type. The file type should be one of 'zip', 'tar', 'tar.gz', 'tgz' types of compression file, or a single 'wav', 'mp3', 'flac', 'mp4' types of audio file.\")\n",
    "\n",
    "    # Removing __MACOSX and .DS_Store\n",
    "    if (Path(target_path)/\"__MACOSX\").is_dir():\n",
    "        shutil.rmtree(target_path+\"/__MACOSX\")\n",
    "    elif (Path(target_path)/\"__MACOSX\").is_file():\n",
    "        os.remove(target_path+\"/__MACOSX\")\n",
    "    if (Path(target_path)/\".DS_Store\").is_dir():\n",
    "        shutil.rmtree(target_path+\"/.DS_Store\")\n",
    "    elif (Path(target_path)/\".DS_Store\").is_file():\n",
    "        os.remove(target_path+\"/.DS_Store\")\n",
    "\n",
    "def convert_mp4_to_wav(mp4_path, wav_path):\n",
    "    mp4_path = Path(mp4_path)\n",
    "    wav_path = Path(wav_path)\n",
    "\n",
    "    wav_path.mkdir(parents=True, exist_ok=True)\n",
    "\n",
    "    if (mp4_path.suffix=='.mp4'):\n",
    "        import moviepy\n",
    "        video = moviepy.editor.VideoFileClip(mp4_path)\n",
    "        wav_path = mp4_path.with_suffix('.wav')\n",
    "        video.audio.write_audiofile(wav_path)\n",
    "        print(f'mp4 file at {mp4_path} converted to wav file at {wav_path}')\n",
    "\n",
    "def get_audio_features(audio_path, description=''):\n",
    "    audio_features = {}\n",
    "    audio_features['description'] = 'An indie-rock music piece with energetic guitar riffs, upbeat rhythms, and expressive melodies.'\n",
    "    audio_features['tempo'] = ''\n",
    "    audio_features['genre'] = 'indie rock'\n",
    "    audio_features['key'] = ''\n",
    "    audio_features['bpm'] = ''\n",
    "    audio_features['moods'] = []\n",
    "    audio_features['instrument'] = ''\n",
    "\n",
    "    return audio_features\n",
    "\n",
    "def prepare_data(\n",
    "                dataset_path: str = 'dataset',\n",
    "                meta_path: str = 'audiocraft/egs/music',\n",
    "                dataset_splits = ['eval', 'valid', 'train'],\n",
    "                anchor_term: str = None,\n",
    "                device: str = 'cuda',\n",
    "                channels: int = 2):\n",
    "\n",
    "    dataset_path = Path(dataset_path)\n",
    "    target_path  = Path(dataset_path)\n",
    "    meta_path    = Path(meta_path)\n",
    "\n",
    "    for split in dataset_splits:\n",
    "        dataset_split_path = dataset_path / split\n",
    "        meta_split_path = meta_path / split\n",
    "\n",
    "        dataset_split_path.mkdir(parents=True, exist_ok=True)\n",
    "\n",
    "        meta_split_path.mkdir(parents=True, exist_ok=True)\n",
    "\n",
    "        meta_split_file_path = meta_split_path / 'data.jsonl'\n",
    "\n",
    "        print(f'{dataset_split_path=}')\n",
    "        audio_metas = audio_dataset.find_audio_files(\n",
    "                                                        dataset_split_path,\n",
    "                                                        audio_dataset.DEFAULT_EXTS,\n",
    "                                                        progress=True,\n",
    "                                                        resolve=True,\n",
    "                                                        minimal=False,\n",
    "                                                        workers=2\n",
    "                                                        )\n",
    "\n",
    "        print(f'Creating file-based metas ... ')\n",
    "        if len(audio_metas)==0:\n",
    "            raise ValueError(\"No audio file detected. Are you sure the audio file is longer than 5 seconds?\")\n",
    "\n",
    "        audio_dataset.save_audio_meta(meta_split_file_path, audio_metas)\n",
    "\n",
    "        dataset_split_len = 0\n",
    "\n",
    "        max_sample_rate = 0\n",
    "\n",
    "        print()\n",
    "\n",
    "        for audio_meta in tqdm(audio_metas, \"Getting audio features\"):\n",
    "\n",
    "            audio_path = Path(audio_meta.path)\n",
    "\n",
    "            if anchor_term is not None:\n",
    "                description = anchor_term\n",
    "            else:\n",
    "                if audio_path.with_suffix('.txt').exists():\n",
    "                    description = audio_path.with_suffix('.txt').read_text()\n",
    "\n",
    "            audio_features_dict = get_audio_features(audio_path, description)\n",
    "\n",
    "            audio_meta_dict = {\n",
    "                \"artist\": '',\n",
    "                \"sample_rate\": audio_meta.sample_rate,\n",
    "                \"file_extension\": audio_path.suffix,\n",
    "                \"description\": description,\n",
    "                \"keywords\": \"\",\n",
    "                \"duration\": audio_meta.duration,\n",
    "                \"title\": audio_path.stem,\n",
    "                \"name\": \"\",\n",
    "                \"path\": str(audio_path),\n",
    "                **audio_features_dict\n",
    "            }\n",
    "\n",
    "            print(f'{audio_meta_dict=}')\n",
    "\n",
    "            audio_path.with_suffix('.json').write_text(json.dumps(audio_meta_dict))\n",
    "\n",
    "            dataset_split_len += 1\n",
    "\n",
    "    return dataset_split_len\n"
   ]
  },
  {
   "cell_type": "code",
   "execution_count": 7,
   "id": "13372f9c-f90e-4fb2-9467-ec27e2abd2e5",
   "metadata": {
    "scrolled": true
   },
   "outputs": [
    {
     "name": "stdout",
     "output_type": "stream",
     "text": [
      "'/home/ubuntu/indie-rock_instrumentals' -> '/home/ubuntu/dataset/train/indie-rock_instrumentals'\n",
      "\"/home/ubuntu/indie-rock_instrumentals/David Bowie - God Knows I'm Good - 2015 Remaster_instrumental.wav\" -> \"/home/ubuntu/dataset/train/indie-rock_instrumentals/David Bowie - God Knows I'm Good - 2015 Remaster_instrumental.wav\"\n",
      "'/home/ubuntu/indie-rock_instrumentals/Camper Van Beethoven - Take the Skinheads Bowling_instrumental.wav' -> '/home/ubuntu/dataset/train/indie-rock_instrumentals/Camper Van Beethoven - Take the Skinheads Bowling_instrumental.wav'\n",
      "'/home/ubuntu/indie-rock_instrumentals/Animal Collective - My Girls_instrumental.wav' -> '/home/ubuntu/dataset/train/indie-rock_instrumentals/Animal Collective - My Girls_instrumental.wav'\n",
      "'/home/ubuntu/indie-rock_instrumentals/Bon Iver - Holocene_instrumental.wav' -> '/home/ubuntu/dataset/train/indie-rock_instrumentals/Bon Iver - Holocene_instrumental.wav'\n",
      "'/home/ubuntu/indie-rock_instrumentals/Brandtson - Words For You_instrumental.wav' -> '/home/ubuntu/dataset/train/indie-rock_instrumentals/Brandtson - Words For You_instrumental.wav'\n",
      "'/home/ubuntu/indie-rock_instrumentals/A Thousand Details - Skulls and Gulls - Space Modular Remix_instrumental.wav' -> '/home/ubuntu/dataset/train/indie-rock_instrumentals/A Thousand Details - Skulls and Gulls - Space Modular Remix_instrumental.wav'\n",
      "'/home/ubuntu/indie-rock_instrumentals/Dashboard Confessional - Screaming Infidelities_instrumental.wav' -> '/home/ubuntu/dataset/train/indie-rock_instrumentals/Dashboard Confessional - Screaming Infidelities_instrumental.wav'\n",
      "'/home/ubuntu/indie-rock_instrumentals/Dismemberment Plan - A Life of Possibilities_instrumental.wav' -> '/home/ubuntu/dataset/train/indie-rock_instrumentals/Dismemberment Plan - A Life of Possibilities_instrumental.wav'\n",
      "'/home/ubuntu/indie-rock_instrumentals/David Bowie - Rebel Rebel - Live; 2005 Mix; 2016 Remaster_instrumental.wav' -> '/home/ubuntu/dataset/train/indie-rock_instrumentals/David Bowie - Rebel Rebel - Live; 2005 Mix; 2016 Remaster_instrumental.wav'\n",
      "'/home/ubuntu/indie-rock_instrumentals/Belle and Sebastian - Sukie in the Graveyard_instrumental.wav' -> '/home/ubuntu/dataset/train/indie-rock_instrumentals/Belle and Sebastian - Sukie in the Graveyard_instrumental.wav'\n",
      "'/home/ubuntu/indie-rock_instrumentals/Christie Front Drive - Radio_instrumental.wav' -> '/home/ubuntu/dataset/train/indie-rock_instrumentals/Christie Front Drive - Radio_instrumental.wav'\n",
      "'/home/ubuntu/indie-rock_instrumentals/David Bowie - Suffragette City - Sounds Of The 70s- John Peel - recorded 16th May 1972_instrumental.wav' -> '/home/ubuntu/dataset/train/indie-rock_instrumentals/David Bowie - Suffragette City - Sounds Of The 70s- John Peel - recorded 16th May 1972_instrumental.wav'\n",
      "'/home/ubuntu/indie-rock_instrumentals/Band of Horses - The Funeral - Live Acoustic_instrumental.wav' -> '/home/ubuntu/dataset/train/indie-rock_instrumentals/Band of Horses - The Funeral - Live Acoustic_instrumental.wav'\n",
      "'/home/ubuntu/indie-rock_instrumentals/Archers Of Loaf - Freezing Point - Vs. The Greatest of All Time_instrumental.wav' -> '/home/ubuntu/dataset/train/indie-rock_instrumentals/Archers Of Loaf - Freezing Point - Vs. The Greatest of All Time_instrumental.wav'\n",
      "'/home/ubuntu/indie-rock_instrumentals/Arctic Monkeys - 505_instrumental.wav' -> '/home/ubuntu/dataset/train/indie-rock_instrumentals/Arctic Monkeys - 505_instrumental.wav'\n",
      "'/home/ubuntu/indie-rock_instrumentals/David Bowie - Ziggy Stardust - Sounds Of The 70s- Bob Harris - recorded 18th January 1972_instrumental.wav' -> '/home/ubuntu/dataset/train/indie-rock_instrumentals/David Bowie - Ziggy Stardust - Sounds Of The 70s- Bob Harris - recorded 18th January 1972_instrumental.wav'\n",
      "'/home/ubuntu/indie-rock_instrumentals/Aztec Camera - Oblivious_instrumental.wav' -> '/home/ubuntu/dataset/train/indie-rock_instrumentals/Aztec Camera - Oblivious_instrumental.wav'\n",
      "'/home/ubuntu/indie-rock_instrumentals/Butthole Surfers - Pepper_instrumental.wav' -> '/home/ubuntu/dataset/train/indie-rock_instrumentals/Butthole Surfers - Pepper_instrumental.wav'\n",
      "'/home/ubuntu/indie-rock_instrumentals/Arcade Fire - Sprawl II (Mountains Beyond Mountains)_instrumental.wav' -> '/home/ubuntu/dataset/train/indie-rock_instrumentals/Arcade Fire - Sprawl II (Mountains Beyond Mountains)_instrumental.wav'\n",
      "'/home/ubuntu/indie-rock_instrumentals/Arcade Fire - No Cars Go_instrumental.wav' -> '/home/ubuntu/dataset/train/indie-rock_instrumentals/Arcade Fire - No Cars Go_instrumental.wav'\n",
      "'/home/ubuntu/indie-rock_instrumentals/American Football - Never Meant_instrumental.wav' -> '/home/ubuntu/dataset/train/indie-rock_instrumentals/American Football - Never Meant_instrumental.wav'\n",
      "'/home/ubuntu/indie-rock_instrumentals/Battles - Atlas_instrumental.wav' -> '/home/ubuntu/dataset/train/indie-rock_instrumentals/Battles - Atlas_instrumental.wav'\n",
      "'/home/ubuntu/indie-rock_instrumentals/Braid - The New Nathan Detroits_instrumental.wav' -> '/home/ubuntu/dataset/train/indie-rock_instrumentals/Braid - The New Nathan Detroits_instrumental.wav'\n",
      "'/home/ubuntu/indie-rock_instrumentals/David Bowie - Life On Mars - Live, Glastonbury, 2000_instrumental.wav' -> '/home/ubuntu/dataset/train/indie-rock_instrumentals/David Bowie - Life On Mars - Live, Glastonbury, 2000_instrumental.wav'\n",
      "'/home/ubuntu/indie-rock_instrumentals/Archers Of Loaf - Web in Front_instrumental.wav' -> '/home/ubuntu/dataset/train/indie-rock_instrumentals/Archers Of Loaf - Web in Front_instrumental.wav'\n",
      "'/home/ubuntu/indie-rock_instrumentals/Don Caballero - In the Absence of Strong Evidence to the Contrary, One May Step Out of the Way of the Charging Bull_instrumental.wav' -> '/home/ubuntu/dataset/train/indie-rock_instrumentals/Don Caballero - In the Absence of Strong Evidence to the Contrary, One May Step Out of the Way of the Charging Bull_instrumental.wav'\n",
      "'/home/ubuntu/indie-rock_instrumentals/David Bowie, Jeff Beck - Medley- The Jean Genie  Love Me Do  The Jean Genie (Live) [feat. Jeff Beck]_instrumental.wav' -> '/home/ubuntu/dataset/train/indie-rock_instrumentals/David Bowie, Jeff Beck - Medley- The Jean Genie  Love Me Do  The Jean Genie (Live) [feat. Jeff Beck]_instrumental.wav'\n",
      "'/home/ubuntu/indie-rock_instrumentals/Dinosaur Jr. - Freak Scene - Live_instrumental.wav' -> '/home/ubuntu/dataset/train/indie-rock_instrumentals/Dinosaur Jr. - Freak Scene - Live_instrumental.wav'\n",
      "'/home/ubuntu/indie-rock_instrumentals/Big Black - Kerosene_instrumental.wav' -> '/home/ubuntu/dataset/train/indie-rock_instrumentals/Big Black - Kerosene_instrumental.wav'\n",
      "'/home/ubuntu/indie-rock_instrumentals/Broken Social Scene - Cause = Time_instrumental.wav' -> '/home/ubuntu/dataset/train/indie-rock_instrumentals/Broken Social Scene - Cause = Time_instrumental.wav'\n",
      "'/home/ubuntu/indie-rock_instrumentals/Cut Copy - Lights & Music_instrumental.wav' -> '/home/ubuntu/dataset/train/indie-rock_instrumentals/Cut Copy - Lights & Music_instrumental.wav'\n",
      "'/home/ubuntu/indie-rock_instrumentals/A Thousand Details, Space Modular - Skulls and Gulls - Space Modular Remix_instrumental.wav' -> '/home/ubuntu/dataset/train/indie-rock_instrumentals/A Thousand Details, Space Modular - Skulls and Gulls - Space Modular Remix_instrumental.wav'\n",
      "'/home/ubuntu/indie-rock_instrumentals/Black Rebel Motorcycle Club - Whatever Happened To My Rock '\\''N'\\'' Roll (Punk Song)_instrumental.wav' -> '/home/ubuntu/dataset/train/indie-rock_instrumentals/Black Rebel Motorcycle Club - Whatever Happened To My Rock '\\''N'\\'' Roll (Punk Song)_instrumental.wav'\n",
      "'/home/ubuntu/indie-rock_instrumentals/Arcade Fire - Rebellion (Lies)_instrumental.wav' -> '/home/ubuntu/dataset/train/indie-rock_instrumentals/Arcade Fire - Rebellion (Lies)_instrumental.wav'\n",
      "\"/home/ubuntu/indie-rock_instrumentals/Cap'n Jazz - Oh Messy Life_instrumental.wav\" -> \"/home/ubuntu/dataset/train/indie-rock_instrumentals/Cap'n Jazz - Oh Messy Life_instrumental.wav\"\n",
      "'/home/ubuntu/indie-rock_instrumentals/Arcade Fire - Month of May_instrumental.wav' -> '/home/ubuntu/dataset/train/indie-rock_instrumentals/Arcade Fire - Month of May_instrumental.wav'\n",
      "'/home/ubuntu/indie-rock_instrumentals/Chavez - Break Up Your Band - 2020 Remaster_instrumental.wav' -> '/home/ubuntu/dataset/train/indie-rock_instrumentals/Chavez - Break Up Your Band - 2020 Remaster_instrumental.wav'\n",
      "'/home/ubuntu/indie-rock_instrumentals/Belle and Sebastian - A Summer Wasting_instrumental.wav' -> '/home/ubuntu/dataset/train/indie-rock_instrumentals/Belle and Sebastian - A Summer Wasting_instrumental.wav'\n",
      "'/home/ubuntu/indie-rock_instrumentals/Arcade Fire - Wake Up_instrumental.wav' -> '/home/ubuntu/dataset/train/indie-rock_instrumentals/Arcade Fire - Wake Up_instrumental.wav'\n",
      "'/home/ubuntu/indie-rock_instrumentals/Belle and Sebastian - The Boy With the Arab Strap_instrumental.wav' -> '/home/ubuntu/dataset/train/indie-rock_instrumentals/Belle and Sebastian - The Boy With the Arab Strap_instrumental.wav'\n",
      "'/home/ubuntu/indie-rock_instrumentals/David Bowie - Modern Love - Moonage Daydream Mix_instrumental.wav' -> '/home/ubuntu/dataset/train/indie-rock_instrumentals/David Bowie - Modern Love - Moonage Daydream Mix_instrumental.wav'\n",
      "'/home/ubuntu/indie-rock_instrumentals/Built To Spill - Carry the Zero_instrumental.wav' -> '/home/ubuntu/dataset/train/indie-rock_instrumentals/Built To Spill - Carry the Zero_instrumental.wav'\n",
      "'/home/ubuntu/indie-rock_instrumentals/Death Cab for Cutie - Soul Meets Body_instrumental.wav' -> '/home/ubuntu/dataset/train/indie-rock_instrumentals/Death Cab for Cutie - Soul Meets Body_instrumental.wav'\n",
      "'/home/ubuntu/indie-rock_instrumentals/Bon Iver - Skinny Love_instrumental.wav' -> '/home/ubuntu/dataset/train/indie-rock_instrumentals/Bon Iver - Skinny Love_instrumental.wav'\n",
      "'/home/ubuntu/indie-rock_instrumentals/Adorable - Homeboy_instrumental.wav' -> '/home/ubuntu/dataset/train/indie-rock_instrumentals/Adorable - Homeboy_instrumental.wav'\n",
      "'/home/ubuntu/indie-rock_instrumentals/Art Brut - Formed a Band_instrumental.wav' -> '/home/ubuntu/dataset/train/indie-rock_instrumentals/Art Brut - Formed a Band_instrumental.wav'\n",
      "\"/home/ubuntu/indie-rock_instrumentals/Dirty Pretty Things - Bang Bang You're Dead_instrumental.wav\" -> \"/home/ubuntu/dataset/train/indie-rock_instrumentals/Dirty Pretty Things - Bang Bang You're Dead_instrumental.wav\"\n",
      "'/home/ubuntu/indie-rock_instrumentals/Arctic Monkeys - I Bet You Look Good On The Dancefloor_instrumental.wav' -> '/home/ubuntu/dataset/train/indie-rock_instrumentals/Arctic Monkeys - I Bet You Look Good On The Dancefloor_instrumental.wav'\n",
      "'/home/ubuntu/indie-rock_instrumentals/Babyshambles - Killamangiro_instrumental.wav' -> '/home/ubuntu/dataset/train/indie-rock_instrumentals/Babyshambles - Killamangiro_instrumental.wav'\n",
      "'/home/ubuntu/indie-rock_instrumentals/David Bowie - Fashion - Single Version; 2017 Remaster_instrumental.wav' -> '/home/ubuntu/dataset/train/indie-rock_instrumentals/David Bowie - Fashion - Single Version; 2017 Remaster_instrumental.wav'\n",
      "ls \"/home/ubuntu/dataset/train\"\n",
      "\u001b[0m\u001b[01;34mindie-rock_instrumentals\u001b[0m/\n",
      "ROOT_DIR='/home/ubuntu'\n",
      "AUDIOCRAFT_DIR='/home/ubuntu/audiocraft'\n",
      "DATA_SRC_DIR='\"/home/ubuntu/indie-rock_instrumentals\"'\n",
      "DATASET_DIR='/home/ubuntu/dataset'\n",
      "DATASET_DIR_TRAIN='\"/home/ubuntu/dataset/train\"'\n",
      "CONFIG_DIR='/home/ubuntu/audiocraft/egs/music'\n",
      "CONFIG_DIR_TRAIN='/home/ubuntu/audiocraft/egs/music/train'\n",
      "CONFIG_FILE_PATH_TRAIN='\"/home/ubuntu/audiocraft/egs/music/train/data.jsonl\"'\n"
     ]
    }
   ],
   "source": [
    "DATA_SRC_DIR = '/home/ubuntu/indie-rock_instrumentals' #@param {type: 'string'}\n",
    "\n",
    "DATA_SRC_DIR = f'\"{DATA_SRC_DIR}\"'\n",
    "\n",
    "USE_DIR = True #@param {type: 'boolean'}\n",
    "\n",
    "if USE_DIR:\n",
    "    # Patience required for large datasets. No clobber set in options\n",
    "    %cp -ruv {DATA_SRC_DIR} {DATASET_DIR_TRAIN}\n",
    "    print(f'ls {DATASET_DIR_TRAIN}')\n",
    "    %ls {DATASET_DIR_TRAIN}\n",
    "\n",
    "##################################################################\n",
    "\n",
    "\n",
    "print(f'{ROOT_DIR=}')\n",
    "print(f'{AUDIOCRAFT_DIR=}')\n",
    "\n",
    "print(f'{DATA_SRC_DIR=}')\n",
    "\n",
    "print(f'{DATASET_DIR=}')\n",
    "print(f'{DATASET_DIR_TRAIN=}')\n",
    "\n",
    "print(f'{CONFIG_DIR=}')\n",
    "print(f'{CONFIG_DIR_TRAIN=}')\n",
    "print(f'{CONFIG_FILE_PATH_TRAIN=}')"
   ]
  },
  {
   "cell_type": "code",
   "execution_count": 8,
   "id": "1adb9996-a78a-49cb-b73e-884f44d95d69",
   "metadata": {
    "scrolled": true
   },
   "outputs": [
    {
     "name": "stdout",
     "output_type": "stream",
     "text": [
      "/home/ubuntu/audiocraft\n",
      "mkdir: created directory '/home/ubuntu/audiocraft/config/dset/music'\n",
      "config_path='/home/ubuntu/audiocraft/config/dset/music/finetune.yaml'\n",
      "Config file created.\n",
      "/home/ubuntu/audiocraft\n",
      "dataset_split_path=PosixPath('/home/ubuntu/dataset/train')\n",
      "Finding audio files...\n",
      "Getting audio metadata...\n"
     ]
    },
    {
     "name": "stderr",
     "output_type": "stream",
     "text": [
      " 100.0%0"
     ]
    },
    {
     "name": "stdout",
     "output_type": "stream",
     "text": [
      "Creating file-based metas ... \n",
      "\n"
     ]
    },
    {
     "name": "stderr",
     "output_type": "stream",
     "text": [
      "Getting audio features: 100%|██████████| 50/50 [00:00<00:00, 1976.36it/s]"
     ]
    },
    {
     "name": "stdout",
     "output_type": "stream",
     "text": [
      "audio_meta_dict={'artist': '', 'sample_rate': 44100, 'file_extension': '.wav', 'description': 'An indie-rock music piece with energetic guitar riffs, upbeat rhythms, and expressive melodies.', 'keywords': '', 'duration': 362.17179138321995, 'title': 'A Thousand Details - Skulls and Gulls - Space Modular Remix_instrumental', 'name': '', 'path': '/home/ubuntu/dataset/train/indie-rock_instrumentals/A Thousand Details - Skulls and Gulls - Space Modular Remix_instrumental.wav', 'tempo': '', 'genre': 'indie rock', 'key': '', 'bpm': '', 'moods': [], 'instrument': ''}\n",
      "audio_meta_dict={'artist': '', 'sample_rate': 44100, 'file_extension': '.wav', 'description': 'An indie-rock music piece with energetic guitar riffs, upbeat rhythms, and expressive melodies.', 'keywords': '', 'duration': 362.15074829931973, 'title': 'A Thousand Details, Space Modular - Skulls and Gulls - Space Modular Remix_instrumental', 'name': '', 'path': '/home/ubuntu/dataset/train/indie-rock_instrumentals/A Thousand Details, Space Modular - Skulls and Gulls - Space Modular Remix_instrumental.wav', 'tempo': '', 'genre': 'indie rock', 'key': '', 'bpm': '', 'moods': [], 'instrument': ''}\n",
      "audio_meta_dict={'artist': '', 'sample_rate': 44100, 'file_extension': '.wav', 'description': 'An indie-rock music piece with energetic guitar riffs, upbeat rhythms, and expressive melodies.', 'keywords': '', 'duration': 270.12, 'title': 'Adorable - Homeboy_instrumental', 'name': '', 'path': '/home/ubuntu/dataset/train/indie-rock_instrumentals/Adorable - Homeboy_instrumental.wav', 'tempo': '', 'genre': 'indie rock', 'key': '', 'bpm': '', 'moods': [], 'instrument': ''}\n",
      "audio_meta_dict={'artist': '', 'sample_rate': 44100, 'file_extension': '.wav', 'description': 'An indie-rock music piece with energetic guitar riffs, upbeat rhythms, and expressive melodies.', 'keywords': '', 'duration': 268.3333333333333, 'title': 'American Football - Never Meant_instrumental', 'name': '', 'path': '/home/ubuntu/dataset/train/indie-rock_instrumentals/American Football - Never Meant_instrumental.wav', 'tempo': '', 'genre': 'indie rock', 'key': '', 'bpm': '', 'moods': [], 'instrument': ''}\n",
      "audio_meta_dict={'artist': '', 'sample_rate': 44100, 'file_extension': '.wav', 'description': 'An indie-rock music piece with energetic guitar riffs, upbeat rhythms, and expressive melodies.', 'keywords': '', 'duration': 340.7866666666667, 'title': 'Animal Collective - My Girls_instrumental', 'name': '', 'path': '/home/ubuntu/dataset/train/indie-rock_instrumentals/Animal Collective - My Girls_instrumental.wav', 'tempo': '', 'genre': 'indie rock', 'key': '', 'bpm': '', 'moods': [], 'instrument': ''}\n",
      "audio_meta_dict={'artist': '', 'sample_rate': 44100, 'file_extension': '.wav', 'description': 'An indie-rock music piece with energetic guitar riffs, upbeat rhythms, and expressive melodies.', 'keywords': '', 'duration': 230.58666666666667, 'title': 'Arcade Fire - Month of May_instrumental', 'name': '', 'path': '/home/ubuntu/dataset/train/indie-rock_instrumentals/Arcade Fire - Month of May_instrumental.wav', 'tempo': '', 'genre': 'indie rock', 'key': '', 'bpm': '', 'moods': [], 'instrument': ''}\n",
      "audio_meta_dict={'artist': '', 'sample_rate': 44100, 'file_extension': '.wav', 'description': 'An indie-rock music piece with energetic guitar riffs, upbeat rhythms, and expressive melodies.', 'keywords': '', 'duration': 343.62666666666667, 'title': 'Arcade Fire - No Cars Go_instrumental', 'name': '', 'path': '/home/ubuntu/dataset/train/indie-rock_instrumentals/Arcade Fire - No Cars Go_instrumental.wav', 'tempo': '', 'genre': 'indie rock', 'key': '', 'bpm': '', 'moods': [], 'instrument': ''}\n",
      "audio_meta_dict={'artist': '', 'sample_rate': 44100, 'file_extension': '.wav', 'description': 'An indie-rock music piece with energetic guitar riffs, upbeat rhythms, and expressive melodies.', 'keywords': '', 'duration': 310.8933333333333, 'title': 'Arcade Fire - Rebellion (Lies)_instrumental', 'name': '', 'path': '/home/ubuntu/dataset/train/indie-rock_instrumentals/Arcade Fire - Rebellion (Lies)_instrumental.wav', 'tempo': '', 'genre': 'indie rock', 'key': '', 'bpm': '', 'moods': [], 'instrument': ''}\n",
      "audio_meta_dict={'artist': '', 'sample_rate': 44100, 'file_extension': '.wav', 'description': 'An indie-rock music piece with energetic guitar riffs, upbeat rhythms, and expressive melodies.', 'keywords': '', 'duration': 325.70666666666665, 'title': 'Arcade Fire - Sprawl II (Mountains Beyond Mountains)_instrumental', 'name': '', 'path': '/home/ubuntu/dataset/train/indie-rock_instrumentals/Arcade Fire - Sprawl II (Mountains Beyond Mountains)_instrumental.wav', 'tempo': '', 'genre': 'indie rock', 'key': '', 'bpm': '', 'moods': [], 'instrument': ''}\n",
      "audio_meta_dict={'artist': '', 'sample_rate': 44100, 'file_extension': '.wav', 'description': 'An indie-rock music piece with energetic guitar riffs, upbeat rhythms, and expressive melodies.', 'keywords': '', 'duration': 335.3333333333333, 'title': 'Arcade Fire - Wake Up_instrumental', 'name': '', 'path': '/home/ubuntu/dataset/train/indie-rock_instrumentals/Arcade Fire - Wake Up_instrumental.wav', 'tempo': '', 'genre': 'indie rock', 'key': '', 'bpm': '', 'moods': [], 'instrument': ''}\n",
      "audio_meta_dict={'artist': '', 'sample_rate': 44100, 'file_extension': '.wav', 'description': 'An indie-rock music piece with energetic guitar riffs, upbeat rhythms, and expressive melodies.', 'keywords': '', 'duration': 155.2657596371882, 'title': 'Archers Of Loaf - Freezing Point - Vs. The Greatest of All Time_instrumental', 'name': '', 'path': '/home/ubuntu/dataset/train/indie-rock_instrumentals/Archers Of Loaf - Freezing Point - Vs. The Greatest of All Time_instrumental.wav', 'tempo': '', 'genre': 'indie rock', 'key': '', 'bpm': '', 'moods': [], 'instrument': ''}\n",
      "audio_meta_dict={'artist': '', 'sample_rate': 44100, 'file_extension': '.wav', 'description': 'An indie-rock music piece with energetic guitar riffs, upbeat rhythms, and expressive melodies.', 'keywords': '', 'duration': 126.67501133786848, 'title': 'Archers Of Loaf - Web in Front_instrumental', 'name': '', 'path': '/home/ubuntu/dataset/train/indie-rock_instrumentals/Archers Of Loaf - Web in Front_instrumental.wav', 'tempo': '', 'genre': 'indie rock', 'key': '', 'bpm': '', 'moods': [], 'instrument': ''}\n",
      "audio_meta_dict={'artist': '', 'sample_rate': 44100, 'file_extension': '.wav', 'description': 'An indie-rock music piece with energetic guitar riffs, upbeat rhythms, and expressive melodies.', 'keywords': '', 'duration': 253.58666666666667, 'title': 'Arctic Monkeys - 505_instrumental', 'name': '', 'path': '/home/ubuntu/dataset/train/indie-rock_instrumentals/Arctic Monkeys - 505_instrumental.wav', 'tempo': '', 'genre': 'indie rock', 'key': '', 'bpm': '', 'moods': [], 'instrument': ''}\n",
      "audio_meta_dict={'artist': '', 'sample_rate': 44100, 'file_extension': '.wav', 'description': 'An indie-rock music piece with energetic guitar riffs, upbeat rhythms, and expressive melodies.', 'keywords': '', 'duration': 173.68, 'title': 'Arctic Monkeys - I Bet You Look Good On The Dancefloor_instrumental', 'name': '', 'path': '/home/ubuntu/dataset/train/indie-rock_instrumentals/Arctic Monkeys - I Bet You Look Good On The Dancefloor_instrumental.wav', 'tempo': '', 'genre': 'indie rock', 'key': '', 'bpm': '', 'moods': [], 'instrument': ''}\n",
      "audio_meta_dict={'artist': '', 'sample_rate': 44100, 'file_extension': '.wav', 'description': 'An indie-rock music piece with energetic guitar riffs, upbeat rhythms, and expressive melodies.', 'keywords': '', 'duration': 177.80501133786848, 'title': 'Art Brut - Formed a Band_instrumental', 'name': '', 'path': '/home/ubuntu/dataset/train/indie-rock_instrumentals/Art Brut - Formed a Band_instrumental.wav', 'tempo': '', 'genre': 'indie rock', 'key': '', 'bpm': '', 'moods': [], 'instrument': ''}\n",
      "audio_meta_dict={'artist': '', 'sample_rate': 44100, 'file_extension': '.wav', 'description': 'An indie-rock music piece with energetic guitar riffs, upbeat rhythms, and expressive melodies.', 'keywords': '', 'duration': 192.0, 'title': 'Aztec Camera - Oblivious_instrumental', 'name': '', 'path': '/home/ubuntu/dataset/train/indie-rock_instrumentals/Aztec Camera - Oblivious_instrumental.wav', 'tempo': '', 'genre': 'indie rock', 'key': '', 'bpm': '', 'moods': [], 'instrument': ''}\n",
      "audio_meta_dict={'artist': '', 'sample_rate': 44100, 'file_extension': '.wav', 'description': 'An indie-rock music piece with energetic guitar riffs, upbeat rhythms, and expressive melodies.', 'keywords': '', 'duration': 193.02666666666667, 'title': 'Babyshambles - Killamangiro_instrumental', 'name': '', 'path': '/home/ubuntu/dataset/train/indie-rock_instrumentals/Babyshambles - Killamangiro_instrumental.wav', 'tempo': '', 'genre': 'indie rock', 'key': '', 'bpm': '', 'moods': [], 'instrument': ''}\n",
      "audio_meta_dict={'artist': '', 'sample_rate': 44100, 'file_extension': '.wav', 'description': 'An indie-rock music piece with energetic guitar riffs, upbeat rhythms, and expressive melodies.', 'keywords': '', 'duration': 307.76, 'title': 'Band of Horses - The Funeral - Live Acoustic_instrumental', 'name': '', 'path': '/home/ubuntu/dataset/train/indie-rock_instrumentals/Band of Horses - The Funeral - Live Acoustic_instrumental.wav', 'tempo': '', 'genre': 'indie rock', 'key': '', 'bpm': '', 'moods': [], 'instrument': ''}\n",
      "audio_meta_dict={'artist': '', 'sample_rate': 44100, 'file_extension': '.wav', 'description': 'An indie-rock music piece with energetic guitar riffs, upbeat rhythms, and expressive melodies.', 'keywords': '', 'duration': 426.31836734693877, 'title': 'Battles - Atlas_instrumental', 'name': '', 'path': '/home/ubuntu/dataset/train/indie-rock_instrumentals/Battles - Atlas_instrumental.wav', 'tempo': '', 'genre': 'indie rock', 'key': '', 'bpm': '', 'moods': [], 'instrument': ''}\n",
      "audio_meta_dict={'artist': '', 'sample_rate': 44100, 'file_extension': '.wav', 'description': 'An indie-rock music piece with energetic guitar riffs, upbeat rhythms, and expressive melodies.', 'keywords': '', 'duration': 126.69823129251701, 'title': 'Belle and Sebastian - A Summer Wasting_instrumental', 'name': '', 'path': '/home/ubuntu/dataset/train/indie-rock_instrumentals/Belle and Sebastian - A Summer Wasting_instrumental.wav', 'tempo': '', 'genre': 'indie rock', 'key': '', 'bpm': '', 'moods': [], 'instrument': ''}\n",
      "audio_meta_dict={'artist': '', 'sample_rate': 44100, 'file_extension': '.wav', 'description': 'An indie-rock music piece with energetic guitar riffs, upbeat rhythms, and expressive melodies.', 'keywords': '', 'duration': 180.22666666666666, 'title': 'Belle and Sebastian - Sukie in the Graveyard_instrumental', 'name': '', 'path': '/home/ubuntu/dataset/train/indie-rock_instrumentals/Belle and Sebastian - Sukie in the Graveyard_instrumental.wav', 'tempo': '', 'genre': 'indie rock', 'key': '', 'bpm': '', 'moods': [], 'instrument': ''}\n",
      "audio_meta_dict={'artist': '', 'sample_rate': 44100, 'file_extension': '.wav', 'description': 'An indie-rock music piece with energetic guitar riffs, upbeat rhythms, and expressive melodies.', 'keywords': '', 'duration': 314.06666666666666, 'title': 'Belle and Sebastian - The Boy With the Arab Strap_instrumental', 'name': '', 'path': '/home/ubuntu/dataset/train/indie-rock_instrumentals/Belle and Sebastian - The Boy With the Arab Strap_instrumental.wav', 'tempo': '', 'genre': 'indie rock', 'key': '', 'bpm': '', 'moods': [], 'instrument': ''}\n",
      "audio_meta_dict={'artist': '', 'sample_rate': 44100, 'file_extension': '.wav', 'description': 'An indie-rock music piece with energetic guitar riffs, upbeat rhythms, and expressive melodies.', 'keywords': '', 'duration': 363.9066666666667, 'title': 'Big Black - Kerosene_instrumental', 'name': '', 'path': '/home/ubuntu/dataset/train/indie-rock_instrumentals/Big Black - Kerosene_instrumental.wav', 'tempo': '', 'genre': 'indie rock', 'key': '', 'bpm': '', 'moods': [], 'instrument': ''}\n",
      "audio_meta_dict={'artist': '', 'sample_rate': 44100, 'file_extension': '.wav', 'description': 'An indie-rock music piece with energetic guitar riffs, upbeat rhythms, and expressive melodies.', 'keywords': '', 'duration': 278.16, 'title': \"Black Rebel Motorcycle Club - Whatever Happened To My Rock 'N' Roll (Punk Song)_instrumental\", 'name': '', 'path': \"/home/ubuntu/dataset/train/indie-rock_instrumentals/Black Rebel Motorcycle Club - Whatever Happened To My Rock 'N' Roll (Punk Song)_instrumental.wav\", 'tempo': '', 'genre': 'indie rock', 'key': '', 'bpm': '', 'moods': [], 'instrument': ''}\n",
      "audio_meta_dict={'artist': '', 'sample_rate': 44100, 'file_extension': '.wav', 'description': 'An indie-rock music piece with energetic guitar riffs, upbeat rhythms, and expressive melodies.', 'keywords': '', 'duration': 336.61333333333334, 'title': 'Bon Iver - Holocene_instrumental', 'name': '', 'path': '/home/ubuntu/dataset/train/indie-rock_instrumentals/Bon Iver - Holocene_instrumental.wav', 'tempo': '', 'genre': 'indie rock', 'key': '', 'bpm': '', 'moods': [], 'instrument': ''}\n",
      "audio_meta_dict={'artist': '', 'sample_rate': 44100, 'file_extension': '.wav', 'description': 'An indie-rock music piece with energetic guitar riffs, upbeat rhythms, and expressive melodies.', 'keywords': '', 'duration': 238.52, 'title': 'Bon Iver - Skinny Love_instrumental', 'name': '', 'path': '/home/ubuntu/dataset/train/indie-rock_instrumentals/Bon Iver - Skinny Love_instrumental.wav', 'tempo': '', 'genre': 'indie rock', 'key': '', 'bpm': '', 'moods': [], 'instrument': ''}\n",
      "audio_meta_dict={'artist': '', 'sample_rate': 44100, 'file_extension': '.wav', 'description': 'An indie-rock music piece with energetic guitar riffs, upbeat rhythms, and expressive melodies.', 'keywords': '', 'duration': 257.82666666666665, 'title': 'Braid - The New Nathan Detroits_instrumental', 'name': '', 'path': '/home/ubuntu/dataset/train/indie-rock_instrumentals/Braid - The New Nathan Detroits_instrumental.wav', 'tempo': '', 'genre': 'indie rock', 'key': '', 'bpm': '', 'moods': [], 'instrument': ''}\n",
      "audio_meta_dict={'artist': '', 'sample_rate': 44100, 'file_extension': '.wav', 'description': 'An indie-rock music piece with energetic guitar riffs, upbeat rhythms, and expressive melodies.', 'keywords': '', 'duration': 261.1333333333333, 'title': 'Brandtson - Words For You_instrumental', 'name': '', 'path': '/home/ubuntu/dataset/train/indie-rock_instrumentals/Brandtson - Words For You_instrumental.wav', 'tempo': '', 'genre': 'indie rock', 'key': '', 'bpm': '', 'moods': [], 'instrument': ''}\n",
      "audio_meta_dict={'artist': '', 'sample_rate': 44100, 'file_extension': '.wav', 'description': 'An indie-rock music piece with energetic guitar riffs, upbeat rhythms, and expressive melodies.', 'keywords': '', 'duration': 330.85333333333335, 'title': 'Broken Social Scene - Cause = Time_instrumental', 'name': '', 'path': '/home/ubuntu/dataset/train/indie-rock_instrumentals/Broken Social Scene - Cause = Time_instrumental.wav', 'tempo': '', 'genre': 'indie rock', 'key': '', 'bpm': '', 'moods': [], 'instrument': ''}\n",
      "audio_meta_dict={'artist': '', 'sample_rate': 44100, 'file_extension': '.wav', 'description': 'An indie-rock music piece with energetic guitar riffs, upbeat rhythms, and expressive melodies.', 'keywords': '', 'duration': 343.8933333333333, 'title': 'Built To Spill - Carry the Zero_instrumental', 'name': '', 'path': '/home/ubuntu/dataset/train/indie-rock_instrumentals/Built To Spill - Carry the Zero_instrumental.wav', 'tempo': '', 'genre': 'indie rock', 'key': '', 'bpm': '', 'moods': [], 'instrument': ''}\n",
      "audio_meta_dict={'artist': '', 'sample_rate': 44100, 'file_extension': '.wav', 'description': 'An indie-rock music piece with energetic guitar riffs, upbeat rhythms, and expressive melodies.', 'keywords': '', 'duration': 297.26666666666665, 'title': 'Butthole Surfers - Pepper_instrumental', 'name': '', 'path': '/home/ubuntu/dataset/train/indie-rock_instrumentals/Butthole Surfers - Pepper_instrumental.wav', 'tempo': '', 'genre': 'indie rock', 'key': '', 'bpm': '', 'moods': [], 'instrument': ''}\n",
      "audio_meta_dict={'artist': '', 'sample_rate': 44100, 'file_extension': '.wav', 'description': 'An indie-rock music piece with energetic guitar riffs, upbeat rhythms, and expressive melodies.', 'keywords': '', 'duration': 152.276462585034, 'title': 'Camper Van Beethoven - Take the Skinheads Bowling_instrumental', 'name': '', 'path': '/home/ubuntu/dataset/train/indie-rock_instrumentals/Camper Van Beethoven - Take the Skinheads Bowling_instrumental.wav', 'tempo': '', 'genre': 'indie rock', 'key': '', 'bpm': '', 'moods': [], 'instrument': ''}\n",
      "audio_meta_dict={'artist': '', 'sample_rate': 44100, 'file_extension': '.wav', 'description': 'An indie-rock music piece with energetic guitar riffs, upbeat rhythms, and expressive melodies.', 'keywords': '', 'duration': 122.88, 'title': \"Cap'n Jazz - Oh Messy Life_instrumental\", 'name': '', 'path': \"/home/ubuntu/dataset/train/indie-rock_instrumentals/Cap'n Jazz - Oh Messy Life_instrumental.wav\", 'tempo': '', 'genre': 'indie rock', 'key': '', 'bpm': '', 'moods': [], 'instrument': ''}\n",
      "audio_meta_dict={'artist': '', 'sample_rate': 44100, 'file_extension': '.wav', 'description': 'An indie-rock music piece with energetic guitar riffs, upbeat rhythms, and expressive melodies.', 'keywords': '', 'duration': 177.16825396825396, 'title': 'Chavez - Break Up Your Band - 2020 Remaster_instrumental', 'name': '', 'path': '/home/ubuntu/dataset/train/indie-rock_instrumentals/Chavez - Break Up Your Band - 2020 Remaster_instrumental.wav', 'tempo': '', 'genre': 'indie rock', 'key': '', 'bpm': '', 'moods': [], 'instrument': ''}\n",
      "audio_meta_dict={'artist': '', 'sample_rate': 44100, 'file_extension': '.wav', 'description': 'An indie-rock music piece with energetic guitar riffs, upbeat rhythms, and expressive melodies.', 'keywords': '', 'duration': 229.13333333333333, 'title': 'Christie Front Drive - Radio_instrumental', 'name': '', 'path': '/home/ubuntu/dataset/train/indie-rock_instrumentals/Christie Front Drive - Radio_instrumental.wav', 'tempo': '', 'genre': 'indie rock', 'key': '', 'bpm': '', 'moods': [], 'instrument': ''}\n",
      "audio_meta_dict={'artist': '', 'sample_rate': 44100, 'file_extension': '.wav', 'description': 'An indie-rock music piece with energetic guitar riffs, upbeat rhythms, and expressive melodies.', 'keywords': '', 'duration': 279.37333333333333, 'title': 'Cut Copy - Lights & Music_instrumental', 'name': '', 'path': '/home/ubuntu/dataset/train/indie-rock_instrumentals/Cut Copy - Lights & Music_instrumental.wav', 'tempo': '', 'genre': 'indie rock', 'key': '', 'bpm': '', 'moods': [], 'instrument': ''}\n",
      "audio_meta_dict={'artist': '', 'sample_rate': 44100, 'file_extension': '.wav', 'description': 'An indie-rock music piece with energetic guitar riffs, upbeat rhythms, and expressive melodies.', 'keywords': '', 'duration': 226.30666666666667, 'title': 'Dashboard Confessional - Screaming Infidelities_instrumental', 'name': '', 'path': '/home/ubuntu/dataset/train/indie-rock_instrumentals/Dashboard Confessional - Screaming Infidelities_instrumental.wav', 'tempo': '', 'genre': 'indie rock', 'key': '', 'bpm': '', 'moods': [], 'instrument': ''}\n",
      "audio_meta_dict={'artist': '', 'sample_rate': 44100, 'file_extension': '.wav', 'description': 'An indie-rock music piece with energetic guitar riffs, upbeat rhythms, and expressive melodies.', 'keywords': '', 'duration': 205.70666666666668, 'title': 'David Bowie - Fashion - Single Version; 2017 Remaster_instrumental', 'name': '', 'path': '/home/ubuntu/dataset/train/indie-rock_instrumentals/David Bowie - Fashion - Single Version; 2017 Remaster_instrumental.wav', 'tempo': '', 'genre': 'indie rock', 'key': '', 'bpm': '', 'moods': [], 'instrument': ''}\n",
      "audio_meta_dict={'artist': '', 'sample_rate': 44100, 'file_extension': '.wav', 'description': 'An indie-rock music piece with energetic guitar riffs, upbeat rhythms, and expressive melodies.', 'keywords': '', 'duration': 202.16, 'title': \"David Bowie - God Knows I'm Good - 2015 Remaster_instrumental\", 'name': '', 'path': \"/home/ubuntu/dataset/train/indie-rock_instrumentals/David Bowie - God Knows I'm Good - 2015 Remaster_instrumental.wav\", 'tempo': '', 'genre': 'indie rock', 'key': '', 'bpm': '', 'moods': [], 'instrument': ''}\n",
      "audio_meta_dict={'artist': '', 'sample_rate': 44100, 'file_extension': '.wav', 'description': 'An indie-rock music piece with energetic guitar riffs, upbeat rhythms, and expressive melodies.', 'keywords': '', 'duration': 282.97333333333336, 'title': 'David Bowie - Life On Mars - Live, Glastonbury, 2000_instrumental', 'name': '', 'path': '/home/ubuntu/dataset/train/indie-rock_instrumentals/David Bowie - Life On Mars - Live, Glastonbury, 2000_instrumental.wav', 'tempo': '', 'genre': 'indie rock', 'key': '', 'bpm': '', 'moods': [], 'instrument': ''}\n",
      "audio_meta_dict={'artist': '', 'sample_rate': 44100, 'file_extension': '.wav', 'description': 'An indie-rock music piece with energetic guitar riffs, upbeat rhythms, and expressive melodies.', 'keywords': '', 'duration': 179.4232426303855, 'title': 'David Bowie - Modern Love - Moonage Daydream Mix_instrumental', 'name': '', 'path': '/home/ubuntu/dataset/train/indie-rock_instrumentals/David Bowie - Modern Love - Moonage Daydream Mix_instrumental.wav', 'tempo': '', 'genre': 'indie rock', 'key': '', 'bpm': '', 'moods': [], 'instrument': ''}\n",
      "audio_meta_dict={'artist': '', 'sample_rate': 44100, 'file_extension': '.wav', 'description': 'An indie-rock music piece with energetic guitar riffs, upbeat rhythms, and expressive melodies.', 'keywords': '', 'duration': 162.13333333333333, 'title': 'David Bowie - Rebel Rebel - Live; 2005 Mix; 2016 Remaster_instrumental', 'name': '', 'path': '/home/ubuntu/dataset/train/indie-rock_instrumentals/David Bowie - Rebel Rebel - Live; 2005 Mix; 2016 Remaster_instrumental.wav', 'tempo': '', 'genre': 'indie rock', 'key': '', 'bpm': '', 'moods': [], 'instrument': ''}\n",
      "audio_meta_dict={'artist': '', 'sample_rate': 44100, 'file_extension': '.wav', 'description': 'An indie-rock music piece with energetic guitar riffs, upbeat rhythms, and expressive melodies.', 'keywords': '', 'duration': 205.58947845804988, 'title': 'David Bowie - Suffragette City - Sounds Of The 70s- John Peel - recorded 16th May 1972_instrumental', 'name': '', 'path': '/home/ubuntu/dataset/train/indie-rock_instrumentals/David Bowie - Suffragette City - Sounds Of The 70s- John Peel - recorded 16th May 1972_instrumental.wav', 'tempo': '', 'genre': 'indie rock', 'key': '', 'bpm': '', 'moods': [], 'instrument': ''}\n",
      "audio_meta_dict={'artist': '', 'sample_rate': 44100, 'file_extension': '.wav', 'description': 'An indie-rock music piece with energetic guitar riffs, upbeat rhythms, and expressive melodies.', 'keywords': '', 'duration': 199.48274376417234, 'title': 'David Bowie - Ziggy Stardust - Sounds Of The 70s- Bob Harris - recorded 18th January 1972_instrumental', 'name': '', 'path': '/home/ubuntu/dataset/train/indie-rock_instrumentals/David Bowie - Ziggy Stardust - Sounds Of The 70s- Bob Harris - recorded 18th January 1972_instrumental.wav', 'tempo': '', 'genre': 'indie rock', 'key': '', 'bpm': '', 'moods': [], 'instrument': ''}\n",
      "audio_meta_dict={'artist': '', 'sample_rate': 44100, 'file_extension': '.wav', 'description': 'An indie-rock music piece with energetic guitar riffs, upbeat rhythms, and expressive melodies.', 'keywords': '', 'duration': 468.3369614512472, 'title': 'David Bowie, Jeff Beck - Medley- The Jean Genie  Love Me Do  The Jean Genie (Live) [feat. Jeff Beck]_instrumental', 'name': '', 'path': '/home/ubuntu/dataset/train/indie-rock_instrumentals/David Bowie, Jeff Beck - Medley- The Jean Genie  Love Me Do  The Jean Genie (Live) [feat. Jeff Beck]_instrumental.wav', 'tempo': '', 'genre': 'indie rock', 'key': '', 'bpm': '', 'moods': [], 'instrument': ''}\n",
      "audio_meta_dict={'artist': '', 'sample_rate': 44100, 'file_extension': '.wav', 'description': 'An indie-rock music piece with energetic guitar riffs, upbeat rhythms, and expressive melodies.', 'keywords': '', 'duration': 230.90666666666667, 'title': 'Death Cab for Cutie - Soul Meets Body_instrumental', 'name': '', 'path': '/home/ubuntu/dataset/train/indie-rock_instrumentals/Death Cab for Cutie - Soul Meets Body_instrumental.wav', 'tempo': '', 'genre': 'indie rock', 'key': '', 'bpm': '', 'moods': [], 'instrument': ''}\n",
      "audio_meta_dict={'artist': '', 'sample_rate': 44100, 'file_extension': '.wav', 'description': 'An indie-rock music piece with energetic guitar riffs, upbeat rhythms, and expressive melodies.', 'keywords': '', 'duration': 191.05333333333334, 'title': 'Dinosaur Jr. - Freak Scene - Live_instrumental', 'name': '', 'path': '/home/ubuntu/dataset/train/indie-rock_instrumentals/Dinosaur Jr. - Freak Scene - Live_instrumental.wav', 'tempo': '', 'genre': 'indie rock', 'key': '', 'bpm': '', 'moods': [], 'instrument': ''}\n",
      "audio_meta_dict={'artist': '', 'sample_rate': 44100, 'file_extension': '.wav', 'description': 'An indie-rock music piece with energetic guitar riffs, upbeat rhythms, and expressive melodies.', 'keywords': '', 'duration': 126.93698412698413, 'title': \"Dirty Pretty Things - Bang Bang You're Dead_instrumental\", 'name': '', 'path': \"/home/ubuntu/dataset/train/indie-rock_instrumentals/Dirty Pretty Things - Bang Bang You're Dead_instrumental.wav\", 'tempo': '', 'genre': 'indie rock', 'key': '', 'bpm': '', 'moods': [], 'instrument': ''}\n",
      "audio_meta_dict={'artist': '', 'sample_rate': 44100, 'file_extension': '.wav', 'description': 'An indie-rock music piece with energetic guitar riffs, upbeat rhythms, and expressive melodies.', 'keywords': '', 'duration': 274.72, 'title': 'Dismemberment Plan - A Life of Possibilities_instrumental', 'name': '', 'path': '/home/ubuntu/dataset/train/indie-rock_instrumentals/Dismemberment Plan - A Life of Possibilities_instrumental.wav', 'tempo': '', 'genre': 'indie rock', 'key': '', 'bpm': '', 'moods': [], 'instrument': ''}\n",
      "audio_meta_dict={'artist': '', 'sample_rate': 44100, 'file_extension': '.wav', 'description': 'An indie-rock music piece with energetic guitar riffs, upbeat rhythms, and expressive melodies.', 'keywords': '', 'duration': 275.7733333333333, 'title': 'Don Caballero - In the Absence of Strong Evidence to the Contrary, One May Step Out of the Way of the Charging Bull_instrumental', 'name': '', 'path': '/home/ubuntu/dataset/train/indie-rock_instrumentals/Don Caballero - In the Absence of Strong Evidence to the Contrary, One May Step Out of the Way of the Charging Bull_instrumental.wav', 'tempo': '', 'genre': 'indie rock', 'key': '', 'bpm': '', 'moods': [], 'instrument': ''}\n",
      "len_dataset=50\n"
     ]
    },
    {
     "name": "stderr",
     "output_type": "stream",
     "text": [
      "\n"
     ]
    }
   ],
   "source": [
    "#@title **<font color='orange'>DO THE DATASET CREATION</font>**\n",
    "#@markdown ---\n",
    "#@markdown <font color='orange'>INSTRUCTIONS</font>\n",
    "\n",
    "#@markdown This is where the `instructions` go\n",
    "\n",
    "#@markdown ---\n",
    "\n",
    "##################################################################\n",
    "# Put this in a function or something later\n",
    "# Write config file named finetune.yaml\n",
    "# /content/audiocraft/config/dset/music\n",
    "\n",
    "%cd {AUDIOCRAFT_DIR}\n",
    "\n",
    "import os\n",
    "\n",
    "CONFIG_DSET = f'{AUDIOCRAFT_DIR}/config/dset/music'\n",
    "\n",
    "%mkdir -pv {CONFIG_DSET}\n",
    "\n",
    "config_path = os.path.join(CONFIG_DSET, \"finetune.yaml\")\n",
    "\n",
    "# We're fine-tuning. Not much point in using separate train/valid/eval dirs\n",
    "package_str = \"package\"\n",
    "yaml_contents = f\"\"\"#@{package_str} __global__\n",
    "datasource:\n",
    "  max_channels: 2\n",
    "  max_sample_rate: 48000\n",
    "  num_workers: 4\n",
    "\n",
    "  evaluate: egs/music/train\n",
    "  generate: egs/music/train\n",
    "  valid: egs/music/train\n",
    "  train: egs/music/train\n",
    "\"\"\"\n",
    "\n",
    "with open(config_path, 'w') as yaml_file:\n",
    "    yaml_file.write(yaml_contents)\n",
    "\n",
    "print(f'{config_path=}')\n",
    "print(f'Config file created.')\n",
    "\n",
    "##################################################################\n",
    "\n",
    "%cd {AUDIOCRAFT_DIR}\n",
    "\n",
    "ANCHOR_TERM = \"\" #@param {type: 'string'}\n",
    "\n",
    "INPUT_STEREO = True #@param {type: 'boolean'}\n",
    "\n",
    "channels = 2 if INPUT_STEREO else 1\n",
    "\n",
    "len_dataset = prepare_data(\n",
    "                            dataset_path=Path(DATASET_DIR),\n",
    "                            meta_path=Path(CONFIG_DIR),\n",
    "                            anchor_term=ANCHOR_TERM,\n",
    "                            dataset_splits=['train'],\n",
    "                            device='cuda',\n",
    "                            channels=channels\n",
    "                            )\n",
    "\n",
    "print(f'{len_dataset=}')"
   ]
  },
  {
   "cell_type": "code",
   "execution_count": 1,
   "id": "c3ff80c4-c79b-45d6-8985-b30cc8e06fc0",
   "metadata": {
    "scrolled": true
   },
   "outputs": [
    {
     "name": "stdout",
     "output_type": "stream",
     "text": [
      "/home/ubuntu/audiocraft\n",
      "env: AUDIOCRAFT_DORA_DIR=/home/ubuntu/dora\n",
      "\n",
      "---   SETTINGS   ---\n",
      "\n",
      "\n",
      "ROOT_DIR='/home/ubuntu'\n",
      "\n",
      "DATASET_DIR='/home/ubuntu/dataset'\n",
      "DATASET_DIR_TRAIN='/home/ubuntu/dataset/train'\n",
      "\n",
      "CONFIG_DIR='/home/ubuntu/audiocraft/egs/music'\n",
      "CONFIG_DIR_TRAIN='/home/ubuntu/audiocraft/egs/music/train'\n",
      "CONFIG_FILE_PATH_TRAIN='/home/ubuntu/audiocraft/egs/music/train/data.jsonl'\n",
      "\n",
      "EXECUTE_ONLY='null'\n",
      "\n",
      "AUTOCAST='true'\n",
      "AUTOCAST_DTYPE='bfloat16'\n",
      "\n",
      "CHANNELS=2\n",
      "\n",
      "CODEBOOKS_PATTERN_DELAY_DELAYS='0, 0, 1, 1, 2, 2, 3, 3'\n",
      "\n",
      "CONDITIONER='text2music'\n",
      "\n",
      "CONTINUE_FROM='/home/ubuntu/dora/xps/Spin-trak-classical/checkpoint_5.th'\n",
      "\n",
      "DEVICE='cuda'\n",
      "DTYPE='float32'\n",
      "DSET='music/finetune'\n",
      "EXECUTE_ONLY='null'\n",
      "EFFICIENT_ATTENTION_BACKEND='xformers'\n",
      "FSDP_USE='false'\n",
      "LABEL='My_Label'\n",
      "MODEL_SCALE='large'\n",
      "NUM_THREADS=2\n",
      "SEED=1123581\n",
      "SHOW_MODEL='false'\n",
      "\n",
      "SOLVER='musicgen/musicgen_base_32khz'\n",
      "\n",
      "CHECKPOINT_KEEP_LAST=5\n",
      "CHECKPOINT_SAVE_EVERY=1\n",
      "CHECKPOINT_SAVE_LAST='false'\n",
      "\n",
      "DATASET_BATCH_SIZE=2\n",
      "DATASET_EVALUATE_NUM_SAMPLES=1\n",
      "DATASET_GENERATE_NUM_SAMPLES=6\n",
      "DATASET_GENERATE_RETURN_INFO='true'\n",
      "DATASET_MIN_SEGMENT_RATIO=0.9\n",
      "DATASET_NUM_WORKERS=0\n",
      "DATASET_SAMPLE_ON_DURATION='true'\n",
      "DATASET_SAMPLE_ON_WEIGHT='true'\n",
      "DATASET_SEGMENT_DURATION=30\n",
      "DATASET_SHUFFLE='true'\n",
      "DATASET_TRAIN_DROP_DESC_P=0.5\n",
      "DATASET_TRAIN_DROP_OTHER_P=1.0\n",
      "DATASET_TRAIN_MERGE_TEXT_P=0.0\n",
      "DATASET_TRAIN_NUM_SAMPLES=10000000\n",
      "DATASET_TRAIN_PERMUTATION_ON_FILES='false'\n",
      "DATASET_TRAIN_SHUFFLE='true'\n",
      "DATASET_TRAIN_SHUFFLE_SEED=112358\n",
      "DATASET_VALID_NUM_SAMPLES=6\n",
      "\n",
      "EVALUATE_EVERY=100\n",
      "\n",
      "GENERATE_EVERY=1\n",
      "\n",
      "INTERLEAVE_STEREO_CODEBOOKS_USE='true'\n",
      "\n",
      "LOGGING_LEVEL='INFO'\n",
      "LOGGING_LOG_UPDATES=10\n",
      "LOGGING_LOG_TENSORBOARD='false'\n",
      "LOGGING_LOG_WANDB='false'\n",
      "\n",
      "OPTIM_ADAM_WEIGHT_DECAY=0.001\n",
      "OPTIM_EPOCHS=5\n",
      "OPTIM_LR=1e-06\n",
      "OPTIM_UPDATES_PER_EPOCH=1000\n",
      "OPTIM_OPTIMIZER='adamw'\n",
      "\n",
      "SCHEDULE_COSINE_WARMUP=0\n",
      "SCHEDULE_LR_SCHEDULER='cosine'\n",
      "\n",
      "TENSORBOARD_WITH_MEDIA_LOGGING='false'\n",
      "TENSORBOARD_NAME='AudioCraftResearch'\n",
      "TENSORBOARD_SUB_DIR='/home/ubuntu/tb'\n",
      "\n",
      "TRANSFORMER_LM_N_Q=8\n",
      "TRANSFORMER_LM_CARD=2048\n",
      "\n",
      "WANDB_WITH_MEDIA_LOGGING='false'\n",
      "WANDB_GROUP='AudioCraftWerk'\n",
      "WANDB_NAME='FineTunes'\n",
      "WANDB_PROJECT='AudioCraftFineTunes'\n",
      "\n",
      "---   END SETTINGS   ---\n"
     ]
    }
   ],
   "source": [
    "#@title **<font color='orange'>SET THE CONFIGURATION</font>**\n",
    "\n",
    "#@markdown ---\n",
    "\n",
    "#@markdown <font color='orange'>INSTRUCTIONS</font>\n",
    "\n",
    "#@markdown This is where the `instructions` go\n",
    "\n",
    "AUDIOCRAFT_DIR = '/home/ubuntu/audiocraft'\n",
    "\n",
    "%cd {AUDIOCRAFT_DIR}\n",
    "\n",
    "%env AUDIOCRAFT_DORA_DIR=/home/ubuntu/dora\n",
    "\n",
    "#%env AUDIOCRAFT_REFERENCE_DIR=???\n",
    "\n",
    "ROOT_DIR = f'/home/ubuntu'\n",
    "\n",
    "DORA_DIR = f'{ROOT_DIR}/dora'\n",
    "\n",
    "AUDIOCRAFT_DIR = f'{ROOT_DIR}/audiocraft'\n",
    "\n",
    "#DATASET_DIR = 'dataset/music/'  #@param {type: 'string'}\n",
    "\n",
    "DATASET_DIR = f'{ROOT_DIR}/dataset'\n",
    "\n",
    "DATASET_DIR_TRAIN = f'{DATASET_DIR}/train'\n",
    "\n",
    "#CONFIG_DIR = f'{ROOT_DIR}/meta'\n",
    "CONFIG_DIR = f'{AUDIOCRAFT_DIR}/egs/music'\n",
    "\n",
    "CONFIG_DIR_TRAIN = f'{CONFIG_DIR}/train'\n",
    "\n",
    "CONFIG_FILE_PATH_TRAIN = f'{CONFIG_DIR_TRAIN}/data.jsonl'\n",
    "\n",
    "#@markdown ---\n",
    "#@markdown #####<font color='orange'>SETTINGS</font>\n",
    "\n",
    "#@markdown ---\n",
    "EXECUTE_ONLY                        = 'null' #['generate','evaluate,'valid']\n",
    "\n",
    "AUTOCAST                            = 'true' # Set true for Colab\n",
    "AUTOCAST_DTYPE                      = 'bfloat16'  #@param {type:'string'} ['float16','float32','bfloat16']\n",
    "\n",
    "CHANNELS                            = 2  #@param {type:'string'} [2,1]\n",
    "\n",
    "CONDITIONER                         = 'text2music'  #@param {type:'string'} ['text2music', 'chroma2music']\n",
    "\n",
    "CONTINUE_FROM                       = 'CUSTOM' #@param {type:'string'} ['//pretrained/facebook/musicgen-stereo-small', '//pretrained/facebook/musicgen-stereo-medium', '//pretrained/facebook/musicgen-small', '//pretrained/facebook/musicgen-medium', 'CUSTOM']\n",
    "CONTINUE_FROM_CUSTOM                = '/home/ubuntu/dora/xps/Spin-trak-classical/checkpoint_5.th' #@param {type:'string'}\n",
    "#CONTINUE_FROM                      = f'/content/drive/MyDrive/dora/xps/9566a935/checkpoint.th' #<- e.g. finetune chkpt\n",
    "#CONTINUE_FROM                      = f'//SIG/{sig}'\n",
    "\n",
    "DEVICE                              = 'cuda'  #@param {type:'string'} ['cuda','cpu']\n",
    "DTYPE                               = 'float32'  #@param {type:'string'} ['float16','float32', 'bfloat16']\n",
    "DSET                                = 'music/finetune' # This is some AC strangeness. Represents a piece of a Path\n",
    "\n",
    "EFFICIENT_ATTENTION_BACKEND         = 'xformers'  #@param {type: 'string'} ['torch','xformers']\n",
    "FSDP_USE                            = 'false'  # Not for Colab\n",
    "LABEL                               = 'My_Label'\n",
    "##@param {type:'string'}\n",
    "MODEL_SCALE                         = 'large'  #@param {type:'string'} ['small','medium','large']\n",
    "MP_START_METHOD                     = 'spawn'  #@param {type:'string'} ['fork','forkserver','spawn']\n",
    "NUM_THREADS                         = 2  #@param {type:'number'}\n",
    "SEED                                = 1123581  #@param {type:'number'}\n",
    "SHOW_MODEL                          = 'false'  #@param {type:'string'} ['true','false']\n",
    "SOLVER                              = 'musicgen/musicgen_base_32khz'  #@param {type:'string'} ['musicgen/musicgen_base_32khz', 'musicgen/musicgen_melody_32khz']\n",
    "#@markdown ---\n",
    "#@markdown #####<font color='orange'>CHECKPOINT</font>\n",
    "#@markdown ---\n",
    "CHECKPOINT_KEEP_LAST                = 5  #@param {type:'number'}\n",
    "CHECKPOINT_SAVE_EVERY               = 1  #@param {type:'number'}\n",
    "CHECKPOINT_SAVE_LAST                = 'false'  #@param {type:'string'} ['true','false']\n",
    "#@markdown ---\n",
    "#@markdown #####<font color='orange'>DATASET</font>\n",
    "#@markdown ---\n",
    "DATASET_BATCH_SIZE                  = 2  #@param {type:'number'}\n",
    "DATASET_EVALUATE_NUM_SAMPLES        = 1  #@param {type:'number'}\n",
    "DATASET_GENERATE_NUM_SAMPLES        = 6  #@param {type:'number'}\n",
    "DATASET_GENERATE_RETURN_INFO        = 'true'  #@param {type:'string'} ['true','false']\n",
    "DATASET_MIN_SEGMENT_RATIO           = 0.90  #@param {type:'number'}\n",
    "DATASET_NUM_WORKERS                 = 0  #@param {type:'number'}\n",
    "DATASET_SAMPLE_ON_DURATION          = 'true'  #@param {type:'string'} ['true','false']\n",
    "DATASET_SAMPLE_ON_WEIGHT            = 'true'  #@param {type:'string'} ['true','false']\n",
    "DATASET_SEGMENT_DURATION            = 30  #@param {type:'number'}\n",
    "DATASET_SHUFFLE                     = 'true'  #@param {type:'string'} ['true','false']\n",
    "DATASET_TRAIN_DROP_DESC_P           = 0.5  #@param {type:'number'}\n",
    "DATASET_TRAIN_DROP_OTHER_P          = 1.0  #@param {type:'number'}\n",
    "DATASET_TRAIN_MERGE_TEXT_P          = 0.0  #@param {type:'number'}\n",
    "DATASET_TRAIN_NUM_SAMPLES           = 10_000_000  #@param {type:'number'}\n",
    "DATASET_TRAIN_PERMUTATION_ON_FILES  = 'false'  #@param {type:'string'} ['true','false']\n",
    "DATASET_TRAIN_SHUFFLE               = 'true'  #@param {type:'string'} ['true','false']\n",
    "DATASET_TRAIN_SHUFFLE_SEED          = 112358  #@param {type:'number'}\n",
    "DATASET_VALID_NUM_SAMPLES           = 6  #@param {type:'number'}\n",
    "#@markdown ---\n",
    "#@markdown #####<font color='orange'>STEREO</font>\n",
    "#@markdown ---\n",
    "INTERLEAVE_STEREO_CODEBOOKS_USE     = 'true'  #@param {type:'string'} ['true','false']\n",
    "CODEBOOKS_PATTERN_DELAY_DELAYS      = '0, 0, 1, 1, 2, 2, 3, 3'  #@param {type:'string'} ['0, 0, 1, 1, 2, 2, 3, 3']\n",
    "#@markdown ---\n",
    "#@markdown #####<font color='orange'>LOGGING</font>\n",
    "#@markdown ---\n",
    "LOGGING_LEVEL                       = 'INFO'  #@param {type:'string'} ['INFO','ERROR']\n",
    "LOGGING_LOG_UPDATES                 = 10  #@param {type:'number'}\n",
    "LOGGING_LOG_TENSORBOARD             = 'false'  #@param {type:'string'} ['true','false']\n",
    "LOGGING_LOG_WANDB                   = 'false'  #@param {type:'string'} ['true','false']\n",
    "#@markdown ---\n",
    "#@markdown #####<font color='orange'>EVALUATE SAMPLES</font>\n",
    "#@markdown ---\n",
    "EVALUATE_EVERY                      = 100  #@param {type:'number'}\n",
    "#@markdown ---\n",
    "#@markdown #####<font color='orange'>GENERATE SAMPLES</font>\n",
    "#@markdown ---\n",
    "GENERATE_EVERY                      = 1  #@param {type:'number'}\n",
    "#@markdown ---\n",
    "#@markdown #####<font color='orange'>OPTIMIZER</font>\n",
    "#@markdown ---\n",
    "OPTIM_ADAM_WEIGHT_DECAY             = 1e-3  #@param {type:'number'}\n",
    "OPTIM_EPOCHS                        = 5  #@param {type:'number'}\n",
    "OPTIM_LR                            = 1e-6  #@param {type:'number'}\n",
    "OPTIM_UPDATES_PER_EPOCH             = 1000  #@param {type:'number'}\n",
    "OPTIM_OPTIMIZER                     = 'adamw'  #@param {type:'string'} ['adamw','dadam']\n",
    "#@markdown ---\n",
    "#@markdown #####<font color='orange'>SCHEDULE</font>\n",
    "#@markdown ---\n",
    "SCHEDULE_COSINE_WARMUP              = 0  #@param {type:'number'}\n",
    "SCHEDULE_LR_SCHEDULER               = 'cosine'  #@param {type:'string'} ['cosine']\n",
    "#@markdown ---\n",
    "#@markdown #####<font color='orange'>TENSORBOARD</font>\n",
    "#@markdown ---\n",
    "TENSORBOARD_WITH_MEDIA_LOGGING      = 'false'  #@param {type:'string'} ['true', 'false']\n",
    "TENSORBOARD_NAME                    = 'AudioCraftResearch'  #@param {type:'string'}\n",
    "TENSORBOARD_SUB_DIR                 = '/home/ubuntu/tb'  #@param {type:'string'}\n",
    "#@markdown ---\n",
    "#@markdown #####<font color='orange'>TRANSFORMER</font>\n",
    "#@markdown ---\n",
    "TRANSFORMER_LM_N_Q                  = 8  #@param {type:'number'}\n",
    "TRANSFORMER_LM_CARD                 = 2048  #@param {type:'number'}\n",
    "#@markdown ---\n",
    "#@markdown #####<font color='orange'>WANDB</font>\n",
    "#@markdown ---\n",
    "WANDB_WITH_MEDIA_LOGGING            = 'false'  #@param {type:'string'} ['true', 'false']\n",
    "WANDB_GROUP                         = 'AudioCraftWerk'  #@param {type:'string'}\n",
    "WANDB_NAME                          = 'FineTunes'  #@param {type:'string'}\n",
    "WANDB_PROJECT                       = 'AudioCraftFineTunes'  #@param {type:'string'}\n",
    "#@markdown ---\n",
    "\n",
    "if CONTINUE_FROM == 'CUSTOM':\n",
    "    CONTINUE_FROM = CONTINUE_FROM_CUSTOM\n",
    "\n",
    "print()\n",
    "print(f'---   SETTINGS   ---')\n",
    "print()\n",
    "print()\n",
    "print(f'{ROOT_DIR=}')\n",
    "print()\n",
    "print(f'{DATASET_DIR=}')\n",
    "print(f'{DATASET_DIR_TRAIN=}')\n",
    "print()\n",
    "print(f'{CONFIG_DIR=}')\n",
    "print(f'{CONFIG_DIR_TRAIN=}')\n",
    "print(f'{CONFIG_FILE_PATH_TRAIN=}')\n",
    "print()\n",
    "print(f'{EXECUTE_ONLY=}')\n",
    "print()\n",
    "print(f'{AUTOCAST=}')\n",
    "print(f'{AUTOCAST_DTYPE=}')\n",
    "print()\n",
    "print(f'{CHANNELS=}')\n",
    "print()\n",
    "print(f'{CODEBOOKS_PATTERN_DELAY_DELAYS=}')\n",
    "print()\n",
    "print(f'{CONDITIONER=}')\n",
    "print()\n",
    "print(f'{CONTINUE_FROM=}')\n",
    "print()\n",
    "print(f'{DEVICE=}')\n",
    "print(f'{DTYPE=}')\n",
    "print(f'{DSET=}')\n",
    "print(f'{EXECUTE_ONLY=}')\n",
    "print(f'{EFFICIENT_ATTENTION_BACKEND=}')\n",
    "print(f'{FSDP_USE=}')\n",
    "print(f'{LABEL=}')\n",
    "print(f'{MODEL_SCALE=}')\n",
    "print(f'{NUM_THREADS=}')\n",
    "print(f'{SEED=}')\n",
    "print(f'{SHOW_MODEL=}')\n",
    "print()\n",
    "print(f'{SOLVER=}')\n",
    "print()\n",
    "print(f'{CHECKPOINT_KEEP_LAST=}')\n",
    "print(f'{CHECKPOINT_SAVE_EVERY=}')\n",
    "print(f'{CHECKPOINT_SAVE_LAST=}')\n",
    "print()\n",
    "print(f'{DATASET_BATCH_SIZE=}')\n",
    "print(f'{DATASET_EVALUATE_NUM_SAMPLES=}')\n",
    "print(f'{DATASET_GENERATE_NUM_SAMPLES=}')\n",
    "print(f'{DATASET_GENERATE_RETURN_INFO=}')\n",
    "print(f'{DATASET_MIN_SEGMENT_RATIO=}')\n",
    "print(f'{DATASET_NUM_WORKERS=}')\n",
    "print(f'{DATASET_SAMPLE_ON_DURATION=}')\n",
    "print(f'{DATASET_SAMPLE_ON_WEIGHT=}')\n",
    "print(f'{DATASET_SEGMENT_DURATION=}')\n",
    "print(f'{DATASET_SHUFFLE=}')\n",
    "print(f'{DATASET_TRAIN_DROP_DESC_P=}')\n",
    "print(f'{DATASET_TRAIN_DROP_OTHER_P=}')\n",
    "print(f'{DATASET_TRAIN_MERGE_TEXT_P=}')\n",
    "print(f'{DATASET_TRAIN_NUM_SAMPLES=}')\n",
    "print(f'{DATASET_TRAIN_PERMUTATION_ON_FILES=}')\n",
    "print(f'{DATASET_TRAIN_SHUFFLE=}')\n",
    "print(f'{DATASET_TRAIN_SHUFFLE_SEED=}')\n",
    "print(f'{DATASET_VALID_NUM_SAMPLES=}')\n",
    "print()\n",
    "print(f'{EVALUATE_EVERY=}')\n",
    "print()\n",
    "print(f'{GENERATE_EVERY=}')\n",
    "print()\n",
    "print(f'{INTERLEAVE_STEREO_CODEBOOKS_USE=}')\n",
    "print()\n",
    "print(f'{LOGGING_LEVEL=}')\n",
    "print(f'{LOGGING_LOG_UPDATES=}')\n",
    "print(f'{LOGGING_LOG_TENSORBOARD=}')\n",
    "print(f'{LOGGING_LOG_WANDB=}')\n",
    "print()\n",
    "print(f'{OPTIM_ADAM_WEIGHT_DECAY=}')\n",
    "print(f'{OPTIM_EPOCHS=}')\n",
    "print(f'{OPTIM_LR=}')\n",
    "print(f'{OPTIM_UPDATES_PER_EPOCH=}')\n",
    "print(f'{OPTIM_OPTIMIZER=}')\n",
    "print()\n",
    "print(f'{SCHEDULE_COSINE_WARMUP=}')\n",
    "print(f'{SCHEDULE_LR_SCHEDULER=}')\n",
    "print()\n",
    "print(f'{TENSORBOARD_WITH_MEDIA_LOGGING=}')\n",
    "print(f'{TENSORBOARD_NAME=}')\n",
    "print(f'{TENSORBOARD_SUB_DIR=}')\n",
    "print()\n",
    "print(f'{TRANSFORMER_LM_N_Q=}')\n",
    "print(f'{TRANSFORMER_LM_CARD=}')\n",
    "print()\n",
    "print(f'{WANDB_WITH_MEDIA_LOGGING=}')\n",
    "print(f'{WANDB_GROUP=}')\n",
    "print(f'{WANDB_NAME=}')\n",
    "print(f'{WANDB_PROJECT=}')\n",
    "print()\n",
    "print(f'---   END SETTINGS   ---')"
   ]
  },
  {
   "cell_type": "code",
   "execution_count": 2,
   "id": "accc0a91-48d3-4325-93e0-e346616464a0",
   "metadata": {
    "scrolled": true
   },
   "outputs": [
    {
     "name": "stdout",
     "output_type": "stream",
     "text": [
      "/home/ubuntu/audiocraft\n",
      "dora -P audiocraft run fsdp.use=false autocast=true autocast_dtype=bfloat16 benchmark_no_load=false solver=musicgen/musicgen_base_32khz conditioner=text2music continue_from=/home/ubuntu/dora/xps/Spin-trak-classical/checkpoint_5.th channels=2 device=cuda dset=music/finetune dtype=float32 efficient_attention_backend=xformers label=My_Label model/lm/model_scale=large num_threads=2 seed=1123581 show=false codebooks_pattern.delay.delays='[0, 0, 1, 1, 2, 2, 3, 3]' interleave_stereo_codebooks.use=true transformer_lm.n_q=8 transformer_lm.card=2048 checkpoint.keep_last=5 checkpoint.save_every=1 checkpoint.save_last=false dataset.batch_size=2 dataset.evaluate.num_samples=1 dataset.generate.num_samples=6 dataset.generate.return_info=true dataset.min_segment_ratio=0.9 dataset.num_workers=0 dataset.sample_on_duration=true dataset.sample_on_weight=true dataset.segment_duration=30 dataset.shuffle=true dataset.train.drop_desc_p=0.5 dataset.train.drop_other_p=1.0 dataset.train.merge_text_p=0.0 dataset.train.num_samples=10000000 dataset.train.permutation_on_files=false dataset.train.shuffle=true dataset.train.shuffle_seed=112358 dataset.valid.num_samples=6 evaluate.every=100 generate.every=1 generate.lm.prompted_samples=true generate.lm.unprompted_samples=true generate.lm.gen_gt_samples=false logging.level=INFO logging.log_updates=10 logging.log_tensorboard=false logging.log_wandb=false optim.optimizer=adamw optim.lr=1e-06 optim.epochs=5 optim.updates_per_epoch=1000 optim.adam.weight_decay=0.001 schedule.cosine.warmup=0 schedule.lr_scheduler=cosine tensorboard.name=AudioCraftResearch tensorboard.sub_dir=/home/ubuntu/tb tensorboard.with_media_logging=false wandb.group=AudioCraftWerk wandb.name=FineTunes wandb.project=AudioCraftFineTunes wandb.with_media_logging=false\n",
      "2025-07-31 10:39:07.783997: I tensorflow/core/util/port.cc:110] oneDNN custom operations are on. You may see slightly different numerical results due to floating-point round-off errors from different computation orders. To turn them off, set the environment variable `TF_ENABLE_ONEDNN_OPTS=0`.\n",
      "2025-07-31 10:39:07.787271: I tensorflow/tsl/cuda/cudart_stub.cc:28] Could not find cuda drivers on your machine, GPU will not be used.\n",
      "2025-07-31 10:39:07.852291: I tensorflow/core/platform/cpu_feature_guard.cc:182] This TensorFlow binary is optimized to use available CPU instructions in performance-critical operations.\n",
      "To enable the following instructions: AVX2 AVX512F AVX512_VNNI AVX512_BF16 AVX_VNNI FMA, in other operations, rebuild TensorFlow with the appropriate compiler flags.\n",
      "2025-07-31 10:39:08.720529: W tensorflow/compiler/tf2tensorrt/utils/py_utils.cc:38] TF-TRT Warning: Could not find TensorRT\n",
      "/usr/lib/python3/dist-packages/scipy/__init__.py:146: UserWarning: A NumPy version >=1.17.3 and <1.25.0 is required for this version of SciPy (detected version 1.26.4\n",
      "  warnings.warn(f\"A NumPy version >={np_minversion} and <{np_maxversion}\"\n",
      "Dora directory: /home/ubuntu/dora\n",
      "/home/ubuntu/.local/lib/python3.10/site-packages/hydra/_internal/hydra.py:119: UserWarning: Future Hydra versions will no longer change working directory at job runtime by default.\n",
      "See https://hydra.cc/docs/1.2/upgrades/1.1_to_1.2/changes_to_job_working_dir/ for more information.\n",
      "  ret = run_job(\n",
      "[\u001b[36m07-31 10:39:14\u001b[0m][\u001b[34mdora.distrib\u001b[0m][\u001b[32mINFO\u001b[0m] - world_size is 1, skipping init.\u001b[0m\n",
      "[\u001b[36m07-31 10:39:14\u001b[0m][\u001b[34mflashy.solver\u001b[0m][\u001b[32mINFO\u001b[0m] - Instantiating solver MusicGenSolver for XP e9004e30\u001b[0m\n",
      "[\u001b[36m07-31 10:39:14\u001b[0m][\u001b[34mflashy.solver\u001b[0m][\u001b[32mINFO\u001b[0m] - All XP logs are stored in /home/ubuntu/dora/xps/e9004e30\u001b[0m\n",
      "[\u001b[36m07-31 10:39:14\u001b[0m][\u001b[34maudiocraft.solvers.builders\u001b[0m][\u001b[32mINFO\u001b[0m] - Loading audio data split evaluate: /home/ubuntu/audiocraft/egs/music/train\u001b[0m\n",
      "[\u001b[36m07-31 10:39:14\u001b[0m][\u001b[34maudiocraft.solvers.builders\u001b[0m][\u001b[32mINFO\u001b[0m] - Loading audio data split generate: /home/ubuntu/audiocraft/egs/music/train\u001b[0m\n",
      "[\u001b[36m07-31 10:39:14\u001b[0m][\u001b[34maudiocraft.solvers.builders\u001b[0m][\u001b[32mINFO\u001b[0m] - Loading audio data split valid: /home/ubuntu/audiocraft/egs/music/train\u001b[0m\n",
      "[\u001b[36m07-31 10:39:14\u001b[0m][\u001b[34maudiocraft.solvers.builders\u001b[0m][\u001b[32mINFO\u001b[0m] - Loading audio data split train: /home/ubuntu/audiocraft/egs/music/train\u001b[0m\n",
      "[\u001b[36m07-31 10:39:14\u001b[0m][\u001b[34mroot\u001b[0m][\u001b[32mINFO\u001b[0m] - Getting pretrained compression model from HF facebook/encodec_32khz\u001b[0m\n",
      "[\u001b[36m07-31 10:39:15\u001b[0m][\u001b[34mflashy.solver\u001b[0m][\u001b[32mINFO\u001b[0m] - Compression model has 8 codebooks with 2048 cardinality, and a framerate of 50\u001b[0m\n",
      "[\u001b[36m07-31 10:39:15\u001b[0m][\u001b[34maudiocraft.modules.conditioners\u001b[0m][\u001b[32mINFO\u001b[0m] - T5 will be evaluated with autocast as float32\u001b[0m\n",
      "[\u001b[36m07-31 10:39:47\u001b[0m][\u001b[34mflashy.solver\u001b[0m][\u001b[32mINFO\u001b[0m] - Model hash: 76263fce02a043a932f97ec3d5f8acc8bc3bfc4a\u001b[0m\n",
      "[\u001b[36m07-31 10:39:47\u001b[0m][\u001b[34mflashy.solver\u001b[0m][\u001b[32mINFO\u001b[0m] - Initializing EMA on the model with decay = 0.99 every 10 updates\u001b[0m\n",
      "[\u001b[36m07-31 10:39:47\u001b[0m][\u001b[34mflashy.solver\u001b[0m][\u001b[32mINFO\u001b[0m] - Model size: 3290.52 M params\u001b[0m\n",
      "[\u001b[36m07-31 10:39:47\u001b[0m][\u001b[34mflashy.solver\u001b[0m][\u001b[32mINFO\u001b[0m] - Base memory usage, with model, grad and optim: 52.65 GB\u001b[0m\n",
      "[\u001b[36m07-31 10:39:47\u001b[0m][\u001b[34mflashy.solver\u001b[0m][\u001b[32mINFO\u001b[0m] - Restoring weights and history.\u001b[0m\n",
      "[\u001b[36m07-31 10:39:47\u001b[0m][\u001b[34mflashy.solver\u001b[0m][\u001b[32mINFO\u001b[0m] - Continuing from provided checkpoint: /home/ubuntu/dora/xps/Spin-trak-classical/checkpoint_5.th\u001b[0m\n",
      "[\u001b[36m07-31 10:40:15\u001b[0m][\u001b[34maudiocraft.utils.checkpoint\u001b[0m][\u001b[32mINFO\u001b[0m] - Checkpoint loaded from /home/ubuntu/dora/xps/Spin-trak-classical/checkpoint_5.th\u001b[0m\n",
      "[\u001b[36m07-31 10:40:15\u001b[0m][\u001b[34mflashy.solver\u001b[0m][\u001b[32mINFO\u001b[0m] - Checkpoint source is not the current xp: Load state_dict from best state.\u001b[0m\n",
      "[\u001b[36m07-31 10:40:17\u001b[0m][\u001b[34mflashy.solver\u001b[0m][\u001b[32mINFO\u001b[0m] - Ignoring keys when loading best []\u001b[0m\n",
      "[\u001b[36m07-31 10:40:17\u001b[0m][\u001b[34mflashy.solver\u001b[0m][\u001b[32mINFO\u001b[0m] - Loading state_dict from best state.\u001b[0m\n",
      "[\u001b[36m07-31 10:40:29\u001b[0m][\u001b[34mflashy.solver\u001b[0m][\u001b[32mINFO\u001b[0m] - Re-initializing EMA from best state\u001b[0m\n",
      "[\u001b[36m07-31 10:40:29\u001b[0m][\u001b[34mflashy.solver\u001b[0m][\u001b[32mINFO\u001b[0m] - Initializing EMA on the model with decay = 0.99 every 10 updates\u001b[0m\n",
      "[\u001b[36m07-31 10:40:38\u001b[0m][\u001b[34mflashy.solver\u001b[0m][\u001b[32mINFO\u001b[0m] - Model hash: 5254bc65b8f4c9d51d6850f317cfb5bc6187b165\u001b[0m\n",
      "/home/ubuntu/audiocraft/audiocraft/solvers/musicgen.py:276: UserWarning: Up to version 1.0.1, the _prepare_tokens_and_attributes was evaluated with `torch.no_grad()`. This is inconsistent with how model were trained in the MusicGen paper. We removed the `torch.no_grad()` in version 1.1.0. Small changes to the final performance are expected. Really sorry about that.\n",
      "  warnings.warn(\n",
      "[\u001b[36m07-31 10:40:39\u001b[0m][\u001b[34maudiocraft.modules.codebooks_patterns\u001b[0m][\u001b[32mINFO\u001b[0m] - New pattern, time steps: 1500, sequence steps: 1504\u001b[0m\n",
      "/home/ubuntu/.local/lib/python3.10/site-packages/torch/cuda/__init__.py:866: UserWarning: Synchronization debug mode is a prototype feature and does not yet detect all synchronizing operations (Triggered internally at ../torch/csrc/cuda/Module.cpp:816.)\n",
      "  torch._C._cuda_set_sync_debug_mode(debug_mode)\n",
      "/home/ubuntu/.local/lib/python3.10/site-packages/transformers/models/encodec/modeling_encodec.py:145: UserWarning: called a synchronizing CUDA operation (Triggered internally at ../c10/cuda/CUDAFunctions.cpp:147.)\n",
      "  max_pad = max(padding_left, padding_right)\n",
      "/home/ubuntu/.local/lib/python3.10/site-packages/transformers/models/encodec/modeling_encodec.py:147: UserWarning: called a synchronizing CUDA operation (Triggered internally at ../c10/cuda/CUDAFunctions.cpp:147.)\n",
      "  if length <= max_pad:\n",
      "/home/ubuntu/.local/lib/python3.10/site-packages/transformers/models/encodec/modeling_encodec.py:150: UserWarning: called a synchronizing CUDA operation (Triggered internally at ../c10/cuda/CUDAFunctions.cpp:147.)\n",
      "  padded = nn.functional.pad(hidden_states, paddings, mode, value)\n",
      "/home/ubuntu/audiocraft/audiocraft/solvers/musicgen.py:244: UserWarning: called a synchronizing CUDA operation (Triggered internally at ../c10/cuda/CUDAFunctions.cpp:147.)\n",
      "  ce_targets = targets_k[mask_k]\n",
      "/home/ubuntu/audiocraft/audiocraft/solvers/musicgen.py:245: UserWarning: called a synchronizing CUDA operation (Triggered internally at ../c10/cuda/CUDAFunctions.cpp:147.)\n",
      "  ce_logits = logits_k[mask_k]\n",
      "[\u001b[36m07-31 10:42:05\u001b[0m][\u001b[34mflashy.solver\u001b[0m][\u001b[32mINFO\u001b[0m] - Train | Epoch 1 | 100/1000 | 1.16 it/sec | lr 1.00E-06 | grad_norm 2.942E+00 | ce 4.236 | ppl 73.904\u001b[0m\n",
      "[\u001b[36m07-31 10:43:32\u001b[0m][\u001b[34mflashy.solver\u001b[0m][\u001b[32mINFO\u001b[0m] - Train | Epoch 1 | 200/1000 | 1.16 it/sec | lr 9.98E-07 | grad_norm 2.849E+00 | ce 4.152 | ppl 69.382\u001b[0m\n",
      "[\u001b[36m07-31 10:44:58\u001b[0m][\u001b[34mflashy.solver\u001b[0m][\u001b[32mINFO\u001b[0m] - Train | Epoch 1 | 300/1000 | 1.16 it/sec | lr 9.94E-07 | grad_norm 2.888E+00 | ce 4.208 | ppl 72.357\u001b[0m\n",
      "[\u001b[36m07-31 10:46:24\u001b[0m][\u001b[34mflashy.solver\u001b[0m][\u001b[32mINFO\u001b[0m] - Train | Epoch 1 | 400/1000 | 1.16 it/sec | lr 9.88E-07 | grad_norm 2.837E+00 | ce 4.167 | ppl 72.063\u001b[0m\n",
      "[\u001b[36m07-31 10:47:50\u001b[0m][\u001b[34mflashy.solver\u001b[0m][\u001b[32mINFO\u001b[0m] - Train | Epoch 1 | 500/1000 | 1.16 it/sec | lr 9.80E-07 | grad_norm 2.776E+00 | ce 4.165 | ppl 70.185\u001b[0m\n",
      "[\u001b[36m07-31 10:49:16\u001b[0m][\u001b[34mflashy.solver\u001b[0m][\u001b[32mINFO\u001b[0m] - Train | Epoch 1 | 600/1000 | 1.16 it/sec | lr 9.70E-07 | grad_norm 2.787E+00 | ce 4.176 | ppl 71.823\u001b[0m\n",
      "[\u001b[36m07-31 10:50:42\u001b[0m][\u001b[34mflashy.solver\u001b[0m][\u001b[32mINFO\u001b[0m] - Train | Epoch 1 | 700/1000 | 1.16 it/sec | lr 9.59E-07 | grad_norm 2.771E+00 | ce 4.103 | ppl 68.872\u001b[0m\n",
      "[\u001b[36m07-31 10:52:08\u001b[0m][\u001b[34mflashy.solver\u001b[0m][\u001b[32mINFO\u001b[0m] - Train | Epoch 1 | 800/1000 | 1.16 it/sec | lr 9.45E-07 | grad_norm 2.748E+00 | ce 4.138 | ppl 69.079\u001b[0m\n",
      "[\u001b[36m07-31 10:53:34\u001b[0m][\u001b[34mflashy.solver\u001b[0m][\u001b[32mINFO\u001b[0m] - Train | Epoch 1 | 900/1000 | 1.16 it/sec | lr 9.30E-07 | grad_norm 2.749E+00 | ce 4.119 | ppl 67.188\u001b[0m\n",
      "[\u001b[36m07-31 10:54:59\u001b[0m][\u001b[34mflashy.solver\u001b[0m][\u001b[32mINFO\u001b[0m] - \u001b[1mTrain Summary | Epoch 1 | lr=9.68E-07 | grad_norm=2.805E+00 | ce=4.161 | ppl=70.389 | duration=861.310\u001b[0m\n",
      "[\u001b[36m07-31 10:55:06\u001b[0m][\u001b[34mflashy.solver\u001b[0m][\u001b[32mINFO\u001b[0m] - Valid | Epoch 1 | 1/3 | 2.11 it/sec | ce 3.961 | ppl 54.562\u001b[0m\n",
      "[\u001b[36m07-31 10:55:06\u001b[0m][\u001b[34mflashy.solver\u001b[0m][\u001b[32mINFO\u001b[0m] - Valid | Epoch 1 | 2/3 | 2.11 it/sec | ce 4.723 | ppl 112.510\u001b[0m\n",
      "[\u001b[36m07-31 10:55:06\u001b[0m][\u001b[34mflashy.solver\u001b[0m][\u001b[32mINFO\u001b[0m] - \u001b[1mValid Summary | Epoch 1 | ce=4.215 | ppl=73.878 | duration=1.425\u001b[0m\n",
      "[\u001b[36m07-31 10:55:06\u001b[0m][\u001b[34mflashy.solver\u001b[0m][\u001b[32mINFO\u001b[0m] - New best state with ce=4.215 (was inf)\u001b[0m\n",
      "[\u001b[36m07-31 10:55:28\u001b[0m][\u001b[34mflashy.solver\u001b[0m][\u001b[32mINFO\u001b[0m] - Generating samples in /home/ubuntu/dora/xps/e9004e30/samples\u001b[0m\n",
      "[\u001b[36m07-31 10:57:40\u001b[0m][\u001b[34maudiocraft.utils.samples.manager\u001b[0m][\u001b[33mWARNING\u001b[0m] - Overwriting existing audio file with stem path /home/ubuntu/dora/xps/e9004e30/samples/1/04ba8ff15d299b24eb4110247ce570c19f9998ae_unprompted_description=an-indie-rock-music-piece-with-energetic-guitar-riffs-upbeat-rhythms-and-expressive-melo\u001b[0m\n",
      "[\u001b[36m07-31 10:57:41\u001b[0m][\u001b[34maudiocraft.utils.samples.manager\u001b[0m][\u001b[33mWARNING\u001b[0m] - Overwriting existing audio file with stem path /home/ubuntu/dora/xps/e9004e30/samples/1/e18366c35e23a984f799ae0a9cfa1ba4e9d7c3fe_unprompted_description=an-indie-rock-music-piece-with-energetic-guitar-riffs-upbeat-rhythms-and-expressive-melo\u001b[0m\n",
      "[\u001b[36m07-31 10:58:19\u001b[0m][\u001b[34mflashy.solver\u001b[0m][\u001b[32mINFO\u001b[0m] - Generate | Epoch 1 | 1/3 | 85.6 sec/it\u001b[0m\n",
      "[\u001b[36m07-31 10:59:10\u001b[0m][\u001b[34maudiocraft.utils.samples.manager\u001b[0m][\u001b[33mWARNING\u001b[0m] - Overwriting existing audio file with stem path /home/ubuntu/dora/xps/e9004e30/samples/1/04ba8ff15d299b24eb4110247ce570c19f9998ae_unprompted_description=an-indie-rock-music-piece-with-energetic-guitar-riffs-upbeat-rhythms-and-expressive-melo\u001b[0m\n",
      "[\u001b[36m07-31 10:59:10\u001b[0m][\u001b[34maudiocraft.utils.samples.manager\u001b[0m][\u001b[33mWARNING\u001b[0m] - Overwriting existing audio file with stem path /home/ubuntu/dora/xps/e9004e30/samples/1/e18366c35e23a984f799ae0a9cfa1ba4e9d7c3fe_unprompted_description=an-indie-rock-music-piece-with-energetic-guitar-riffs-upbeat-rhythms-and-expressive-melo\u001b[0m\n",
      "CLIPPING /home/ubuntu/dora/xps/e9004e30/samples/1/e18366c35e23a984f799ae0a9cfa1ba4e9d7c3fe_unprompted_description=an-indie-rock-music-piece-with-energetic-guitar-riffs-upbeat-rhythms-and-expressive-melo happening with proba (a bit of clipping is okay): 2.0833333564951317e-06 maximum scale:  1.323005199432373\n",
      "[\u001b[36m07-31 10:59:49\u001b[0m][\u001b[34mflashy.solver\u001b[0m][\u001b[32mINFO\u001b[0m] - Generate | Epoch 1 | 2/3 | 87.1 sec/it\u001b[0m\n",
      "[\u001b[36m07-31 10:59:49\u001b[0m][\u001b[34mflashy.solver\u001b[0m][\u001b[32mINFO\u001b[0m] - \u001b[1mGenerate Summary | Epoch 1 | rtf=1.561 | duration=261.228\u001b[0m\n",
      "[\u001b[36m07-31 10:59:59\u001b[0m][\u001b[34mflashy.solver\u001b[0m][\u001b[32mINFO\u001b[0m] - Model hash: dd0cb9c13fa47676209a6d9580b0bfe1da18994f\u001b[0m\n",
      "[\u001b[36m07-31 11:00:55\u001b[0m][\u001b[34maudiocraft.utils.checkpoint\u001b[0m][\u001b[32mINFO\u001b[0m] - Checkpoint saved to /home/ubuntu/dora/xps/e9004e30/checkpoint_1.th\u001b[0m\n",
      "/home/ubuntu/audiocraft/audiocraft/solvers/musicgen.py:276: UserWarning: Up to version 1.0.1, the _prepare_tokens_and_attributes was evaluated with `torch.no_grad()`. This is inconsistent with how model were trained in the MusicGen paper. We removed the `torch.no_grad()` in version 1.1.0. Small changes to the final performance are expected. Really sorry about that.\n",
      "  warnings.warn(\n",
      "/home/ubuntu/.local/lib/python3.10/site-packages/transformers/models/encodec/modeling_encodec.py:145: UserWarning: called a synchronizing CUDA operation (Triggered internally at ../c10/cuda/CUDAFunctions.cpp:147.)\n",
      "  max_pad = max(padding_left, padding_right)\n",
      "/home/ubuntu/.local/lib/python3.10/site-packages/transformers/models/encodec/modeling_encodec.py:147: UserWarning: called a synchronizing CUDA operation (Triggered internally at ../c10/cuda/CUDAFunctions.cpp:147.)\n",
      "  if length <= max_pad:\n",
      "/home/ubuntu/.local/lib/python3.10/site-packages/transformers/models/encodec/modeling_encodec.py:150: UserWarning: called a synchronizing CUDA operation (Triggered internally at ../c10/cuda/CUDAFunctions.cpp:147.)\n",
      "  padded = nn.functional.pad(hidden_states, paddings, mode, value)\n",
      "/home/ubuntu/audiocraft/audiocraft/solvers/musicgen.py:244: UserWarning: called a synchronizing CUDA operation (Triggered internally at ../c10/cuda/CUDAFunctions.cpp:147.)\n",
      "  ce_targets = targets_k[mask_k]\n",
      "/home/ubuntu/audiocraft/audiocraft/solvers/musicgen.py:245: UserWarning: called a synchronizing CUDA operation (Triggered internally at ../c10/cuda/CUDAFunctions.cpp:147.)\n",
      "  ce_logits = logits_k[mask_k]\n",
      "[\u001b[36m07-31 11:02:21\u001b[0m][\u001b[34mflashy.solver\u001b[0m][\u001b[32mINFO\u001b[0m] - Train | Epoch 2 | 100/1000 | 1.18 it/sec | lr 8.95E-07 | grad_norm 2.722E+00 | ce 4.115 | ppl 68.398\u001b[0m\n",
      "[\u001b[36m07-31 11:03:45\u001b[0m][\u001b[34mflashy.solver\u001b[0m][\u001b[32mINFO\u001b[0m] - Train | Epoch 2 | 200/1000 | 1.18 it/sec | lr 8.75E-07 | grad_norm 2.696E+00 | ce 4.137 | ppl 69.119\u001b[0m\n",
      "[\u001b[36m07-31 11:05:11\u001b[0m][\u001b[34mflashy.solver\u001b[0m][\u001b[32mINFO\u001b[0m] - Train | Epoch 2 | 300/1000 | 1.18 it/sec | lr 8.53E-07 | grad_norm 2.684E+00 | ce 4.071 | ppl 65.089\u001b[0m\n",
      "[\u001b[36m07-31 11:06:37\u001b[0m][\u001b[34mflashy.solver\u001b[0m][\u001b[32mINFO\u001b[0m] - Train | Epoch 2 | 400/1000 | 1.17 it/sec | lr 8.30E-07 | grad_norm 2.698E+00 | ce 4.146 | ppl 69.960\u001b[0m\n",
      "[\u001b[36m07-31 11:08:03\u001b[0m][\u001b[34mflashy.solver\u001b[0m][\u001b[32mINFO\u001b[0m] - Train | Epoch 2 | 500/1000 | 1.17 it/sec | lr 8.06E-07 | grad_norm 2.694E+00 | ce 4.043 | ppl 63.226\u001b[0m\n",
      "[\u001b[36m07-31 11:09:28\u001b[0m][\u001b[34mflashy.solver\u001b[0m][\u001b[32mINFO\u001b[0m] - Train | Epoch 2 | 600/1000 | 1.17 it/sec | lr 7.81E-07 | grad_norm 2.718E+00 | ce 4.063 | ppl 63.199\u001b[0m\n",
      "[\u001b[36m07-31 11:10:54\u001b[0m][\u001b[34mflashy.solver\u001b[0m][\u001b[32mINFO\u001b[0m] - Train | Epoch 2 | 700/1000 | 1.17 it/sec | lr 7.54E-07 | grad_norm 2.639E+00 | ce 4.125 | ppl 68.078\u001b[0m\n",
      "[\u001b[36m07-31 11:12:20\u001b[0m][\u001b[34mflashy.solver\u001b[0m][\u001b[32mINFO\u001b[0m] - Train | Epoch 2 | 800/1000 | 1.17 it/sec | lr 7.27E-07 | grad_norm 2.660E+00 | ce 4.087 | ppl 65.731\u001b[0m\n",
      "[\u001b[36m07-31 11:13:47\u001b[0m][\u001b[34mflashy.solver\u001b[0m][\u001b[32mINFO\u001b[0m] - Train | Epoch 2 | 900/1000 | 1.17 it/sec | lr 6.98E-07 | grad_norm 2.610E+00 | ce 4.198 | ppl 73.399\u001b[0m\n",
      "[\u001b[36m07-31 11:15:12\u001b[0m][\u001b[34mflashy.solver\u001b[0m][\u001b[32mINFO\u001b[0m] - \u001b[1mTrain Summary | Epoch 2 | lr=7.89E-07 | grad_norm=2.675E+00 | ce=4.106 | ppl=67.213 | duration=856.586\u001b[0m\n",
      "[\u001b[36m07-31 11:15:18\u001b[0m][\u001b[34mflashy.solver\u001b[0m][\u001b[32mINFO\u001b[0m] - Valid | Epoch 2 | 1/3 | 2.23 it/sec | ce 3.590 | ppl 36.245\u001b[0m\n",
      "[\u001b[36m07-31 11:15:18\u001b[0m][\u001b[34mflashy.solver\u001b[0m][\u001b[32mINFO\u001b[0m] - Valid | Epoch 2 | 2/3 | 2.22 it/sec | ce 4.285 | ppl 72.615\u001b[0m\n",
      "[\u001b[36m07-31 11:15:18\u001b[0m][\u001b[34mflashy.solver\u001b[0m][\u001b[32mINFO\u001b[0m] - \u001b[1mValid Summary | Epoch 2 | ce=3.822 | ppl=48.369 | duration=1.356\u001b[0m\n",
      "[\u001b[36m07-31 11:15:18\u001b[0m][\u001b[34mflashy.solver\u001b[0m][\u001b[32mINFO\u001b[0m] - New best state with ce=3.822 (was 4.215)\u001b[0m\n",
      "[\u001b[36m07-31 11:15:37\u001b[0m][\u001b[34mflashy.solver\u001b[0m][\u001b[32mINFO\u001b[0m] - Generating samples in /home/ubuntu/dora/xps/e9004e30/samples\u001b[0m\n",
      "CLIPPING /home/ubuntu/dora/xps/e9004e30/samples/2/8e4e33a11685eced824a9ad8252ba5ea9d453eb7_prompted_description=an-indie-rock-music-piece-with-energetic-guitar-riffs-upbeat-rhythms-and-expressive-melo happening with proba (a bit of clipping is okay): 5.208333391237829e-07 maximum scale:  1.0308640003204346\n",
      "[\u001b[36m07-31 11:17:47\u001b[0m][\u001b[34maudiocraft.utils.samples.manager\u001b[0m][\u001b[33mWARNING\u001b[0m] - Overwriting existing audio file with stem path /home/ubuntu/dora/xps/e9004e30/samples/2/04ba8ff15d299b24eb4110247ce570c19f9998ae_unprompted_description=an-indie-rock-music-piece-with-energetic-guitar-riffs-upbeat-rhythms-and-expressive-melo\u001b[0m\n",
      "[\u001b[36m07-31 11:17:47\u001b[0m][\u001b[34maudiocraft.utils.samples.manager\u001b[0m][\u001b[33mWARNING\u001b[0m] - Overwriting existing audio file with stem path /home/ubuntu/dora/xps/e9004e30/samples/2/e18366c35e23a984f799ae0a9cfa1ba4e9d7c3fe_unprompted_description=an-indie-rock-music-piece-with-energetic-guitar-riffs-upbeat-rhythms-and-expressive-melo\u001b[0m\n",
      "[\u001b[36m07-31 11:18:25\u001b[0m][\u001b[34mflashy.solver\u001b[0m][\u001b[32mINFO\u001b[0m] - Generate | Epoch 2 | 1/3 | 84.0 sec/it\u001b[0m\n",
      "[\u001b[36m07-31 11:19:16\u001b[0m][\u001b[34maudiocraft.utils.samples.manager\u001b[0m][\u001b[33mWARNING\u001b[0m] - Overwriting existing audio file with stem path /home/ubuntu/dora/xps/e9004e30/samples/2/04ba8ff15d299b24eb4110247ce570c19f9998ae_unprompted_description=an-indie-rock-music-piece-with-energetic-guitar-riffs-upbeat-rhythms-and-expressive-melo\u001b[0m\n",
      "[\u001b[36m07-31 11:19:16\u001b[0m][\u001b[34maudiocraft.utils.samples.manager\u001b[0m][\u001b[33mWARNING\u001b[0m] - Overwriting existing audio file with stem path /home/ubuntu/dora/xps/e9004e30/samples/2/e18366c35e23a984f799ae0a9cfa1ba4e9d7c3fe_unprompted_description=an-indie-rock-music-piece-with-energetic-guitar-riffs-upbeat-rhythms-and-expressive-melo\u001b[0m\n",
      "CLIPPING /home/ubuntu/dora/xps/e9004e30/samples/2/2890343cfb8a6d658c2ab25cb414e3903410438b_prompted_description=an-indie-rock-music-piece-with-energetic-guitar-riffs-upbeat-rhythms-and-expressive-melo happening with proba (a bit of clipping is okay): 2.3958333258633502e-05 maximum scale:  1.0823383331298828\n",
      "[\u001b[36m07-31 11:19:53\u001b[0m][\u001b[34mflashy.solver\u001b[0m][\u001b[32mINFO\u001b[0m] - Generate | Epoch 2 | 2/3 | 85.2 sec/it\u001b[0m\n",
      "[\u001b[36m07-31 11:19:53\u001b[0m][\u001b[34mflashy.solver\u001b[0m][\u001b[32mINFO\u001b[0m] - \u001b[1mGenerate Summary | Epoch 2 | rtf=1.564 | duration=255.688\u001b[0m\n",
      "[\u001b[36m07-31 11:20:06\u001b[0m][\u001b[34mflashy.solver\u001b[0m][\u001b[32mINFO\u001b[0m] - Model hash: c040c6940bf252e1f8f7fd3c4086fab960811459\u001b[0m\n",
      "[\u001b[36m07-31 11:21:00\u001b[0m][\u001b[34maudiocraft.utils.checkpoint\u001b[0m][\u001b[32mINFO\u001b[0m] - Checkpoint saved to /home/ubuntu/dora/xps/e9004e30/checkpoint_2.th\u001b[0m\n",
      "/home/ubuntu/audiocraft/audiocraft/solvers/musicgen.py:276: UserWarning: Up to version 1.0.1, the _prepare_tokens_and_attributes was evaluated with `torch.no_grad()`. This is inconsistent with how model were trained in the MusicGen paper. We removed the `torch.no_grad()` in version 1.1.0. Small changes to the final performance are expected. Really sorry about that.\n",
      "  warnings.warn(\n",
      "/home/ubuntu/.local/lib/python3.10/site-packages/transformers/models/encodec/modeling_encodec.py:145: UserWarning: called a synchronizing CUDA operation (Triggered internally at ../c10/cuda/CUDAFunctions.cpp:147.)\n",
      "  max_pad = max(padding_left, padding_right)\n",
      "/home/ubuntu/.local/lib/python3.10/site-packages/transformers/models/encodec/modeling_encodec.py:147: UserWarning: called a synchronizing CUDA operation (Triggered internally at ../c10/cuda/CUDAFunctions.cpp:147.)\n",
      "  if length <= max_pad:\n",
      "/home/ubuntu/.local/lib/python3.10/site-packages/transformers/models/encodec/modeling_encodec.py:150: UserWarning: called a synchronizing CUDA operation (Triggered internally at ../c10/cuda/CUDAFunctions.cpp:147.)\n",
      "  padded = nn.functional.pad(hidden_states, paddings, mode, value)\n",
      "/home/ubuntu/audiocraft/audiocraft/solvers/musicgen.py:244: UserWarning: called a synchronizing CUDA operation (Triggered internally at ../c10/cuda/CUDAFunctions.cpp:147.)\n",
      "  ce_targets = targets_k[mask_k]\n",
      "/home/ubuntu/audiocraft/audiocraft/solvers/musicgen.py:245: UserWarning: called a synchronizing CUDA operation (Triggered internally at ../c10/cuda/CUDAFunctions.cpp:147.)\n",
      "  ce_logits = logits_k[mask_k]\n",
      "[\u001b[36m07-31 11:23:53\u001b[0m][\u001b[34mflashy.solver\u001b[0m][\u001b[32mINFO\u001b[0m] - Train | Epoch 3 | 200/1000 | 1.16 it/sec | lr 6.09E-07 | grad_norm 2.613E+00 | ce 4.163 | ppl 70.220\u001b[0m\n",
      "[\u001b[36m07-31 11:25:19\u001b[0m][\u001b[34mflashy.solver\u001b[0m][\u001b[32mINFO\u001b[0m] - Train | Epoch 3 | 300/1000 | 1.16 it/sec | lr 5.78E-07 | grad_norm 2.627E+00 | ce 4.140 | ppl 69.121\u001b[0m\n",
      "[\u001b[36m07-31 11:26:45\u001b[0m][\u001b[34mflashy.solver\u001b[0m][\u001b[32mINFO\u001b[0m] - Train | Epoch 3 | 400/1000 | 1.16 it/sec | lr 5.47E-07 | grad_norm 2.626E+00 | ce 4.115 | ppl 67.238\u001b[0m\n",
      "[\u001b[36m07-31 11:28:12\u001b[0m][\u001b[34mflashy.solver\u001b[0m][\u001b[32mINFO\u001b[0m] - Train | Epoch 3 | 500/1000 | 1.16 it/sec | lr 5.16E-07 | grad_norm 2.608E+00 | ce 4.238 | ppl 75.261\u001b[0m\n",
      "[\u001b[36m07-31 11:29:39\u001b[0m][\u001b[34mflashy.solver\u001b[0m][\u001b[32mINFO\u001b[0m] - Train | Epoch 3 | 600/1000 | 1.16 it/sec | lr 4.84E-07 | grad_norm 2.608E+00 | ce 4.151 | ppl 69.975\u001b[0m\n",
      "[\u001b[36m07-31 11:31:05\u001b[0m][\u001b[34mflashy.solver\u001b[0m][\u001b[32mINFO\u001b[0m] - Train | Epoch 3 | 700/1000 | 1.16 it/sec | lr 4.53E-07 | grad_norm 2.603E+00 | ce 4.131 | ppl 69.173\u001b[0m\n",
      "[\u001b[36m07-31 11:32:31\u001b[0m][\u001b[34mflashy.solver\u001b[0m][\u001b[32mINFO\u001b[0m] - Train | Epoch 3 | 800/1000 | 1.16 it/sec | lr 4.22E-07 | grad_norm 2.596E+00 | ce 4.102 | ppl 66.386\u001b[0m\n",
      "[\u001b[36m07-31 11:33:58\u001b[0m][\u001b[34mflashy.solver\u001b[0m][\u001b[32mINFO\u001b[0m] - Train | Epoch 3 | 900/1000 | 1.16 it/sec | lr 3.91E-07 | grad_norm 2.630E+00 | ce 4.077 | ppl 63.424\u001b[0m\n",
      "[\u001b[36m07-31 11:35:24\u001b[0m][\u001b[34mflashy.solver\u001b[0m][\u001b[32mINFO\u001b[0m] - \u001b[1mTrain Summary | Epoch 3 | lr=5.00E-07 | grad_norm=2.619E+00 | ce=4.127 | ppl=68.120 | duration=864.155\u001b[0m\n",
      "[\u001b[36m07-31 11:35:27\u001b[0m][\u001b[34mflashy.solver\u001b[0m][\u001b[32mINFO\u001b[0m] - Valid | Epoch 3 | 1/3 | 2.09 it/sec | ce 4.100 | ppl 60.463\u001b[0m\n",
      "[\u001b[36m07-31 11:35:28\u001b[0m][\u001b[34mflashy.solver\u001b[0m][\u001b[32mINFO\u001b[0m] - Valid | Epoch 3 | 2/3 | 2.12 it/sec | ce 4.957 | ppl 142.168\u001b[0m\n",
      "[\u001b[36m07-31 11:35:28\u001b[0m][\u001b[34mflashy.solver\u001b[0m][\u001b[32mINFO\u001b[0m] - \u001b[1mValid Summary | Epoch 3 | ce=4.385 | ppl=87.698 | duration=1.415\u001b[0m\n",
      "[\u001b[36m07-31 11:35:36\u001b[0m][\u001b[34mflashy.solver\u001b[0m][\u001b[32mINFO\u001b[0m] - Generating samples in /home/ubuntu/dora/xps/e9004e30/samples\u001b[0m\n",
      "[\u001b[36m07-31 11:37:48\u001b[0m][\u001b[34maudiocraft.utils.samples.manager\u001b[0m][\u001b[33mWARNING\u001b[0m] - Overwriting existing audio file with stem path /home/ubuntu/dora/xps/e9004e30/samples/3/04ba8ff15d299b24eb4110247ce570c19f9998ae_unprompted_description=an-indie-rock-music-piece-with-energetic-guitar-riffs-upbeat-rhythms-and-expressive-melo\u001b[0m\n",
      "CLIPPING /home/ubuntu/dora/xps/e9004e30/samples/reference/ce04d699fecc0515dce026264bbd339739c87a3f happening with proba (a bit of clipping is okay): 4.8437501391163096e-05 maximum scale:  1.2411925792694092\n",
      "[\u001b[36m07-31 11:37:49\u001b[0m][\u001b[34maudiocraft.utils.samples.manager\u001b[0m][\u001b[33mWARNING\u001b[0m] - Overwriting existing audio file with stem path /home/ubuntu/dora/xps/e9004e30/samples/3/e18366c35e23a984f799ae0a9cfa1ba4e9d7c3fe_unprompted_description=an-indie-rock-music-piece-with-energetic-guitar-riffs-upbeat-rhythms-and-expressive-melo\u001b[0m\n",
      "CLIPPING /home/ubuntu/dora/xps/e9004e30/samples/3/prompt/0fac547128a9bbbc348d3d691081ce35c588bcca happening with proba (a bit of clipping is okay): 0.0002354166645091027 maximum scale:  1.2019401788711548\n",
      "[\u001b[36m07-31 11:38:27\u001b[0m][\u001b[34mflashy.solver\u001b[0m][\u001b[32mINFO\u001b[0m] - Generate | Epoch 3 | 1/3 | 85.5 sec/it\u001b[0m\n",
      "[\u001b[36m07-31 11:39:13\u001b[0m][\u001b[34maudiocraft.utils.samples.manager\u001b[0m][\u001b[33mWARNING\u001b[0m] - Overwriting existing audio file with stem path /home/ubuntu/dora/xps/e9004e30/samples/3/04ba8ff15d299b24eb4110247ce570c19f9998ae_unprompted_description=an-indie-rock-music-piece-with-energetic-guitar-riffs-upbeat-rhythms-and-expressive-melo\u001b[0m\n",
      "[\u001b[36m07-31 11:39:14\u001b[0m][\u001b[34maudiocraft.utils.samples.manager\u001b[0m][\u001b[33mWARNING\u001b[0m] - Overwriting existing audio file with stem path /home/ubuntu/dora/xps/e9004e30/samples/3/e18366c35e23a984f799ae0a9cfa1ba4e9d7c3fe_unprompted_description=an-indie-rock-music-piece-with-energetic-guitar-riffs-upbeat-rhythms-and-expressive-melo\u001b[0m\n",
      "[\u001b[36m07-31 11:39:52\u001b[0m][\u001b[34mflashy.solver\u001b[0m][\u001b[32mINFO\u001b[0m] - Generate | Epoch 3 | 2/3 | 85.4 sec/it\u001b[0m\n",
      "[\u001b[36m07-31 11:39:52\u001b[0m][\u001b[34mflashy.solver\u001b[0m][\u001b[32mINFO\u001b[0m] - \u001b[1mGenerate Summary | Epoch 3 | rtf=1.511 | duration=256.091\u001b[0m\n",
      "[\u001b[36m07-31 11:40:02\u001b[0m][\u001b[34mflashy.solver\u001b[0m][\u001b[32mINFO\u001b[0m] - Model hash: c15ef62c2e18ba819f0ad602f81ab3bdb6a84f6c\u001b[0m\n",
      "[\u001b[36m07-31 11:40:55\u001b[0m][\u001b[34maudiocraft.utils.checkpoint\u001b[0m][\u001b[32mINFO\u001b[0m] - Checkpoint saved to /home/ubuntu/dora/xps/e9004e30/checkpoint_3.th\u001b[0m\n",
      "/home/ubuntu/audiocraft/audiocraft/solvers/musicgen.py:276: UserWarning: Up to version 1.0.1, the _prepare_tokens_and_attributes was evaluated with `torch.no_grad()`. This is inconsistent with how model were trained in the MusicGen paper. We removed the `torch.no_grad()` in version 1.1.0. Small changes to the final performance are expected. Really sorry about that.\n",
      "  warnings.warn(\n",
      "/home/ubuntu/.local/lib/python3.10/site-packages/transformers/models/encodec/modeling_encodec.py:145: UserWarning: called a synchronizing CUDA operation (Triggered internally at ../c10/cuda/CUDAFunctions.cpp:147.)\n",
      "  max_pad = max(padding_left, padding_right)\n",
      "/home/ubuntu/.local/lib/python3.10/site-packages/transformers/models/encodec/modeling_encodec.py:147: UserWarning: called a synchronizing CUDA operation (Triggered internally at ../c10/cuda/CUDAFunctions.cpp:147.)\n",
      "  if length <= max_pad:\n",
      "/home/ubuntu/.local/lib/python3.10/site-packages/transformers/models/encodec/modeling_encodec.py:150: UserWarning: called a synchronizing CUDA operation (Triggered internally at ../c10/cuda/CUDAFunctions.cpp:147.)\n",
      "  padded = nn.functional.pad(hidden_states, paddings, mode, value)\n",
      "/home/ubuntu/audiocraft/audiocraft/solvers/musicgen.py:244: UserWarning: called a synchronizing CUDA operation (Triggered internally at ../c10/cuda/CUDAFunctions.cpp:147.)\n",
      "  ce_targets = targets_k[mask_k]\n",
      "/home/ubuntu/audiocraft/audiocraft/solvers/musicgen.py:245: UserWarning: called a synchronizing CUDA operation (Triggered internally at ../c10/cuda/CUDAFunctions.cpp:147.)\n",
      "  ce_logits = logits_k[mask_k]\n",
      "[\u001b[36m07-31 11:42:23\u001b[0m][\u001b[34mflashy.solver\u001b[0m][\u001b[32mINFO\u001b[0m] - Train | Epoch 4 | 100/1000 | 1.15 it/sec | lr 3.31E-07 | grad_norm 2.584E+00 | ce 4.170 | ppl 70.432\u001b[0m\n",
      "[\u001b[36m07-31 11:43:49\u001b[0m][\u001b[34mflashy.solver\u001b[0m][\u001b[32mINFO\u001b[0m] - Train | Epoch 4 | 200/1000 | 1.15 it/sec | lr 3.01E-07 | grad_norm 2.580E+00 | ce 4.127 | ppl 67.973\u001b[0m\n",
      "[\u001b[36m07-31 11:45:15\u001b[0m][\u001b[34mflashy.solver\u001b[0m][\u001b[32mINFO\u001b[0m] - Train | Epoch 4 | 300/1000 | 1.16 it/sec | lr 2.73E-07 | grad_norm 2.613E+00 | ce 4.099 | ppl 67.561\u001b[0m\n",
      "[\u001b[36m07-31 11:46:42\u001b[0m][\u001b[34mflashy.solver\u001b[0m][\u001b[32mINFO\u001b[0m] - Train | Epoch 4 | 400/1000 | 1.16 it/sec | lr 2.45E-07 | grad_norm 2.595E+00 | ce 4.115 | ppl 68.530\u001b[0m\n",
      "[\u001b[36m07-31 11:48:08\u001b[0m][\u001b[34mflashy.solver\u001b[0m][\u001b[32mINFO\u001b[0m] - Train | Epoch 4 | 500/1000 | 1.16 it/sec | lr 2.19E-07 | grad_norm 2.586E+00 | ce 4.059 | ppl 64.859\u001b[0m\n",
      "[\u001b[36m07-31 11:49:34\u001b[0m][\u001b[34mflashy.solver\u001b[0m][\u001b[32mINFO\u001b[0m] - Train | Epoch 4 | 600/1000 | 1.16 it/sec | lr 1.93E-07 | grad_norm 2.583E+00 | ce 4.074 | ppl 67.364\u001b[0m\n",
      "[\u001b[36m07-31 11:51:01\u001b[0m][\u001b[34mflashy.solver\u001b[0m][\u001b[32mINFO\u001b[0m] - Train | Epoch 4 | 700/1000 | 1.16 it/sec | lr 1.69E-07 | grad_norm 2.575E+00 | ce 4.161 | ppl 70.498\u001b[0m\n",
      "[\u001b[36m07-31 11:52:27\u001b[0m][\u001b[34mflashy.solver\u001b[0m][\u001b[32mINFO\u001b[0m] - Train | Epoch 4 | 800/1000 | 1.16 it/sec | lr 1.46E-07 | grad_norm 2.594E+00 | ce 4.053 | ppl 63.695\u001b[0m\n",
      "[\u001b[36m07-31 11:53:53\u001b[0m][\u001b[34mflashy.solver\u001b[0m][\u001b[32mINFO\u001b[0m] - Train | Epoch 4 | 900/1000 | 1.16 it/sec | lr 1.25E-07 | grad_norm 2.563E+00 | ce 4.154 | ppl 69.331\u001b[0m\n",
      "[\u001b[36m07-31 11:55:20\u001b[0m][\u001b[34mflashy.solver\u001b[0m][\u001b[32mINFO\u001b[0m] - \u001b[1mTrain Summary | Epoch 4 | lr=2.11E-07 | grad_norm=2.586E+00 | ce=4.110 | ppl=67.491 | duration=865.123\u001b[0m\n",
      "[\u001b[36m07-31 11:55:24\u001b[0m][\u001b[34mflashy.solver\u001b[0m][\u001b[32mINFO\u001b[0m] - Valid | Epoch 4 | 1/3 | 2.12 it/sec | ce 4.117 | ppl 64.407\u001b[0m\n",
      "[\u001b[36m07-31 11:55:24\u001b[0m][\u001b[34mflashy.solver\u001b[0m][\u001b[32mINFO\u001b[0m] - Valid | Epoch 4 | 2/3 | 2.12 it/sec | ce 4.584 | ppl 97.911\u001b[0m\n",
      "[\u001b[36m07-31 11:55:24\u001b[0m][\u001b[34mflashy.solver\u001b[0m][\u001b[32mINFO\u001b[0m] - \u001b[1mValid Summary | Epoch 4 | ce=4.273 | ppl=75.575 | duration=1.417\u001b[0m\n",
      "[\u001b[36m07-31 11:55:33\u001b[0m][\u001b[34mflashy.solver\u001b[0m][\u001b[32mINFO\u001b[0m] - Generating samples in /home/ubuntu/dora/xps/e9004e30/samples\u001b[0m\n",
      "CLIPPING /home/ubuntu/dora/xps/e9004e30/samples/4/e456f834c21e1bcfe5a155812b95ac906507b94c_prompted_description=an-indie-rock-music-piece-with-energetic-guitar-riffs-upbeat-rhythms-and-expressive-melo happening with proba (a bit of clipping is okay): 1.0937499610008672e-05 maximum scale:  1.2436485290527344\n",
      "[\u001b[36m07-31 11:57:45\u001b[0m][\u001b[34maudiocraft.utils.samples.manager\u001b[0m][\u001b[33mWARNING\u001b[0m] - Overwriting existing audio file with stem path /home/ubuntu/dora/xps/e9004e30/samples/4/04ba8ff15d299b24eb4110247ce570c19f9998ae_unprompted_description=an-indie-rock-music-piece-with-energetic-guitar-riffs-upbeat-rhythms-and-expressive-melo\u001b[0m\n",
      "[\u001b[36m07-31 11:57:45\u001b[0m][\u001b[34maudiocraft.utils.samples.manager\u001b[0m][\u001b[33mWARNING\u001b[0m] - Overwriting existing audio file with stem path /home/ubuntu/dora/xps/e9004e30/samples/4/e18366c35e23a984f799ae0a9cfa1ba4e9d7c3fe_unprompted_description=an-indie-rock-music-piece-with-energetic-guitar-riffs-upbeat-rhythms-and-expressive-melo\u001b[0m\n",
      "[\u001b[36m07-31 11:58:24\u001b[0m][\u001b[34mflashy.solver\u001b[0m][\u001b[32mINFO\u001b[0m] - Generate | Epoch 4 | 1/3 | 85.8 sec/it\u001b[0m\n",
      "[\u001b[36m07-31 11:59:10\u001b[0m][\u001b[34maudiocraft.utils.samples.manager\u001b[0m][\u001b[33mWARNING\u001b[0m] - Overwriting existing audio file with stem path /home/ubuntu/dora/xps/e9004e30/samples/4/04ba8ff15d299b24eb4110247ce570c19f9998ae_unprompted_description=an-indie-rock-music-piece-with-energetic-guitar-riffs-upbeat-rhythms-and-expressive-melo\u001b[0m\n",
      "[\u001b[36m07-31 11:59:11\u001b[0m][\u001b[34maudiocraft.utils.samples.manager\u001b[0m][\u001b[33mWARNING\u001b[0m] - Overwriting existing audio file with stem path /home/ubuntu/dora/xps/e9004e30/samples/4/e18366c35e23a984f799ae0a9cfa1ba4e9d7c3fe_unprompted_description=an-indie-rock-music-piece-with-energetic-guitar-riffs-upbeat-rhythms-and-expressive-melo\u001b[0m\n",
      "[\u001b[36m07-31 11:59:47\u001b[0m][\u001b[34mflashy.solver\u001b[0m][\u001b[32mINFO\u001b[0m] - Generate | Epoch 4 | 2/3 | 84.9 sec/it\u001b[0m\n",
      "[\u001b[36m07-31 11:59:47\u001b[0m][\u001b[34mflashy.solver\u001b[0m][\u001b[32mINFO\u001b[0m] - \u001b[1mGenerate Summary | Epoch 4 | rtf=1.511 | duration=254.754\u001b[0m\n",
      "[\u001b[36m07-31 11:59:57\u001b[0m][\u001b[34mflashy.solver\u001b[0m][\u001b[32mINFO\u001b[0m] - Model hash: 3524f46db45034530638223b00dfd94345d9acf6\u001b[0m\n",
      "[\u001b[36m07-31 12:00:50\u001b[0m][\u001b[34maudiocraft.utils.checkpoint\u001b[0m][\u001b[32mINFO\u001b[0m] - Checkpoint saved to /home/ubuntu/dora/xps/e9004e30/checkpoint_4.th\u001b[0m\n",
      "/home/ubuntu/audiocraft/audiocraft/solvers/musicgen.py:276: UserWarning: Up to version 1.0.1, the _prepare_tokens_and_attributes was evaluated with `torch.no_grad()`. This is inconsistent with how model were trained in the MusicGen paper. We removed the `torch.no_grad()` in version 1.1.0. Small changes to the final performance are expected. Really sorry about that.\n",
      "  warnings.warn(\n",
      "/home/ubuntu/.local/lib/python3.10/site-packages/transformers/models/encodec/modeling_encodec.py:145: UserWarning: called a synchronizing CUDA operation (Triggered internally at ../c10/cuda/CUDAFunctions.cpp:147.)\n",
      "  max_pad = max(padding_left, padding_right)\n",
      "/home/ubuntu/.local/lib/python3.10/site-packages/transformers/models/encodec/modeling_encodec.py:147: UserWarning: called a synchronizing CUDA operation (Triggered internally at ../c10/cuda/CUDAFunctions.cpp:147.)\n",
      "  if length <= max_pad:\n",
      "/home/ubuntu/.local/lib/python3.10/site-packages/transformers/models/encodec/modeling_encodec.py:150: UserWarning: called a synchronizing CUDA operation (Triggered internally at ../c10/cuda/CUDAFunctions.cpp:147.)\n",
      "  padded = nn.functional.pad(hidden_states, paddings, mode, value)\n",
      "/home/ubuntu/audiocraft/audiocraft/solvers/musicgen.py:244: UserWarning: called a synchronizing CUDA operation (Triggered internally at ../c10/cuda/CUDAFunctions.cpp:147.)\n",
      "  ce_targets = targets_k[mask_k]\n",
      "/home/ubuntu/audiocraft/audiocraft/solvers/musicgen.py:245: UserWarning: called a synchronizing CUDA operation (Triggered internally at ../c10/cuda/CUDAFunctions.cpp:147.)\n",
      "  ce_logits = logits_k[mask_k]\n",
      "[\u001b[36m07-31 12:02:18\u001b[0m][\u001b[34mflashy.solver\u001b[0m][\u001b[32mINFO\u001b[0m] - Train | Epoch 5 | 100/1000 | 1.15 it/sec | lr 8.65E-08 | grad_norm 2.572E+00 | ce 4.086 | ppl 68.403\u001b[0m\n",
      "[\u001b[36m07-31 12:03:44\u001b[0m][\u001b[34mflashy.solver\u001b[0m][\u001b[32mINFO\u001b[0m] - Train | Epoch 5 | 200/1000 | 1.16 it/sec | lr 6.96E-08 | grad_norm 2.599E+00 | ce 4.089 | ppl 66.115\u001b[0m\n",
      "[\u001b[36m07-31 12:05:11\u001b[0m][\u001b[34mflashy.solver\u001b[0m][\u001b[32mINFO\u001b[0m] - Train | Epoch 5 | 300/1000 | 1.15 it/sec | lr 5.45E-08 | grad_norm 2.565E+00 | ce 4.117 | ppl 66.308\u001b[0m\n",
      "[\u001b[36m07-31 12:06:38\u001b[0m][\u001b[34mflashy.solver\u001b[0m][\u001b[32mINFO\u001b[0m] - Train | Epoch 5 | 400/1000 | 1.15 it/sec | lr 4.11E-08 | grad_norm 2.602E+00 | ce 4.075 | ppl 65.604\u001b[0m\n",
      "[\u001b[36m07-31 12:08:03\u001b[0m][\u001b[34mflashy.solver\u001b[0m][\u001b[32mINFO\u001b[0m] - Train | Epoch 5 | 500/1000 | 1.16 it/sec | lr 2.96E-08 | grad_norm 2.594E+00 | ce 4.075 | ppl 65.275\u001b[0m\n",
      "[\u001b[36m07-31 12:09:29\u001b[0m][\u001b[34mflashy.solver\u001b[0m][\u001b[32mINFO\u001b[0m] - Train | Epoch 5 | 600/1000 | 1.16 it/sec | lr 1.99E-08 | grad_norm 2.581E+00 | ce 4.127 | ppl 68.532\u001b[0m\n",
      "[\u001b[36m07-31 12:10:55\u001b[0m][\u001b[34mflashy.solver\u001b[0m][\u001b[32mINFO\u001b[0m] - Train | Epoch 5 | 700/1000 | 1.16 it/sec | lr 1.21E-08 | grad_norm 2.545E+00 | ce 4.118 | ppl 67.560\u001b[0m\n",
      "[\u001b[36m07-31 12:12:21\u001b[0m][\u001b[34mflashy.solver\u001b[0m][\u001b[32mINFO\u001b[0m] - Train | Epoch 5 | 800/1000 | 1.16 it/sec | lr 6.21E-09 | grad_norm 2.581E+00 | ce 4.106 | ppl 66.204\u001b[0m\n",
      "[\u001b[36m07-31 12:13:47\u001b[0m][\u001b[34mflashy.solver\u001b[0m][\u001b[32mINFO\u001b[0m] - Train | Epoch 5 | 900/1000 | 1.16 it/sec | lr 2.29E-09 | grad_norm 2.597E+00 | ce 4.090 | ppl 65.653\u001b[0m\n",
      "[\u001b[36m07-31 12:15:12\u001b[0m][\u001b[34mflashy.solver\u001b[0m][\u001b[32mINFO\u001b[0m] - \u001b[1mTrain Summary | Epoch 5 | lr=3.23E-08 | grad_norm=2.581E+00 | ce=4.098 | ppl=66.692 | duration=862.158\u001b[0m\n",
      "[\u001b[36m07-31 12:15:16\u001b[0m][\u001b[34mflashy.solver\u001b[0m][\u001b[32mINFO\u001b[0m] - Valid | Epoch 5 | 1/3 | 2.16 it/sec | ce 3.922 | ppl 56.170\u001b[0m\n",
      "[\u001b[36m07-31 12:15:16\u001b[0m][\u001b[34mflashy.solver\u001b[0m][\u001b[32mINFO\u001b[0m] - Valid | Epoch 5 | 2/3 | 2.17 it/sec | ce 5.040 | ppl 154.447\u001b[0m\n",
      "[\u001b[36m07-31 12:15:16\u001b[0m][\u001b[34mflashy.solver\u001b[0m][\u001b[32mINFO\u001b[0m] - \u001b[1mValid Summary | Epoch 5 | ce=4.295 | ppl=88.929 | duration=1.382\u001b[0m\n",
      "[\u001b[36m07-31 12:15:24\u001b[0m][\u001b[34mflashy.solver\u001b[0m][\u001b[32mINFO\u001b[0m] - \u001b[1mEvaluate Summary | Epoch 5 | duration=0.002\u001b[0m\n",
      "[\u001b[36m07-31 12:15:24\u001b[0m][\u001b[34mflashy.solver\u001b[0m][\u001b[32mINFO\u001b[0m] - Generating samples in /home/ubuntu/dora/xps/e9004e30/samples\u001b[0m\n",
      "CLIPPING /home/ubuntu/dora/xps/e9004e30/samples/reference/51439fe4fcf72bdbeb9df5876b48384883c1ca1e happening with proba (a bit of clipping is okay): 0.00015104166232049465 maximum scale:  1.330734372138977\n",
      "CLIPPING /home/ubuntu/dora/xps/e9004e30/samples/5/235d512e3eb7554548d4169e12329f0dedd0e792_prompted_description=an-indie-rock-music-piece-with-energetic-guitar-riffs-upbeat-rhythms-and-expressive-melo happening with proba (a bit of clipping is okay): 1.5625000742147677e-05 maximum scale:  1.2614829540252686\n",
      "CLIPPING /home/ubuntu/dora/xps/e9004e30/samples/reference/2449bfc2406d92773ae72e61570c4676078f8790 happening with proba (a bit of clipping is okay): 5.208333391237829e-07 maximum scale:  1.0018073320388794\n",
      "[\u001b[36m07-31 12:17:37\u001b[0m][\u001b[34maudiocraft.utils.samples.manager\u001b[0m][\u001b[33mWARNING\u001b[0m] - Overwriting existing audio file with stem path /home/ubuntu/dora/xps/e9004e30/samples/5/04ba8ff15d299b24eb4110247ce570c19f9998ae_unprompted_description=an-indie-rock-music-piece-with-energetic-guitar-riffs-upbeat-rhythms-and-expressive-melo\u001b[0m\n",
      "[\u001b[36m07-31 12:17:38\u001b[0m][\u001b[34maudiocraft.utils.samples.manager\u001b[0m][\u001b[33mWARNING\u001b[0m] - Overwriting existing audio file with stem path /home/ubuntu/dora/xps/e9004e30/samples/5/e18366c35e23a984f799ae0a9cfa1ba4e9d7c3fe_unprompted_description=an-indie-rock-music-piece-with-energetic-guitar-riffs-upbeat-rhythms-and-expressive-melo\u001b[0m\n",
      "CLIPPING /home/ubuntu/dora/xps/e9004e30/samples/5/prompt/714c57528536b0554a5f8c0d385dfc3121ceab58 happening with proba (a bit of clipping is okay): 2.0833333564951317e-06 maximum scale:  1.0127815008163452\n",
      "CLIPPING /home/ubuntu/dora/xps/e9004e30/samples/5/43402431324213322a08ac485e0d3b53fff51dce_prompted_description=an-indie-rock-music-piece-with-energetic-guitar-riffs-upbeat-rhythms-and-expressive-melo happening with proba (a bit of clipping is okay): 0.00013854166900273412 maximum scale:  1.680486798286438\n",
      "[\u001b[36m07-31 12:18:14\u001b[0m][\u001b[34mflashy.solver\u001b[0m][\u001b[32mINFO\u001b[0m] - Generate | Epoch 5 | 1/3 | 84.7 sec/it\u001b[0m\n",
      "[\u001b[36m07-31 12:18:59\u001b[0m][\u001b[34maudiocraft.utils.samples.manager\u001b[0m][\u001b[33mWARNING\u001b[0m] - Overwriting existing audio file with stem path /home/ubuntu/dora/xps/e9004e30/samples/5/04ba8ff15d299b24eb4110247ce570c19f9998ae_unprompted_description=an-indie-rock-music-piece-with-energetic-guitar-riffs-upbeat-rhythms-and-expressive-melo\u001b[0m\n",
      "[\u001b[36m07-31 12:19:00\u001b[0m][\u001b[34maudiocraft.utils.samples.manager\u001b[0m][\u001b[33mWARNING\u001b[0m] - Overwriting existing audio file with stem path /home/ubuntu/dora/xps/e9004e30/samples/5/e18366c35e23a984f799ae0a9cfa1ba4e9d7c3fe_unprompted_description=an-indie-rock-music-piece-with-energetic-guitar-riffs-upbeat-rhythms-and-expressive-melo\u001b[0m\n",
      "CLIPPING /home/ubuntu/dora/xps/e9004e30/samples/5/b6349286a46ecedcb63b136da8ab2801b6b62129_prompted_description=an-indie-rock-music-piece-with-energetic-guitar-riffs-upbeat-rhythms-and-expressive-melo happening with proba (a bit of clipping is okay): 1.0416666782475659e-06 maximum scale:  1.0521907806396484\n",
      "[\u001b[36m07-31 12:19:39\u001b[0m][\u001b[34mflashy.solver\u001b[0m][\u001b[32mINFO\u001b[0m] - Generate | Epoch 5 | 2/3 | 85.1 sec/it\u001b[0m\n",
      "[\u001b[36m07-31 12:19:39\u001b[0m][\u001b[34mflashy.solver\u001b[0m][\u001b[32mINFO\u001b[0m] - \u001b[1mGenerate Summary | Epoch 5 | rtf=1.559 | duration=255.360\u001b[0m\n",
      "[\u001b[36m07-31 12:19:53\u001b[0m][\u001b[34mflashy.solver\u001b[0m][\u001b[32mINFO\u001b[0m] - Model hash: e4d13024f51c539f5121c49aac5af2da015a85bf\u001b[0m\n",
      "[\u001b[36m07-31 12:20:49\u001b[0m][\u001b[34maudiocraft.utils.checkpoint\u001b[0m][\u001b[32mINFO\u001b[0m] - Checkpoint saved to /home/ubuntu/dora/xps/e9004e30/checkpoint_5.th\u001b[0m\n"
     ]
    }
   ],
   "source": [
    "#@title **<font color='orange'>DO THE TRAINING</font>**\n",
    "#@markdown ---\n",
    "#@markdown <font color='orange'>INSTRUCTIONS</font>\n",
    "\n",
    "#@markdown This is where the `instructions` go\n",
    "\n",
    "#@markdown ---\n",
    "\n",
    "%cd {AUDIOCRAFT_DIR}\n",
    "\n",
    "BENCHMARK_NO_LOAD = 'false'\n",
    "\n",
    "command = (\n",
    "    f\"dora -P audiocraft run\"\n",
    "    f\" fsdp.use=false\"\n",
    "    f\" autocast={AUTOCAST}\"\n",
    "    f\" autocast_dtype={AUTOCAST_DTYPE}\"\n",
    "    f\" benchmark_no_load={BENCHMARK_NO_LOAD}\"\n",
    "    f\" solver={SOLVER}\"\n",
    "    f\" conditioner={CONDITIONER}\"\n",
    "    f\" continue_from={CONTINUE_FROM}\"\n",
    "    f\" channels={CHANNELS}\"\n",
    "    f\" device={DEVICE}\"\n",
    "    f\" dset={DSET}\"\n",
    "    f\" dtype={DTYPE}\"\n",
    "    f\" efficient_attention_backend={EFFICIENT_ATTENTION_BACKEND}\"\n",
    "    f\" label={LABEL}\"\n",
    "    f\" model/lm/model_scale={MODEL_SCALE}\"\n",
    "    f\" num_threads={NUM_THREADS}\"\n",
    "    f\" seed={SEED}\"\n",
    "    f\" show={SHOW_MODEL}\"\n",
    "    f\" codebooks_pattern.delay.delays='[0, 0, 1, 1, 2, 2, 3, 3]'\"\n",
    "    f\" interleave_stereo_codebooks.use={INTERLEAVE_STEREO_CODEBOOKS_USE}\"\n",
    "    f\" transformer_lm.n_q={TRANSFORMER_LM_N_Q}\"\n",
    "    f\" transformer_lm.card={TRANSFORMER_LM_CARD}\"\n",
    "    f\" checkpoint.keep_last={CHECKPOINT_KEEP_LAST}\"\n",
    "    f\" checkpoint.save_every={CHECKPOINT_SAVE_EVERY}\"\n",
    "    f\" checkpoint.save_last={CHECKPOINT_SAVE_LAST}\"\n",
    "    f\" dataset.batch_size={DATASET_BATCH_SIZE}\"\n",
    "    f\" dataset.evaluate.num_samples={DATASET_EVALUATE_NUM_SAMPLES}\"\n",
    "    f\" dataset.generate.num_samples={DATASET_GENERATE_NUM_SAMPLES}\"\n",
    "    f\" dataset.generate.return_info={DATASET_GENERATE_RETURN_INFO}\"\n",
    "    f\" dataset.min_segment_ratio={DATASET_MIN_SEGMENT_RATIO}\"\n",
    "    f\" dataset.num_workers={DATASET_NUM_WORKERS}\"\n",
    "    f\" dataset.sample_on_duration={DATASET_SAMPLE_ON_DURATION}\"\n",
    "    f\" dataset.sample_on_weight={DATASET_SAMPLE_ON_WEIGHT}\"\n",
    "    f\" dataset.segment_duration={DATASET_SEGMENT_DURATION}\"\n",
    "    f\" dataset.shuffle={DATASET_SHUFFLE}\"\n",
    "    f\" dataset.train.drop_desc_p={DATASET_TRAIN_DROP_DESC_P}\"\n",
    "    f\" dataset.train.drop_other_p={DATASET_TRAIN_DROP_OTHER_P}\"\n",
    "    f\" dataset.train.merge_text_p={DATASET_TRAIN_MERGE_TEXT_P}\"\n",
    "    f\" dataset.train.num_samples={DATASET_TRAIN_NUM_SAMPLES}\"\n",
    "    f\" dataset.train.permutation_on_files={DATASET_TRAIN_PERMUTATION_ON_FILES}\"\n",
    "    f\" dataset.train.shuffle={DATASET_TRAIN_SHUFFLE}\"\n",
    "    f\" dataset.train.shuffle_seed={DATASET_TRAIN_SHUFFLE_SEED}\"\n",
    "    f\" dataset.valid.num_samples={DATASET_VALID_NUM_SAMPLES}\"\n",
    "\n",
    "    f\" evaluate.every={EVALUATE_EVERY}\"\n",
    "\n",
    "    f\" generate.every={GENERATE_EVERY}\"\n",
    "\n",
    "    f\" generate.lm.prompted_samples=true\"\n",
    "    f\" generate.lm.unprompted_samples=true\"\n",
    "    f\" generate.lm.gen_gt_samples=false\"\n",
    "\n",
    "    f\" logging.level={LOGGING_LEVEL}\"\n",
    "    f\" logging.log_updates={LOGGING_LOG_UPDATES}\"\n",
    "    f\" logging.log_tensorboard={LOGGING_LOG_TENSORBOARD}\"\n",
    "    f\" logging.log_wandb={LOGGING_LOG_WANDB}\"\n",
    "\n",
    "    f\" optim.optimizer={OPTIM_OPTIMIZER}\"\n",
    "    f\" optim.lr={OPTIM_LR}\"\n",
    "    f\" optim.epochs={OPTIM_EPOCHS}\"\n",
    "    f\" optim.updates_per_epoch={OPTIM_UPDATES_PER_EPOCH}\"\n",
    "    f\" optim.adam.weight_decay={OPTIM_ADAM_WEIGHT_DECAY}\"\n",
    "\n",
    "    f\" schedule.cosine.warmup={SCHEDULE_COSINE_WARMUP}\"\n",
    "    f\" schedule.lr_scheduler={SCHEDULE_LR_SCHEDULER}\"\n",
    "\n",
    "    f\" tensorboard.name={TENSORBOARD_NAME}\"\n",
    "    f\" tensorboard.sub_dir={TENSORBOARD_SUB_DIR}\"\n",
    "    f\" tensorboard.with_media_logging={TENSORBOARD_WITH_MEDIA_LOGGING}\"\n",
    "\n",
    "    f\" wandb.group={WANDB_GROUP}\"\n",
    "    f\" wandb.name={WANDB_NAME}\"\n",
    "    f\" wandb.project={WANDB_PROJECT}\"\n",
    "    f\" wandb.with_media_logging={WANDB_WITH_MEDIA_LOGGING}\"\n",
    "    )\n",
    "\n",
    "print(f'{command}')\n",
    "!{command}\n"
   ]
  },
  {
   "cell_type": "code",
   "execution_count": 8,
   "id": "bae4033c-58fa-40e8-8ad6-e93490609973",
   "metadata": {
    "scrolled": true
   },
   "outputs": [
    {
     "name": "stderr",
     "output_type": "stream",
     "text": [
      "Dora directory: /tmp/audiocraft_ubuntu\n"
     ]
    },
    {
     "name": "stdout",
     "output_type": "stream",
     "text": [
      "SIG_LOCAL_DIR = /home/ubuntu//homme/ubuntu/musicgen_finetunes/Spin-trak-classical_5\n",
      "CHECKPOINT_PATH = /home/ubuntu/dora/xps/Spin-trak-classical/checkpoint_5.th\n",
      "Created directory: /home/ubuntu//homme/ubuntu/musicgen_finetunes/Spin-trak-classical_5\n",
      "Exporting language model from /home/ubuntu/dora/xps/Spin-trak-classical/checkpoint_5.th...\n"
     ]
    },
    {
     "ename": "KeyboardInterrupt",
     "evalue": "",
     "output_type": "error",
     "traceback": [
      "\u001b[0;31m---------------------------------------------------------------------------\u001b[0m",
      "\u001b[0;31mKeyboardInterrupt\u001b[0m                         Traceback (most recent call last)",
      "\u001b[0;32m/tmp/ipykernel_83427/3236549736.py\u001b[0m in \u001b[0;36m<module>\u001b[0;34m\u001b[0m\n\u001b[1;32m     42\u001b[0m     \u001b[0mprint\u001b[0m\u001b[0;34m(\u001b[0m\u001b[0;34mf'Exporting language model from {CHECKPOINT_PATH}...'\u001b[0m\u001b[0;34m)\u001b[0m\u001b[0;34m\u001b[0m\u001b[0;34m\u001b[0m\u001b[0m\n\u001b[1;32m     43\u001b[0m     \u001b[0;32mtry\u001b[0m\u001b[0;34m:\u001b[0m\u001b[0;34m\u001b[0m\u001b[0;34m\u001b[0m\u001b[0m\n\u001b[0;32m---> 44\u001b[0;31m         \u001b[0mexport\u001b[0m\u001b[0;34m.\u001b[0m\u001b[0mexport_lm\u001b[0m\u001b[0;34m(\u001b[0m\u001b[0mCHECKPOINT_PATH\u001b[0m\u001b[0;34m,\u001b[0m \u001b[0;34mf'{SIG_LOCAL_DIR}/state_dict.bin'\u001b[0m\u001b[0;34m)\u001b[0m\u001b[0;34m\u001b[0m\u001b[0;34m\u001b[0m\u001b[0m\n\u001b[0m\u001b[1;32m     45\u001b[0m         \u001b[0mprint\u001b[0m\u001b[0;34m(\u001b[0m\u001b[0;34mf'✓ Language model exported successfully'\u001b[0m\u001b[0;34m)\u001b[0m\u001b[0;34m\u001b[0m\u001b[0;34m\u001b[0m\u001b[0m\n\u001b[1;32m     46\u001b[0m     \u001b[0;32mexcept\u001b[0m \u001b[0mException\u001b[0m \u001b[0;32mas\u001b[0m \u001b[0me\u001b[0m\u001b[0;34m:\u001b[0m\u001b[0;34m\u001b[0m\u001b[0;34m\u001b[0m\u001b[0m\n",
      "\u001b[0;32m~/audiocraft/audiocraft/utils/export.py\u001b[0m in \u001b[0;36mexport_lm\u001b[0;34m(checkpoint_path, out_file)\u001b[0m\n\u001b[1;32m     62\u001b[0m     \"\"\"Export only the best state from the given MusicGen or AudioGen checkpoint.\n\u001b[1;32m     63\u001b[0m     \"\"\"\n\u001b[0;32m---> 64\u001b[0;31m     \u001b[0mpkg\u001b[0m \u001b[0;34m=\u001b[0m \u001b[0mtorch\u001b[0m\u001b[0;34m.\u001b[0m\u001b[0mload\u001b[0m\u001b[0;34m(\u001b[0m\u001b[0mcheckpoint_path\u001b[0m\u001b[0;34m,\u001b[0m \u001b[0;34m'cpu'\u001b[0m\u001b[0;34m)\u001b[0m\u001b[0;34m\u001b[0m\u001b[0;34m\u001b[0m\u001b[0m\n\u001b[0m\u001b[1;32m     65\u001b[0m     \u001b[0;32mif\u001b[0m \u001b[0mpkg\u001b[0m\u001b[0;34m[\u001b[0m\u001b[0;34m'fsdp_best_state'\u001b[0m\u001b[0;34m]\u001b[0m\u001b[0;34m:\u001b[0m\u001b[0;34m\u001b[0m\u001b[0;34m\u001b[0m\u001b[0m\n\u001b[1;32m     66\u001b[0m         \u001b[0mbest_state\u001b[0m \u001b[0;34m=\u001b[0m \u001b[0mpkg\u001b[0m\u001b[0;34m[\u001b[0m\u001b[0;34m'fsdp_best_state'\u001b[0m\u001b[0;34m]\u001b[0m\u001b[0;34m[\u001b[0m\u001b[0;34m'model'\u001b[0m\u001b[0;34m]\u001b[0m\u001b[0;34m\u001b[0m\u001b[0;34m\u001b[0m\u001b[0m\n",
      "\u001b[0;32m~/.local/lib/python3.10/site-packages/torch/serialization.py\u001b[0m in \u001b[0;36mload\u001b[0;34m(f, map_location, pickle_module, weights_only, mmap, **pickle_load_args)\u001b[0m\n\u001b[1;32m   1012\u001b[0m                     \u001b[0;32mexcept\u001b[0m \u001b[0mRuntimeError\u001b[0m \u001b[0;32mas\u001b[0m \u001b[0me\u001b[0m\u001b[0;34m:\u001b[0m\u001b[0;34m\u001b[0m\u001b[0;34m\u001b[0m\u001b[0m\n\u001b[1;32m   1013\u001b[0m                         \u001b[0;32mraise\u001b[0m \u001b[0mpickle\u001b[0m\u001b[0;34m.\u001b[0m\u001b[0mUnpicklingError\u001b[0m\u001b[0;34m(\u001b[0m\u001b[0mUNSAFE_MESSAGE\u001b[0m \u001b[0;34m+\u001b[0m \u001b[0mstr\u001b[0m\u001b[0;34m(\u001b[0m\u001b[0me\u001b[0m\u001b[0;34m)\u001b[0m\u001b[0;34m)\u001b[0m \u001b[0;32mfrom\u001b[0m \u001b[0;32mNone\u001b[0m\u001b[0;34m\u001b[0m\u001b[0;34m\u001b[0m\u001b[0m\n\u001b[0;32m-> 1014\u001b[0;31m                 return _load(opened_zipfile,\n\u001b[0m\u001b[1;32m   1015\u001b[0m                              \u001b[0mmap_location\u001b[0m\u001b[0;34m,\u001b[0m\u001b[0;34m\u001b[0m\u001b[0;34m\u001b[0m\u001b[0m\n\u001b[1;32m   1016\u001b[0m                              \u001b[0mpickle_module\u001b[0m\u001b[0;34m,\u001b[0m\u001b[0;34m\u001b[0m\u001b[0;34m\u001b[0m\u001b[0m\n",
      "\u001b[0;32m~/.local/lib/python3.10/site-packages/torch/serialization.py\u001b[0m in \u001b[0;36m_load\u001b[0;34m(zip_file, map_location, pickle_module, pickle_file, overall_storage, **pickle_load_args)\u001b[0m\n\u001b[1;32m   1420\u001b[0m     \u001b[0munpickler\u001b[0m \u001b[0;34m=\u001b[0m \u001b[0mUnpicklerWrapper\u001b[0m\u001b[0;34m(\u001b[0m\u001b[0mdata_file\u001b[0m\u001b[0;34m,\u001b[0m \u001b[0;34m**\u001b[0m\u001b[0mpickle_load_args\u001b[0m\u001b[0;34m)\u001b[0m\u001b[0;34m\u001b[0m\u001b[0;34m\u001b[0m\u001b[0m\n\u001b[1;32m   1421\u001b[0m     \u001b[0munpickler\u001b[0m\u001b[0;34m.\u001b[0m\u001b[0mpersistent_load\u001b[0m \u001b[0;34m=\u001b[0m \u001b[0mpersistent_load\u001b[0m\u001b[0;34m\u001b[0m\u001b[0;34m\u001b[0m\u001b[0m\n\u001b[0;32m-> 1422\u001b[0;31m     \u001b[0mresult\u001b[0m \u001b[0;34m=\u001b[0m \u001b[0munpickler\u001b[0m\u001b[0;34m.\u001b[0m\u001b[0mload\u001b[0m\u001b[0;34m(\u001b[0m\u001b[0;34m)\u001b[0m\u001b[0;34m\u001b[0m\u001b[0;34m\u001b[0m\u001b[0m\n\u001b[0m\u001b[1;32m   1423\u001b[0m \u001b[0;34m\u001b[0m\u001b[0m\n\u001b[1;32m   1424\u001b[0m     \u001b[0mtorch\u001b[0m\u001b[0;34m.\u001b[0m\u001b[0m_utils\u001b[0m\u001b[0;34m.\u001b[0m\u001b[0m_validate_loaded_sparse_tensors\u001b[0m\u001b[0;34m(\u001b[0m\u001b[0;34m)\u001b[0m\u001b[0;34m\u001b[0m\u001b[0;34m\u001b[0m\u001b[0m\n",
      "\u001b[0;32m~/.local/lib/python3.10/site-packages/torch/serialization.py\u001b[0m in \u001b[0;36mpersistent_load\u001b[0;34m(saved_id)\u001b[0m\n\u001b[1;32m   1390\u001b[0m         \u001b[0;32melse\u001b[0m\u001b[0;34m:\u001b[0m\u001b[0;34m\u001b[0m\u001b[0;34m\u001b[0m\u001b[0m\n\u001b[1;32m   1391\u001b[0m             \u001b[0mnbytes\u001b[0m \u001b[0;34m=\u001b[0m \u001b[0mnumel\u001b[0m \u001b[0;34m*\u001b[0m \u001b[0mtorch\u001b[0m\u001b[0;34m.\u001b[0m\u001b[0m_utils\u001b[0m\u001b[0;34m.\u001b[0m\u001b[0m_element_size\u001b[0m\u001b[0;34m(\u001b[0m\u001b[0mdtype\u001b[0m\u001b[0;34m)\u001b[0m\u001b[0;34m\u001b[0m\u001b[0;34m\u001b[0m\u001b[0m\n\u001b[0;32m-> 1392\u001b[0;31m             \u001b[0mtyped_storage\u001b[0m \u001b[0;34m=\u001b[0m \u001b[0mload_tensor\u001b[0m\u001b[0;34m(\u001b[0m\u001b[0mdtype\u001b[0m\u001b[0;34m,\u001b[0m \u001b[0mnbytes\u001b[0m\u001b[0;34m,\u001b[0m \u001b[0mkey\u001b[0m\u001b[0;34m,\u001b[0m \u001b[0m_maybe_decode_ascii\u001b[0m\u001b[0;34m(\u001b[0m\u001b[0mlocation\u001b[0m\u001b[0;34m)\u001b[0m\u001b[0;34m)\u001b[0m\u001b[0;34m\u001b[0m\u001b[0;34m\u001b[0m\u001b[0m\n\u001b[0m\u001b[1;32m   1393\u001b[0m \u001b[0;34m\u001b[0m\u001b[0m\n\u001b[1;32m   1394\u001b[0m         \u001b[0;32mreturn\u001b[0m \u001b[0mtyped_storage\u001b[0m\u001b[0;34m\u001b[0m\u001b[0;34m\u001b[0m\u001b[0m\n",
      "\u001b[0;32m~/.local/lib/python3.10/site-packages/torch/serialization.py\u001b[0m in \u001b[0;36mload_tensor\u001b[0;34m(dtype, numel, key, location)\u001b[0m\n\u001b[1;32m   1355\u001b[0m             \u001b[0mstorage\u001b[0m \u001b[0;34m=\u001b[0m \u001b[0moverall_storage\u001b[0m\u001b[0;34m[\u001b[0m\u001b[0mstorage_offset\u001b[0m\u001b[0;34m:\u001b[0m\u001b[0mstorage_offset\u001b[0m \u001b[0;34m+\u001b[0m \u001b[0mnumel\u001b[0m\u001b[0;34m]\u001b[0m\u001b[0;34m\u001b[0m\u001b[0;34m\u001b[0m\u001b[0m\n\u001b[1;32m   1356\u001b[0m         \u001b[0;32melse\u001b[0m\u001b[0;34m:\u001b[0m\u001b[0;34m\u001b[0m\u001b[0;34m\u001b[0m\u001b[0m\n\u001b[0;32m-> 1357\u001b[0;31m             \u001b[0mstorage\u001b[0m \u001b[0;34m=\u001b[0m \u001b[0mzip_file\u001b[0m\u001b[0;34m.\u001b[0m\u001b[0mget_storage_from_record\u001b[0m\u001b[0;34m(\u001b[0m\u001b[0mname\u001b[0m\u001b[0;34m,\u001b[0m \u001b[0mnumel\u001b[0m\u001b[0;34m,\u001b[0m \u001b[0mtorch\u001b[0m\u001b[0;34m.\u001b[0m\u001b[0mUntypedStorage\u001b[0m\u001b[0;34m)\u001b[0m\u001b[0;34m.\u001b[0m\u001b[0m_typed_storage\u001b[0m\u001b[0;34m(\u001b[0m\u001b[0;34m)\u001b[0m\u001b[0;34m.\u001b[0m\u001b[0m_untyped_storage\u001b[0m\u001b[0;34m\u001b[0m\u001b[0;34m\u001b[0m\u001b[0m\n\u001b[0m\u001b[1;32m   1358\u001b[0m         \u001b[0;31m# swap here if byteswapping is needed\u001b[0m\u001b[0;34m\u001b[0m\u001b[0;34m\u001b[0m\u001b[0m\n\u001b[1;32m   1359\u001b[0m         \u001b[0;32mif\u001b[0m \u001b[0mbyteorderdata\u001b[0m \u001b[0;32mis\u001b[0m \u001b[0;32mnot\u001b[0m \u001b[0;32mNone\u001b[0m\u001b[0;34m:\u001b[0m\u001b[0;34m\u001b[0m\u001b[0;34m\u001b[0m\u001b[0m\n",
      "\u001b[0;31mKeyboardInterrupt\u001b[0m: "
     ]
    }
   ],
   "source": [
    "#!/usr/bin/env python3\n",
    "\n",
    "import os\n",
    "import shutil\n",
    "from pathlib import Path\n",
    "\n",
    "# Configuration\n",
    "ROOT_DIR = '/home/ubuntu'\n",
    "AUDIOCRAFT_DIR = f'{ROOT_DIR}/audiocraft'  # Adjust if audiocraft is in a different location\n",
    "\n",
    "# Change to audiocraft directory\n",
    "os.chdir(AUDIOCRAFT_DIR)\n",
    "\n",
    "from audiocraft.utils import export\n",
    "from audiocraft import train\n",
    "import audiocraft\n",
    "\n",
    "# Configuration parameters\n",
    "DO_EXPORT = True\n",
    "MUSICGEN_FINETUNES_DIR = '/homme/ubuntu/musicgen_finetunes'\n",
    "SIG = 'Spin-trak-classical'  # Your model signature\n",
    "EPOCH = 5\n",
    "SIG_EPOCH = f'{SIG}_{EPOCH}'\n",
    "\n",
    "# Directory paths\n",
    "SIG_LOCAL_DIR = f'{ROOT_DIR}/{MUSICGEN_FINETUNES_DIR}/{SIG_EPOCH}'\n",
    "CHECKPOINT_PATH = f'{ROOT_DIR}/dora/xps/{SIG}/checkpoint_{EPOCH}.th'\n",
    "\n",
    "print(f'SIG_LOCAL_DIR = {SIG_LOCAL_DIR}')\n",
    "print(f'CHECKPOINT_PATH = {CHECKPOINT_PATH}')\n",
    "\n",
    "# Create output directory\n",
    "os.makedirs(SIG_LOCAL_DIR, exist_ok=True)\n",
    "print(f'Created directory: {SIG_LOCAL_DIR}')\n",
    "\n",
    "if DO_EXPORT:\n",
    "    # Check if checkpoint file exists\n",
    "    if not os.path.exists(CHECKPOINT_PATH):\n",
    "        print(f'ERROR: Checkpoint file not found at {CHECKPOINT_PATH}')\n",
    "        exit(1)\n",
    "    \n",
    "    print(f'Exporting language model from {CHECKPOINT_PATH}...')\n",
    "    try:\n",
    "        export.export_lm(CHECKPOINT_PATH, f'{SIG_LOCAL_DIR}/state_dict.bin')\n",
    "        print(f'✓ Language model exported successfully')\n",
    "    except Exception as e:\n",
    "        print(f'ERROR exporting language model: {e}')\n",
    "        exit(1)\n",
    "\n",
    "    print(f'Exporting encodec compression model...')\n",
    "    try:\n",
    "        export.export_pretrained_compression_model('facebook/encodec_32khz', f'{SIG_LOCAL_DIR}/compression_state_dict.bin')\n",
    "        print(f'✓ Compression model exported successfully')\n",
    "    except Exception as e:\n",
    "        print(f'ERROR exporting compression model: {e}')\n",
    "        exit(1)\n",
    "\n",
    "    print(f'Export completed successfully!')\n",
    "    print(f'Exported files location: {SIG_LOCAL_DIR}')\n",
    "    print(f'Files created:')\n",
    "    for file in os.listdir(SIG_LOCAL_DIR):\n",
    "        file_path = os.path.join(SIG_LOCAL_DIR, file)\n",
    "        size = os.path.getsize(file_path) / (1024*1024)  # Size in MB\n",
    "        print(f'  - {file} ({size:.1f} MB)')\n",
    "\n",
    "else:\n",
    "    print(f'Export skipped (DO_EXPORT = False)')\n",
    "\n",
    "print(f'Done.')"
   ]
  },
  {
   "cell_type": "code",
   "execution_count": 22,
   "id": "4bb83e42-8adb-48db-a58b-d71b5e94f246",
   "metadata": {},
   "outputs": [
    {
     "name": "stdout",
     "output_type": "stream",
     "text": [
      "Loading model: /home/ubuntu/homme/ubuntu/musicgen_finetunes/Spin-trak-indie-rock\n",
      "✓ Found state_dict.bin (6276.4 MB)\n",
      "✓ Found compression_state_dict.bin (0.0 MB)\n",
      "Loading MusicGen model from /home/ubuntu/homme/ubuntu/musicgen_finetunes/Spin-trak-indie-rock...\n",
      "✓ Model loaded successfully!\n",
      "Model device: cuda:0\n",
      "Model ready for inference.\n",
      "Done.\n"
     ]
    }
   ],
   "source": [
    "#!/usr/bin/env python3\n",
    "\n",
    "import os\n",
    "from pathlib import Path\n",
    "\n",
    "# Configuration\n",
    "ROOT_DIR = '/home/ubuntu'\n",
    "SIG = 'Spin-trak-indie-rock'  # Your model signature\n",
    "\n",
    "# Loading a finetune for inference:\n",
    "from audiocraft.models import MusicGen\n",
    "\n",
    "# Path to your exported model\n",
    "MODEL_DESCRIPTOR = f'/home/ubuntu/homme/ubuntu/musicgen_finetunes/{SIG}'\n",
    "\n",
    "# Alternative model options (commented out):\n",
    "# MODEL_DESCRIPTOR = 'facebook/musicgen-stereo-small'\n",
    "# MODEL_DESCRIPTOR = 'facebook/musicgen-stereo-medium' \n",
    "# MODEL_DESCRIPTOR = 'facebook/musicgen-stereo-large'\n",
    "\n",
    "print(f'Loading model: {MODEL_DESCRIPTOR}')\n",
    "\n",
    "# Check if the model directory exists\n",
    "if not os.path.exists(MODEL_DESCRIPTOR):\n",
    "    print(f'ERROR: Model directory not found at {MODEL_DESCRIPTOR}')\n",
    "    print(f'Please make sure the export was successful and the path is correct.')\n",
    "    exit(1)\n",
    "\n",
    "# Check if required files exist\n",
    "required_files = ['state_dict.bin', 'compression_state_dict.bin']\n",
    "for file in required_files:\n",
    "    file_path = os.path.join(MODEL_DESCRIPTOR, file)\n",
    "    if not os.path.exists(file_path):\n",
    "        print(f'ERROR: Required file not found: {file_path}')\n",
    "        exit(1)\n",
    "    else:\n",
    "        size = os.path.getsize(file_path) / (1024*1024)  # Size in MB\n",
    "        print(f'✓ Found {file} ({size:.1f} MB)')\n",
    "\n",
    "print(f'Loading MusicGen model from {MODEL_DESCRIPTOR}...')\n",
    "\n",
    "try:\n",
    "    # Load the model (will use GPU if available)\n",
    "    musicgen = MusicGen.get_pretrained(MODEL_DESCRIPTOR, device='cuda')\n",
    "    print(f'✓ Model loaded successfully!')\n",
    "    \n",
    "    # Check model device properly\n",
    "    try:\n",
    "        if hasattr(musicgen, 'compression_model'):\n",
    "            device = next(musicgen.compression_model.parameters()).device\n",
    "            print(f'Model device: {device}')\n",
    "        else:\n",
    "            print(f'Model loaded on specified device: cuda')\n",
    "    except:\n",
    "        print(f'Model loaded on specified device: cuda')\n",
    "    \n",
    "    print(f'Model ready for inference.')\n",
    "    \n",
    "except Exception as e:\n",
    "    print(f'ERROR loading model: {e}')\n",
    "    print(f'Trying CPU fallback...')\n",
    "    try:\n",
    "        musicgen = MusicGen.get_pretrained(MODEL_DESCRIPTOR, device='cpu')\n",
    "        print(f'✓ Model loaded on CPU successfully!')\n",
    "    except Exception as e2:\n",
    "        print(f'ERROR loading model on CPU: {e2}')\n",
    "        exit(1)\n",
    "\n",
    "print(f'Done.')"
   ]
  },
  {
   "cell_type": "code",
   "execution_count": 23,
   "id": "463d2775-ca7c-4d10-b47c-1908e8b6e8a1",
   "metadata": {},
   "outputs": [
    {
     "name": "stdout",
     "output_type": "stream",
     "text": [
      "use_sampling=True\n",
      "top_k=250\n",
      "top_p=0\n",
      "temperature=1.0\n",
      "cfg_coef=7.0\n",
      "duration=30\n",
      "strategy='loudness'\n",
      "loudness_compressor=True\n",
      "seed=15\n",
      "num_tracks=1\n",
      "descriptions=['Lo-fi indie-rock jam with raw guitar riffs, steady drum beat, and a relaxed vibe, recorded with vintage-style production.']\n",
      "two_step_cfg=False\n",
      "do_unconditional=False\n",
      "do_conditional=True\n",
      "do_continue=False\n",
      "do_bip_bip=False\n",
      "\n",
      "Using random seed: 334466799\n",
      "num_tracks: 1\n",
      "Generating ...\n",
      "Generating conditional sample (30 seconds)...\n",
      "Saved: generated_audio/20250801_073149_cond_0.wav\n",
      "✓ Conditional generation completed - 30 second track generated!\n",
      "Done! Check the \"generated_audio\" folder for your 30-second track.\n",
      "Generation completed at: 2025-08-01 07:32:34.702755\n"
     ]
    }
   ],
   "source": [
    "#!/usr/bin/env python3\n",
    "\n",
    "import os\n",
    "import torch\n",
    "import torchaudio\n",
    "import random\n",
    "import numpy as np\n",
    "from datetime import datetime\n",
    "from pathlib import Path\n",
    "\n",
    "# Assuming your musicgen model is already loaded\n",
    "# musicgen = MusicGen.get_pretrained(MODEL_DESCRIPTOR, device='cuda')\n",
    "\n",
    "# Configuration parameters\n",
    "use_sampling = True # hardcode this\n",
    "sample_rate = 32000\n",
    "top_k = 250\n",
    "top_p = 0\n",
    "temperature = 1.0\n",
    "cfg_coef = 7.0\n",
    "duration = 30  # 30 seconds only\n",
    "two_step_cfg = False\n",
    "\n",
    "strategy = \"loudness\"  # [\"loudness\", \"peak\"]\n",
    "loudness_compressor = True\n",
    "\n",
    "seed = 15\n",
    "\n",
    "# Generation settings\n",
    "descriptions = \"Lo-fi indie-rock jam with raw guitar riffs, steady drum beat, and a relaxed vibe, recorded with vintage-style production.\"  # Your prompt\n",
    "num_tracks = 1  # Only one track\n",
    "descriptions = [descriptions] * num_tracks\n",
    "\n",
    "extend_stride=15\n",
    "\n",
    "do_unconditional = False  # Only conditional\n",
    "do_conditional = True\n",
    "do_continue = False  # Disabled\n",
    "do_bip_bip = False  # Disabled\n",
    "\n",
    "# Helper functions\n",
    "def get_timestamp():\n",
    "    return datetime.now().strftime(\"%Y%m%d_%H%M%S\")\n",
    "\n",
    "def set_all_seeds(seed):\n",
    "    random.seed(seed)\n",
    "    os.environ[\"PYTHONHASHSEED\"] = str(seed)\n",
    "    np.random.seed(seed)\n",
    "    torch.manual_seed(seed)\n",
    "    torch.cuda.manual_seed(seed)\n",
    "    torch.backends.cudnn.deterministic = True\n",
    "\n",
    "def save_audio(audio_tensor, sample_rate, filename):\n",
    "    \"\"\"Save audio tensor to file\"\"\"\n",
    "    output_dir = \"generated_audio\"\n",
    "    os.makedirs(output_dir, exist_ok=True)\n",
    "    \n",
    "    filepath = os.path.join(output_dir, f\"{filename}.wav\")\n",
    "    \n",
    "    # Ensure audio is in the right format (channels, samples)\n",
    "    if audio_tensor.dim() == 3:  # (batch, channels, samples)\n",
    "        for i, audio in enumerate(audio_tensor):\n",
    "            file_path = os.path.join(output_dir, f\"{filename}_{i}.wav\")\n",
    "            torchaudio.save(file_path, audio.cpu(), sample_rate)\n",
    "            print(f\"Saved: {file_path}\")\n",
    "    else:  # (channels, samples)\n",
    "        torchaudio.save(filepath, audio_tensor.cpu(), sample_rate)\n",
    "        print(f\"Saved: {filepath}\")\n",
    "\n",
    "def get_bip_bip(bip_duration=0.250, frequency=220, duration=1.0, sample_rate=32000):\n",
    "    \"\"\"Generate a simple bip bip audio prompt\"\"\"\n",
    "    total_samples = int(duration * sample_rate)\n",
    "    bip_samples = int(bip_duration * sample_rate)\n",
    "    \n",
    "    # Create silence\n",
    "    audio = torch.zeros(1, total_samples)\n",
    "    \n",
    "    # Add two bips\n",
    "    t = torch.linspace(0, bip_duration, bip_samples)\n",
    "    bip = torch.sin(2 * torch.pi * frequency * t) * 0.5\n",
    "    \n",
    "    # First bip at 0.1s, second bip at 0.5s\n",
    "    start1 = int(0.1 * sample_rate)\n",
    "    start2 = int(0.5 * sample_rate)\n",
    "    \n",
    "    if start1 + bip_samples <= total_samples:\n",
    "        audio[0, start1:start1 + bip_samples] = bip\n",
    "    if start2 + bip_samples <= total_samples:\n",
    "        audio[0, start2:start2 + bip_samples] = bip\n",
    "    \n",
    "    return audio\n",
    "\n",
    "# Print configuration\n",
    "print(f'{use_sampling=}')\n",
    "print(f'{top_k=}')\n",
    "print(f'{top_p=}')\n",
    "print(f'{temperature=}')\n",
    "print(f'{cfg_coef=}')\n",
    "print(f'{duration=}')\n",
    "print(f'{strategy=}')\n",
    "print(f'{loudness_compressor=}')\n",
    "print(f'{seed=}')\n",
    "print(f'{num_tracks=}')\n",
    "print(f'{descriptions=}')\n",
    "print(f'{two_step_cfg=}')\n",
    "print(f'{do_unconditional=}')\n",
    "print(f'{do_conditional=}')\n",
    "print(f'{do_continue=}')\n",
    "print(f'{do_bip_bip=}')\n",
    "print()\n",
    "\n",
    "# Set random seed\n",
    "seed = random.randint(0, 2**31 - 1)\n",
    "set_all_seeds(seed)\n",
    "print(f'Using random seed: {seed}')\n",
    "\n",
    "# Configure the model\n",
    "musicgen.set_generation_params(\n",
    "    use_sampling=use_sampling,\n",
    "    top_k=top_k,\n",
    "    top_p=top_p,\n",
    "    temperature=temperature,\n",
    "    cfg_coef=cfg_coef,\n",
    "    duration=duration,\n",
    "    extend_stride=extend_stride,\n",
    "    two_step_cfg=two_step_cfg,\n",
    ")\n",
    "\n",
    "print(f'num_tracks: {num_tracks}')\n",
    "print(f'Generating ...')\n",
    "\n",
    "label = get_timestamp()\n",
    "\n",
    "# Only generate conditional sample\n",
    "print(f'Generating conditional sample (30 seconds)...')\n",
    "try:\n",
    "    audios = musicgen.generate(descriptions, progress=True)\n",
    "    save_audio(audios, sample_rate, f'{label}_cond')\n",
    "    print(f'✓ Conditional generation completed - 30 second track generated!')\n",
    "except Exception as e:\n",
    "    print(f'Error in conditional generation: {e}')\n",
    "\n",
    "print(f'Done! Check the \"generated_audio\" folder for your 30-second track.')\n",
    "print(f'Generation completed at: {datetime.now()}')\n"
   ]
  },
  {
   "cell_type": "code",
   "execution_count": null,
   "id": "40699810-0f63-44d4-923b-99e0dd258ea9",
   "metadata": {},
   "outputs": [],
   "source": []
  }
 ],
 "metadata": {
  "kernelspec": {
   "display_name": "Python 3 (ipykernel)",
   "language": "python",
   "name": "python3"
  },
  "language_info": {
   "codemirror_mode": {
    "name": "ipython",
    "version": 3
   },
   "file_extension": ".py",
   "mimetype": "text/x-python",
   "name": "python",
   "nbconvert_exporter": "python",
   "pygments_lexer": "ipython3",
   "version": "3.10.12"
  }
 },
 "nbformat": 4,
 "nbformat_minor": 5
}
